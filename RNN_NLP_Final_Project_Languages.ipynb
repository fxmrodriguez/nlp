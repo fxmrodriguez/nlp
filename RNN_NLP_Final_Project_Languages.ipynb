{
  "cells": [
    {
      "cell_type": "markdown",
      "metadata": {
        "id": "hw_jNHbusiW3"
      },
      "source": [
        "#### imports"
      ]
    },
    {
      "cell_type": "code",
      "execution_count": null,
      "metadata": {
        "id": "kPqGCyTUj-PA"
      },
      "outputs": [],
      "source": [
        "import numpy as np \n",
        "import pandas as pd\n",
        "import re\n",
        "import string\n",
        "from gensim.models import Word2Vec\n",
        "\n",
        "import tensorflow.keras as tfk\n",
        "\n",
        "from keras.preprocessing.text import Tokenizer\n",
        "from keras.utils import to_categorical\n",
        "from keras.models import Sequential\n",
        "from keras.layers import Dense\n",
        "from keras import layers\n",
        "\n",
        "from sklearn.feature_extraction.text import TfidfVectorizer\n",
        "from sklearn.naive_bayes import MultinomialNB\n",
        "\n",
        "from sklearn.metrics import confusion_matrix, accuracy_score\n",
        "import seaborn as sns\n",
        "from sklearn.manifold import TSNE\n",
        "import matplotlib.pyplot as plt\n",
        "import matplotlib.cm as cm"
      ]
    },
    {
      "cell_type": "code",
      "execution_count": null,
      "metadata": {
        "colab": {
          "base_uri": "https://localhost:8080/"
        },
        "id": "r7ngvtLZlYNo",
        "outputId": "19ddda39-474f-43e8-9bbf-b5247f43b74f"
      },
      "outputs": [
        {
          "output_type": "stream",
          "name": "stdout",
          "text": [
            "Looking in indexes: https://pypi.org/simple, https://us-python.pkg.dev/colab-wheels/public/simple/\n",
            "Requirement already satisfied: kaggle in /usr/local/lib/python3.10/dist-packages (1.5.13)\n",
            "Requirement already satisfied: python-slugify in /usr/local/lib/python3.10/dist-packages (from kaggle) (8.0.1)\n",
            "Requirement already satisfied: urllib3 in /usr/local/lib/python3.10/dist-packages (from kaggle) (1.26.15)\n",
            "Requirement already satisfied: python-dateutil in /usr/local/lib/python3.10/dist-packages (from kaggle) (2.8.2)\n",
            "Requirement already satisfied: requests in /usr/local/lib/python3.10/dist-packages (from kaggle) (2.27.1)\n",
            "Requirement already satisfied: certifi in /usr/local/lib/python3.10/dist-packages (from kaggle) (2022.12.7)\n",
            "Requirement already satisfied: tqdm in /usr/local/lib/python3.10/dist-packages (from kaggle) (4.65.0)\n",
            "Requirement already satisfied: six>=1.10 in /usr/local/lib/python3.10/dist-packages (from kaggle) (1.16.0)\n",
            "Requirement already satisfied: text-unidecode>=1.3 in /usr/local/lib/python3.10/dist-packages (from python-slugify->kaggle) (1.3)\n",
            "Requirement already satisfied: charset-normalizer~=2.0.0 in /usr/local/lib/python3.10/dist-packages (from requests->kaggle) (2.0.12)\n",
            "Requirement already satisfied: idna<4,>=2.5 in /usr/local/lib/python3.10/dist-packages (from requests->kaggle) (3.4)\n"
          ]
        }
      ],
      "source": [
        "# we are only submitting the notebook, so you will likley need your own kaggle API Token\n",
        "# file (json) to be able to run these commands. read more about it here:\n",
        "# https://www.analyticsvidhya.com/blog/2021/06/how-to-load-kaggle-datasets-directly-into-google-colab/\n",
        "! pip install kaggle\n",
        "! mkdir ~/.kaggle\n",
        "! cp kaggle.json ~/.kaggle/\n",
        "! chmod 600 ~/.kaggle/kaggle.json"
      ]
    },
    {
      "cell_type": "code",
      "execution_count": null,
      "metadata": {
        "colab": {
          "base_uri": "https://localhost:8080/"
        },
        "id": "lo97Keb4k9Aw",
        "outputId": "a2a14365-23c0-413b-dc76-fadb9cd9eba2"
      },
      "outputs": [
        {
          "output_type": "stream",
          "name": "stdout",
          "text": [
            "Downloading poems-in-portuguese.zip to /content\n",
            "\r  0% 0.00/5.50M [00:00<?, ?B/s]\r 91% 5.00M/5.50M [00:00<00:00, 20.2MB/s]\n",
            "\r100% 5.50M/5.50M [00:00<00:00, 22.0MB/s]\n",
            "Archive:  poems-in-portuguese.zip\n",
            "  inflating: portuguese-poems.csv    \n"
          ]
        }
      ],
      "source": [
        "! kaggle datasets download -d oliveirasp6/poems-in-portuguese\n",
        "! unzip poems-in-portuguese.zip\n",
        "! mv portuguese-poems.csv dataset-portuguese.csv"
      ]
    },
    {
      "cell_type": "code",
      "execution_count": null,
      "metadata": {
        "colab": {
          "base_uri": "https://localhost:8080/"
        },
        "id": "ij3lT6T0cQEF",
        "outputId": "50c973ec-742c-4b18-c00b-154db101dfd9"
      },
      "outputs": [
        {
          "output_type": "stream",
          "name": "stdout",
          "text": [
            "Downloading spanish-poetry-dataset.zip to /content\n",
            "\r  0% 0.00/2.12M [00:00<?, ?B/s]\n",
            "\r100% 2.12M/2.12M [00:00<00:00, 147MB/s]\n",
            "Archive:  spanish-poetry-dataset.zip\n",
            "  inflating: poems.csv               \n"
          ]
        }
      ],
      "source": [
        "! kaggle datasets download -d andreamorgar/spanish-poetry-dataset\n",
        "! unzip spanish-poetry-dataset.zip\n",
        "! mv poems.csv dataset-spanish.csv"
      ]
    },
    {
      "cell_type": "code",
      "execution_count": null,
      "metadata": {
        "colab": {
          "base_uri": "https://localhost:8080/"
        },
        "id": "q5nls72fcSpp",
        "outputId": "334ab047-f314-4b42-8421-d8b639cfdf46"
      },
      "outputs": [
        {
          "output_type": "stream",
          "name": "stdout",
          "text": [
            "Downloading lots-of-poems.zip to /content\n",
            " 81% 49.0M/60.4M [00:01<00:00, 38.8MB/s]\n",
            "100% 60.4M/60.4M [00:01<00:00, 41.8MB/s]\n",
            "Archive:  lots-of-poems.zip\n",
            "  inflating: mostly_english_poems.csv  \n",
            "  inflating: mostly_english_poems.pickle  \n",
            "  inflating: ready_poems.csv         \n",
            "  inflating: ready_poems.pickle      \n"
          ]
        }
      ],
      "source": [
        "! kaggle datasets download -d watrgoat/lots-of-poems\n",
        "! unzip lots-of-poems.zip\n",
        "! mv mostly_english_poems.csv dataset-english.csv"
      ]
    },
    {
      "cell_type": "markdown",
      "metadata": {
        "id": "1a10LMUKkkBK"
      },
      "source": [
        "# Data Sets + Preprocessing "
      ]
    },
    {
      "cell_type": "code",
      "execution_count": null,
      "metadata": {
        "id": "6EEGwfHmtfry"
      },
      "outputs": [],
      "source": [
        "lang_class = {'portuguese': 0, 'spanish': 1, 'english': 2, \n",
        "              0: 'portuguese', 1: 'spanish', 2: 'english'}\n",
        "lang_class_other  = {'portuguese': 2, 'spanish': 1, 'english': 0, \n",
        "              2: 'portuguese', 1: 'spanish', 0: 'english'}"
      ]
    },
    {
      "cell_type": "code",
      "execution_count": null,
      "metadata": {
        "id": "wEuYV5TWXprm"
      },
      "outputs": [],
      "source": [
        "EMBEDDINGS_SIZE = 100\n",
        "SCALE_LINES = 151000\n",
        "NGRAM = 3 "
      ]
    },
    {
      "cell_type": "code",
      "execution_count": null,
      "metadata": {
        "id": "ORe_CmWKYG50"
      },
      "outputs": [],
      "source": [
        "def seperate_lines(content):\n",
        "  \"\"\"\n",
        "  content: a list of chunks of text in the format [['text\\nmoret text] , ...]\n",
        "  \n",
        "  return: a list of list of lines of text from the content \n",
        "            seperated by new line tokens in the format\n",
        "            ['text', 'moret text' , ...]\n",
        "  \"\"\"\n",
        "  strip_lines = []\n",
        "  for poem in content:\n",
        "      if len(poem.strip()) == 0:\n",
        "          continue\n",
        "      sent_data = [x for x in re.split(r'\\n|\\r|/|//|»|\\r\\n', poem)  if x] \n",
        "      #these were some of the new line tokens I identified\n",
        "      for i in range(len(sent_data)):\n",
        "          # remove any extraneous whitespace\n",
        "          sent_data[i] = sent_data[i].strip()\n",
        "      t = tuple(sent_data)\n",
        "      strip_lines += list(t)\n",
        "  return strip_lines\n",
        "\n",
        "\n",
        "def tokenize_lines(lines):\n",
        "  \"\"\"\n",
        "  lines: list of lines in a text. \n",
        "         pre split on end line tokens  in the format (not cleaned\n",
        "         for excess punctuation)\n",
        "         [['text', 'moret text'] , ...]\n",
        "\n",
        "  return tokenized_lines: an list of sentences represented as a list\n",
        "              of tokens with start and end tokens <s> and </s>\n",
        "              in the format [[<s>, text, </s], [<s>, moret, text, </s>], ...]\n",
        "        cleaned_lines : a list of lines of text with the same format as input\n",
        "               but cleaned of extra punctuation\n",
        "  \"\"\"\n",
        "  tokenized_lines = []\n",
        "  cleaned_lines = []\n",
        "  \n",
        "  for line in lines:\n",
        "      line_words = line.split()\n",
        "      line_words_clean = []\n",
        "      for lw in line_words: # ty geeks for geeks\n",
        "        line_words_clean.append(lw.translate(str.maketrans('', '', string.punctuation+\"©«®¼½÷“”…™←→−≠¿¡\" + string.digits)))\n",
        "      start_tok = \"<s>\"\n",
        "      end_tok = \"</s>\"\n",
        "      sentence_clean = \" \".join(line_words_clean)\n",
        "      line_words_clean.insert(0, start_tok)\n",
        "      line_words_clean.append(end_tok)\n",
        "      tokenized_lines.append(line_words_clean)\n",
        "      cleaned_lines.append(sentence_clean)\n",
        "\n",
        "  return tokenized_lines, cleaned_lines\n"
      ]
    },
    {
      "cell_type": "markdown",
      "metadata": {
        "id": "7k8GdxfTknlt"
      },
      "source": [
        "## Portuguese\n",
        "\n",
        "**TODO some explanation**\n",
        "\n",
        "https://www.kaggle.com/datasets/oliveirasp6/poems-in-portuguese \n",
        "15,543 texts by the most renowned Brazilian authors gathered from the website https://www.escritas.org/pt/poemas."
      ]
    },
    {
      "cell_type": "code",
      "execution_count": null,
      "metadata": {
        "colab": {
          "base_uri": "https://localhost:8080/",
          "height": 206
        },
        "id": "RxXD3mx-n1vD",
        "outputId": "715ea4bb-26bb-4e7a-c813-188cce921bbb"
      },
      "outputs": [
        {
          "output_type": "execute_result",
          "data": {
            "text/plain": [
              "                       Author                              Title  \\\n",
              "0            Cecília Meireles                            Retrato   \n",
              "1             Fernando Pessoa  Para ser grande, sê inteiro: nada   \n",
              "2            Marina Colasanti              Eu sei, mas não devia   \n",
              "3  Carlos Drummond de Andrade                          Quadrilha   \n",
              "4          Eugénio de Andrade                   É urgente o amor   \n",
              "\n",
              "                                             Content    Views  \n",
              "0  Eu não tinha este rosto de hoje,\\r\\nAssim calm...  1018431  \n",
              "1  Para ser grande, sê inteiro: nada\\r\\nTeu exage...  1979413  \n",
              "2  Eu sei que a gente se acostuma. Mas não devia....   301509  \n",
              "3  João amava Teresa que amava Raimundo\\r\\nque am...  1421206  \n",
              "4  É urgente o amor.\\r\\nÉ urgente um barco no mar...   621197  "
            ],
            "text/html": [
              "\n",
              "  <div id=\"df-c76bfa05-d1ff-4d31-872a-d7d602a80451\">\n",
              "    <div class=\"colab-df-container\">\n",
              "      <div>\n",
              "<style scoped>\n",
              "    .dataframe tbody tr th:only-of-type {\n",
              "        vertical-align: middle;\n",
              "    }\n",
              "\n",
              "    .dataframe tbody tr th {\n",
              "        vertical-align: top;\n",
              "    }\n",
              "\n",
              "    .dataframe thead th {\n",
              "        text-align: right;\n",
              "    }\n",
              "</style>\n",
              "<table border=\"1\" class=\"dataframe\">\n",
              "  <thead>\n",
              "    <tr style=\"text-align: right;\">\n",
              "      <th></th>\n",
              "      <th>Author</th>\n",
              "      <th>Title</th>\n",
              "      <th>Content</th>\n",
              "      <th>Views</th>\n",
              "    </tr>\n",
              "  </thead>\n",
              "  <tbody>\n",
              "    <tr>\n",
              "      <th>0</th>\n",
              "      <td>Cecília Meireles</td>\n",
              "      <td>Retrato</td>\n",
              "      <td>Eu não tinha este rosto de hoje,\\r\\nAssim calm...</td>\n",
              "      <td>1018431</td>\n",
              "    </tr>\n",
              "    <tr>\n",
              "      <th>1</th>\n",
              "      <td>Fernando Pessoa</td>\n",
              "      <td>Para ser grande, sê inteiro: nada</td>\n",
              "      <td>Para ser grande, sê inteiro: nada\\r\\nTeu exage...</td>\n",
              "      <td>1979413</td>\n",
              "    </tr>\n",
              "    <tr>\n",
              "      <th>2</th>\n",
              "      <td>Marina Colasanti</td>\n",
              "      <td>Eu sei, mas não devia</td>\n",
              "      <td>Eu sei que a gente se acostuma. Mas não devia....</td>\n",
              "      <td>301509</td>\n",
              "    </tr>\n",
              "    <tr>\n",
              "      <th>3</th>\n",
              "      <td>Carlos Drummond de Andrade</td>\n",
              "      <td>Quadrilha</td>\n",
              "      <td>João amava Teresa que amava Raimundo\\r\\nque am...</td>\n",
              "      <td>1421206</td>\n",
              "    </tr>\n",
              "    <tr>\n",
              "      <th>4</th>\n",
              "      <td>Eugénio de Andrade</td>\n",
              "      <td>É urgente o amor</td>\n",
              "      <td>É urgente o amor.\\r\\nÉ urgente um barco no mar...</td>\n",
              "      <td>621197</td>\n",
              "    </tr>\n",
              "  </tbody>\n",
              "</table>\n",
              "</div>\n",
              "      <button class=\"colab-df-convert\" onclick=\"convertToInteractive('df-c76bfa05-d1ff-4d31-872a-d7d602a80451')\"\n",
              "              title=\"Convert this dataframe to an interactive table.\"\n",
              "              style=\"display:none;\">\n",
              "        \n",
              "  <svg xmlns=\"http://www.w3.org/2000/svg\" height=\"24px\"viewBox=\"0 0 24 24\"\n",
              "       width=\"24px\">\n",
              "    <path d=\"M0 0h24v24H0V0z\" fill=\"none\"/>\n",
              "    <path d=\"M18.56 5.44l.94 2.06.94-2.06 2.06-.94-2.06-.94-.94-2.06-.94 2.06-2.06.94zm-11 1L8.5 8.5l.94-2.06 2.06-.94-2.06-.94L8.5 2.5l-.94 2.06-2.06.94zm10 10l.94 2.06.94-2.06 2.06-.94-2.06-.94-.94-2.06-.94 2.06-2.06.94z\"/><path d=\"M17.41 7.96l-1.37-1.37c-.4-.4-.92-.59-1.43-.59-.52 0-1.04.2-1.43.59L10.3 9.45l-7.72 7.72c-.78.78-.78 2.05 0 2.83L4 21.41c.39.39.9.59 1.41.59.51 0 1.02-.2 1.41-.59l7.78-7.78 2.81-2.81c.8-.78.8-2.07 0-2.86zM5.41 20L4 18.59l7.72-7.72 1.47 1.35L5.41 20z\"/>\n",
              "  </svg>\n",
              "      </button>\n",
              "      \n",
              "  <style>\n",
              "    .colab-df-container {\n",
              "      display:flex;\n",
              "      flex-wrap:wrap;\n",
              "      gap: 12px;\n",
              "    }\n",
              "\n",
              "    .colab-df-convert {\n",
              "      background-color: #E8F0FE;\n",
              "      border: none;\n",
              "      border-radius: 50%;\n",
              "      cursor: pointer;\n",
              "      display: none;\n",
              "      fill: #1967D2;\n",
              "      height: 32px;\n",
              "      padding: 0 0 0 0;\n",
              "      width: 32px;\n",
              "    }\n",
              "\n",
              "    .colab-df-convert:hover {\n",
              "      background-color: #E2EBFA;\n",
              "      box-shadow: 0px 1px 2px rgba(60, 64, 67, 0.3), 0px 1px 3px 1px rgba(60, 64, 67, 0.15);\n",
              "      fill: #174EA6;\n",
              "    }\n",
              "\n",
              "    [theme=dark] .colab-df-convert {\n",
              "      background-color: #3B4455;\n",
              "      fill: #D2E3FC;\n",
              "    }\n",
              "\n",
              "    [theme=dark] .colab-df-convert:hover {\n",
              "      background-color: #434B5C;\n",
              "      box-shadow: 0px 1px 3px 1px rgba(0, 0, 0, 0.15);\n",
              "      filter: drop-shadow(0px 1px 2px rgba(0, 0, 0, 0.3));\n",
              "      fill: #FFFFFF;\n",
              "    }\n",
              "  </style>\n",
              "\n",
              "      <script>\n",
              "        const buttonEl =\n",
              "          document.querySelector('#df-c76bfa05-d1ff-4d31-872a-d7d602a80451 button.colab-df-convert');\n",
              "        buttonEl.style.display =\n",
              "          google.colab.kernel.accessAllowed ? 'block' : 'none';\n",
              "\n",
              "        async function convertToInteractive(key) {\n",
              "          const element = document.querySelector('#df-c76bfa05-d1ff-4d31-872a-d7d602a80451');\n",
              "          const dataTable =\n",
              "            await google.colab.kernel.invokeFunction('convertToInteractive',\n",
              "                                                     [key], {});\n",
              "          if (!dataTable) return;\n",
              "\n",
              "          const docLinkHtml = 'Like what you see? Visit the ' +\n",
              "            '<a target=\"_blank\" href=https://colab.research.google.com/notebooks/data_table.ipynb>data table notebook</a>'\n",
              "            + ' to learn more about interactive tables.';\n",
              "          element.innerHTML = '';\n",
              "          dataTable['output_type'] = 'display_data';\n",
              "          await google.colab.output.renderOutput(dataTable, element);\n",
              "          const docLink = document.createElement('div');\n",
              "          docLink.innerHTML = docLinkHtml;\n",
              "          element.appendChild(docLink);\n",
              "        }\n",
              "      </script>\n",
              "    </div>\n",
              "  </div>\n",
              "  "
            ]
          },
          "metadata": {},
          "execution_count": 13
        }
      ],
      "source": [
        "dataset_portuguese = pd.read_csv('dataset-portuguese.csv')\n",
        "dataset_portuguese.head()"
      ]
    },
    {
      "cell_type": "code",
      "execution_count": null,
      "metadata": {
        "colab": {
          "base_uri": "https://localhost:8080/"
        },
        "id": "_KYqstn0tRW0",
        "outputId": "26c970cc-16bc-4a91-9a40-f5acee7a6936"
      },
      "outputs": [
        {
          "output_type": "stream",
          "name": "stdout",
          "text": [
            "Author     15543\n",
            "Title      15543\n",
            "Content    15541\n",
            "Views      15543\n",
            "dtype: int64\n",
            "Author     15541\n",
            "Title      15541\n",
            "Content    15541\n",
            "Views      15541\n",
            "dtype: int64\n"
          ]
        }
      ],
      "source": [
        "#drop NA content, reindex if any was dropped\n",
        "print(dataset_portuguese.count())\n",
        "dataset_portuguese.dropna(subset=['Content'],inplace=True)\n",
        "dataset_portuguese.reset_index(drop=True,inplace=True)\n",
        "print(dataset_portuguese.count())\n",
        "#lol there werent any just checking"
      ]
    },
    {
      "cell_type": "code",
      "execution_count": null,
      "metadata": {
        "colab": {
          "base_uri": "https://localhost:8080/",
          "height": 206
        },
        "id": "GhsUHHJwvqh5",
        "outputId": "e4bef952-334f-42f3-9c78-e802d0b6fefe"
      },
      "outputs": [
        {
          "output_type": "execute_result",
          "data": {
            "text/plain": [
              "                                             Content\n",
              "0  Eu não tinha este rosto de hoje,\\r\\nAssim calm...\n",
              "1  Para ser grande, sê inteiro: nada\\r\\nTeu exage...\n",
              "2  Eu sei que a gente se acostuma. Mas não devia....\n",
              "3  João amava Teresa que amava Raimundo\\r\\nque am...\n",
              "4  É urgente o amor.\\r\\nÉ urgente um barco no mar..."
            ],
            "text/html": [
              "\n",
              "  <div id=\"df-415ba803-ff2a-4669-8f27-5eb53654ce7f\">\n",
              "    <div class=\"colab-df-container\">\n",
              "      <div>\n",
              "<style scoped>\n",
              "    .dataframe tbody tr th:only-of-type {\n",
              "        vertical-align: middle;\n",
              "    }\n",
              "\n",
              "    .dataframe tbody tr th {\n",
              "        vertical-align: top;\n",
              "    }\n",
              "\n",
              "    .dataframe thead th {\n",
              "        text-align: right;\n",
              "    }\n",
              "</style>\n",
              "<table border=\"1\" class=\"dataframe\">\n",
              "  <thead>\n",
              "    <tr style=\"text-align: right;\">\n",
              "      <th></th>\n",
              "      <th>Content</th>\n",
              "    </tr>\n",
              "  </thead>\n",
              "  <tbody>\n",
              "    <tr>\n",
              "      <th>0</th>\n",
              "      <td>Eu não tinha este rosto de hoje,\\r\\nAssim calm...</td>\n",
              "    </tr>\n",
              "    <tr>\n",
              "      <th>1</th>\n",
              "      <td>Para ser grande, sê inteiro: nada\\r\\nTeu exage...</td>\n",
              "    </tr>\n",
              "    <tr>\n",
              "      <th>2</th>\n",
              "      <td>Eu sei que a gente se acostuma. Mas não devia....</td>\n",
              "    </tr>\n",
              "    <tr>\n",
              "      <th>3</th>\n",
              "      <td>João amava Teresa que amava Raimundo\\r\\nque am...</td>\n",
              "    </tr>\n",
              "    <tr>\n",
              "      <th>4</th>\n",
              "      <td>É urgente o amor.\\r\\nÉ urgente um barco no mar...</td>\n",
              "    </tr>\n",
              "  </tbody>\n",
              "</table>\n",
              "</div>\n",
              "      <button class=\"colab-df-convert\" onclick=\"convertToInteractive('df-415ba803-ff2a-4669-8f27-5eb53654ce7f')\"\n",
              "              title=\"Convert this dataframe to an interactive table.\"\n",
              "              style=\"display:none;\">\n",
              "        \n",
              "  <svg xmlns=\"http://www.w3.org/2000/svg\" height=\"24px\"viewBox=\"0 0 24 24\"\n",
              "       width=\"24px\">\n",
              "    <path d=\"M0 0h24v24H0V0z\" fill=\"none\"/>\n",
              "    <path d=\"M18.56 5.44l.94 2.06.94-2.06 2.06-.94-2.06-.94-.94-2.06-.94 2.06-2.06.94zm-11 1L8.5 8.5l.94-2.06 2.06-.94-2.06-.94L8.5 2.5l-.94 2.06-2.06.94zm10 10l.94 2.06.94-2.06 2.06-.94-2.06-.94-.94-2.06-.94 2.06-2.06.94z\"/><path d=\"M17.41 7.96l-1.37-1.37c-.4-.4-.92-.59-1.43-.59-.52 0-1.04.2-1.43.59L10.3 9.45l-7.72 7.72c-.78.78-.78 2.05 0 2.83L4 21.41c.39.39.9.59 1.41.59.51 0 1.02-.2 1.41-.59l7.78-7.78 2.81-2.81c.8-.78.8-2.07 0-2.86zM5.41 20L4 18.59l7.72-7.72 1.47 1.35L5.41 20z\"/>\n",
              "  </svg>\n",
              "      </button>\n",
              "      \n",
              "  <style>\n",
              "    .colab-df-container {\n",
              "      display:flex;\n",
              "      flex-wrap:wrap;\n",
              "      gap: 12px;\n",
              "    }\n",
              "\n",
              "    .colab-df-convert {\n",
              "      background-color: #E8F0FE;\n",
              "      border: none;\n",
              "      border-radius: 50%;\n",
              "      cursor: pointer;\n",
              "      display: none;\n",
              "      fill: #1967D2;\n",
              "      height: 32px;\n",
              "      padding: 0 0 0 0;\n",
              "      width: 32px;\n",
              "    }\n",
              "\n",
              "    .colab-df-convert:hover {\n",
              "      background-color: #E2EBFA;\n",
              "      box-shadow: 0px 1px 2px rgba(60, 64, 67, 0.3), 0px 1px 3px 1px rgba(60, 64, 67, 0.15);\n",
              "      fill: #174EA6;\n",
              "    }\n",
              "\n",
              "    [theme=dark] .colab-df-convert {\n",
              "      background-color: #3B4455;\n",
              "      fill: #D2E3FC;\n",
              "    }\n",
              "\n",
              "    [theme=dark] .colab-df-convert:hover {\n",
              "      background-color: #434B5C;\n",
              "      box-shadow: 0px 1px 3px 1px rgba(0, 0, 0, 0.15);\n",
              "      filter: drop-shadow(0px 1px 2px rgba(0, 0, 0, 0.3));\n",
              "      fill: #FFFFFF;\n",
              "    }\n",
              "  </style>\n",
              "\n",
              "      <script>\n",
              "        const buttonEl =\n",
              "          document.querySelector('#df-415ba803-ff2a-4669-8f27-5eb53654ce7f button.colab-df-convert');\n",
              "        buttonEl.style.display =\n",
              "          google.colab.kernel.accessAllowed ? 'block' : 'none';\n",
              "\n",
              "        async function convertToInteractive(key) {\n",
              "          const element = document.querySelector('#df-415ba803-ff2a-4669-8f27-5eb53654ce7f');\n",
              "          const dataTable =\n",
              "            await google.colab.kernel.invokeFunction('convertToInteractive',\n",
              "                                                     [key], {});\n",
              "          if (!dataTable) return;\n",
              "\n",
              "          const docLinkHtml = 'Like what you see? Visit the ' +\n",
              "            '<a target=\"_blank\" href=https://colab.research.google.com/notebooks/data_table.ipynb>data table notebook</a>'\n",
              "            + ' to learn more about interactive tables.';\n",
              "          element.innerHTML = '';\n",
              "          dataTable['output_type'] = 'display_data';\n",
              "          await google.colab.output.renderOutput(dataTable, element);\n",
              "          const docLink = document.createElement('div');\n",
              "          docLink.innerHTML = docLinkHtml;\n",
              "          element.appendChild(docLink);\n",
              "        }\n",
              "      </script>\n",
              "    </div>\n",
              "  </div>\n",
              "  "
            ]
          },
          "metadata": {},
          "execution_count": 15
        }
      ],
      "source": [
        "poems_portuguese = dataset_portuguese[['Content']]\n",
        "poems_portuguese.head()"
      ]
    },
    {
      "cell_type": "code",
      "execution_count": null,
      "metadata": {
        "colab": {
          "base_uri": "https://localhost:8080/",
          "height": 206
        },
        "id": "u6MBwDKxw8nG",
        "outputId": "c7106990-5667-499b-a7ed-3bf85a9ee979"
      },
      "outputs": [
        {
          "output_type": "execute_result",
          "data": {
            "text/plain": [
              "                                             Content  Language\n",
              "0  Eu não tinha este rosto de hoje,\\r\\nAssim calm...         0\n",
              "1  Para ser grande, sê inteiro: nada\\r\\nTeu exage...         0\n",
              "2  Eu sei que a gente se acostuma. Mas não devia....         0\n",
              "3  João amava Teresa que amava Raimundo\\r\\nque am...         0\n",
              "4  É urgente o amor.\\r\\nÉ urgente um barco no mar...         0"
            ],
            "text/html": [
              "\n",
              "  <div id=\"df-05ccf999-5304-4791-a888-bca6aa945e33\">\n",
              "    <div class=\"colab-df-container\">\n",
              "      <div>\n",
              "<style scoped>\n",
              "    .dataframe tbody tr th:only-of-type {\n",
              "        vertical-align: middle;\n",
              "    }\n",
              "\n",
              "    .dataframe tbody tr th {\n",
              "        vertical-align: top;\n",
              "    }\n",
              "\n",
              "    .dataframe thead th {\n",
              "        text-align: right;\n",
              "    }\n",
              "</style>\n",
              "<table border=\"1\" class=\"dataframe\">\n",
              "  <thead>\n",
              "    <tr style=\"text-align: right;\">\n",
              "      <th></th>\n",
              "      <th>Content</th>\n",
              "      <th>Language</th>\n",
              "    </tr>\n",
              "  </thead>\n",
              "  <tbody>\n",
              "    <tr>\n",
              "      <th>0</th>\n",
              "      <td>Eu não tinha este rosto de hoje,\\r\\nAssim calm...</td>\n",
              "      <td>0</td>\n",
              "    </tr>\n",
              "    <tr>\n",
              "      <th>1</th>\n",
              "      <td>Para ser grande, sê inteiro: nada\\r\\nTeu exage...</td>\n",
              "      <td>0</td>\n",
              "    </tr>\n",
              "    <tr>\n",
              "      <th>2</th>\n",
              "      <td>Eu sei que a gente se acostuma. Mas não devia....</td>\n",
              "      <td>0</td>\n",
              "    </tr>\n",
              "    <tr>\n",
              "      <th>3</th>\n",
              "      <td>João amava Teresa que amava Raimundo\\r\\nque am...</td>\n",
              "      <td>0</td>\n",
              "    </tr>\n",
              "    <tr>\n",
              "      <th>4</th>\n",
              "      <td>É urgente o amor.\\r\\nÉ urgente um barco no mar...</td>\n",
              "      <td>0</td>\n",
              "    </tr>\n",
              "  </tbody>\n",
              "</table>\n",
              "</div>\n",
              "      <button class=\"colab-df-convert\" onclick=\"convertToInteractive('df-05ccf999-5304-4791-a888-bca6aa945e33')\"\n",
              "              title=\"Convert this dataframe to an interactive table.\"\n",
              "              style=\"display:none;\">\n",
              "        \n",
              "  <svg xmlns=\"http://www.w3.org/2000/svg\" height=\"24px\"viewBox=\"0 0 24 24\"\n",
              "       width=\"24px\">\n",
              "    <path d=\"M0 0h24v24H0V0z\" fill=\"none\"/>\n",
              "    <path d=\"M18.56 5.44l.94 2.06.94-2.06 2.06-.94-2.06-.94-.94-2.06-.94 2.06-2.06.94zm-11 1L8.5 8.5l.94-2.06 2.06-.94-2.06-.94L8.5 2.5l-.94 2.06-2.06.94zm10 10l.94 2.06.94-2.06 2.06-.94-2.06-.94-.94-2.06-.94 2.06-2.06.94z\"/><path d=\"M17.41 7.96l-1.37-1.37c-.4-.4-.92-.59-1.43-.59-.52 0-1.04.2-1.43.59L10.3 9.45l-7.72 7.72c-.78.78-.78 2.05 0 2.83L4 21.41c.39.39.9.59 1.41.59.51 0 1.02-.2 1.41-.59l7.78-7.78 2.81-2.81c.8-.78.8-2.07 0-2.86zM5.41 20L4 18.59l7.72-7.72 1.47 1.35L5.41 20z\"/>\n",
              "  </svg>\n",
              "      </button>\n",
              "      \n",
              "  <style>\n",
              "    .colab-df-container {\n",
              "      display:flex;\n",
              "      flex-wrap:wrap;\n",
              "      gap: 12px;\n",
              "    }\n",
              "\n",
              "    .colab-df-convert {\n",
              "      background-color: #E8F0FE;\n",
              "      border: none;\n",
              "      border-radius: 50%;\n",
              "      cursor: pointer;\n",
              "      display: none;\n",
              "      fill: #1967D2;\n",
              "      height: 32px;\n",
              "      padding: 0 0 0 0;\n",
              "      width: 32px;\n",
              "    }\n",
              "\n",
              "    .colab-df-convert:hover {\n",
              "      background-color: #E2EBFA;\n",
              "      box-shadow: 0px 1px 2px rgba(60, 64, 67, 0.3), 0px 1px 3px 1px rgba(60, 64, 67, 0.15);\n",
              "      fill: #174EA6;\n",
              "    }\n",
              "\n",
              "    [theme=dark] .colab-df-convert {\n",
              "      background-color: #3B4455;\n",
              "      fill: #D2E3FC;\n",
              "    }\n",
              "\n",
              "    [theme=dark] .colab-df-convert:hover {\n",
              "      background-color: #434B5C;\n",
              "      box-shadow: 0px 1px 3px 1px rgba(0, 0, 0, 0.15);\n",
              "      filter: drop-shadow(0px 1px 2px rgba(0, 0, 0, 0.3));\n",
              "      fill: #FFFFFF;\n",
              "    }\n",
              "  </style>\n",
              "\n",
              "      <script>\n",
              "        const buttonEl =\n",
              "          document.querySelector('#df-05ccf999-5304-4791-a888-bca6aa945e33 button.colab-df-convert');\n",
              "        buttonEl.style.display =\n",
              "          google.colab.kernel.accessAllowed ? 'block' : 'none';\n",
              "\n",
              "        async function convertToInteractive(key) {\n",
              "          const element = document.querySelector('#df-05ccf999-5304-4791-a888-bca6aa945e33');\n",
              "          const dataTable =\n",
              "            await google.colab.kernel.invokeFunction('convertToInteractive',\n",
              "                                                     [key], {});\n",
              "          if (!dataTable) return;\n",
              "\n",
              "          const docLinkHtml = 'Like what you see? Visit the ' +\n",
              "            '<a target=\"_blank\" href=https://colab.research.google.com/notebooks/data_table.ipynb>data table notebook</a>'\n",
              "            + ' to learn more about interactive tables.';\n",
              "          element.innerHTML = '';\n",
              "          dataTable['output_type'] = 'display_data';\n",
              "          await google.colab.output.renderOutput(dataTable, element);\n",
              "          const docLink = document.createElement('div');\n",
              "          docLink.innerHTML = docLinkHtml;\n",
              "          element.appendChild(docLink);\n",
              "        }\n",
              "      </script>\n",
              "    </div>\n",
              "  </div>\n",
              "  "
            ]
          },
          "metadata": {},
          "execution_count": 16
        }
      ],
      "source": [
        "poems_portuguese.insert(1, \"Language\", lang_class['portuguese'])\n",
        "poems_portuguese.head()"
      ]
    },
    {
      "cell_type": "code",
      "execution_count": null,
      "metadata": {
        "colab": {
          "base_uri": "https://localhost:8080/"
        },
        "id": "-WbYdPncyfcP",
        "outputId": "3d44979d-6ce1-400e-928f-f16c2c81a350"
      },
      "outputs": [
        {
          "output_type": "stream",
          "name": "stdout",
          "text": [
            "15541\n"
          ]
        }
      ],
      "source": [
        "content_portuguese = poems_portuguese['Content'].array\n",
        "print(len(content_portuguese))\n",
        "# content_portuguese"
      ]
    },
    {
      "cell_type": "code",
      "execution_count": null,
      "metadata": {
        "colab": {
          "base_uri": "https://localhost:8080/"
        },
        "id": "Sr3j1C8YzXhq",
        "outputId": "5012f479-3bee-4c3c-ecb8-5da1039d86a1"
      },
      "outputs": [
        {
          "output_type": "stream",
          "name": "stdout",
          "text": [
            "317296\n"
          ]
        }
      ],
      "source": [
        "# things to note: roman numerals, uh theres random german? \n",
        "# and other translations mixed in? the german was seperated by // or ....... (which seems to be \\n charachter)\n",
        "# from what I saw\n",
        "lines_portuguese = seperate_lines(content_portuguese)\n",
        "# print(lines_portuguese)\n",
        "print(len(lines_portuguese))\n"
      ]
    },
    {
      "cell_type": "code",
      "execution_count": null,
      "metadata": {
        "colab": {
          "base_uri": "https://localhost:8080/"
        },
        "id": "PK7x3yKvZfz2",
        "outputId": "04030b23-369b-417f-a954-c01474ac21f1"
      },
      "outputs": [
        {
          "output_type": "stream",
          "name": "stdout",
          "text": [
            "317296\n"
          ]
        }
      ],
      "source": [
        "tokenized_portuguese, cleaned_portuguese = tokenize_lines(lines_portuguese)\n",
        "# tokenized_portuguese\n",
        "print(len(tokenized_portuguese))"
      ]
    },
    {
      "cell_type": "code",
      "execution_count": null,
      "metadata": {
        "colab": {
          "base_uri": "https://localhost:8080/"
        },
        "id": "ts1DCNDfW5E7",
        "outputId": "198d45a8-8e25-4bd6-8b49-b498fe7114ce"
      },
      "outputs": [
        {
          "output_type": "stream",
          "name": "stdout",
          "text": [
            "(160141, 100)\n"
          ]
        }
      ],
      "source": [
        "word2vec_portuguese = Word2Vec(sentences=tokenized_portuguese, vector_size=EMBEDDINGS_SIZE, window=5, min_count=1, workers=4, sg=1)\n",
        "word2vec_portuguese.save(\"word2vec_portuguese.model\")\n",
        "print(word2vec_portuguese.wv.vectors.shape)"
      ]
    },
    {
      "cell_type": "markdown",
      "metadata": {
        "id": "S4dvrUlPmrhz"
      },
      "source": [
        "##Spanish\n",
        "\n",
        "**TODO some explanation**\n",
        "\n",
        "https://www.kaggle.com/datasets/andreamorgar/spanish-poetry-dataset Spanish poems gathered from www.poemas-del-alma.com each with the name of the poet, poem, and poem title. "
      ]
    },
    {
      "cell_type": "code",
      "execution_count": null,
      "metadata": {
        "colab": {
          "base_uri": "https://localhost:8080/",
          "height": 206
        },
        "id": "4OgzmNn8n4Ed",
        "outputId": "ea0ebd10-9625-41a7-a9be-0070fe0f0a64"
      },
      "outputs": [
        {
          "output_type": "execute_result",
          "data": {
            "text/plain": [
              "                    author                                            content  \\\n",
              "0         Leopoldo Lugones  \\n\\nEn el parque confuso\\nQue con lánguidas br...   \n",
              "1          Marilina Rébora  \\n\\nPorque si tú no velas, vendré como ladrón;...   \n",
              "2          Antonio Colinas  \\n\\nPequeña de mis sueños, por tu piel las pal...   \n",
              "3      José María Hinojosa  \\n\\nLos dedos de la nieve\\nrepiquetearon\\nen e...   \n",
              "4  Rubén Izaguirre Fiallos  Naciste en Armenia,\\npero te fuiste a vivir al...   \n",
              "\n",
              "                                   title  \n",
              "0                   LA MUERTE DE LA LUNA  \n",
              "1                  PORQUE SI TÚ NO VELAS  \n",
              "2  POEMA DE LA BELLEZA CAUTIVA QUE PERDÍ  \n",
              "3                              SENCILLEZ  \n",
              "4          Breve Carta a Consuelo Suncín  "
            ],
            "text/html": [
              "\n",
              "  <div id=\"df-00221713-6806-4f39-b0fb-7696f5ca1902\">\n",
              "    <div class=\"colab-df-container\">\n",
              "      <div>\n",
              "<style scoped>\n",
              "    .dataframe tbody tr th:only-of-type {\n",
              "        vertical-align: middle;\n",
              "    }\n",
              "\n",
              "    .dataframe tbody tr th {\n",
              "        vertical-align: top;\n",
              "    }\n",
              "\n",
              "    .dataframe thead th {\n",
              "        text-align: right;\n",
              "    }\n",
              "</style>\n",
              "<table border=\"1\" class=\"dataframe\">\n",
              "  <thead>\n",
              "    <tr style=\"text-align: right;\">\n",
              "      <th></th>\n",
              "      <th>author</th>\n",
              "      <th>content</th>\n",
              "      <th>title</th>\n",
              "    </tr>\n",
              "  </thead>\n",
              "  <tbody>\n",
              "    <tr>\n",
              "      <th>0</th>\n",
              "      <td>Leopoldo Lugones</td>\n",
              "      <td>\\n\\nEn el parque confuso\\nQue con lánguidas br...</td>\n",
              "      <td>LA MUERTE DE LA LUNA</td>\n",
              "    </tr>\n",
              "    <tr>\n",
              "      <th>1</th>\n",
              "      <td>Marilina Rébora</td>\n",
              "      <td>\\n\\nPorque si tú no velas, vendré como ladrón;...</td>\n",
              "      <td>PORQUE SI TÚ NO VELAS</td>\n",
              "    </tr>\n",
              "    <tr>\n",
              "      <th>2</th>\n",
              "      <td>Antonio Colinas</td>\n",
              "      <td>\\n\\nPequeña de mis sueños, por tu piel las pal...</td>\n",
              "      <td>POEMA DE LA BELLEZA CAUTIVA QUE PERDÍ</td>\n",
              "    </tr>\n",
              "    <tr>\n",
              "      <th>3</th>\n",
              "      <td>José María Hinojosa</td>\n",
              "      <td>\\n\\nLos dedos de la nieve\\nrepiquetearon\\nen e...</td>\n",
              "      <td>SENCILLEZ</td>\n",
              "    </tr>\n",
              "    <tr>\n",
              "      <th>4</th>\n",
              "      <td>Rubén Izaguirre Fiallos</td>\n",
              "      <td>Naciste en Armenia,\\npero te fuiste a vivir al...</td>\n",
              "      <td>Breve Carta a Consuelo Suncín</td>\n",
              "    </tr>\n",
              "  </tbody>\n",
              "</table>\n",
              "</div>\n",
              "      <button class=\"colab-df-convert\" onclick=\"convertToInteractive('df-00221713-6806-4f39-b0fb-7696f5ca1902')\"\n",
              "              title=\"Convert this dataframe to an interactive table.\"\n",
              "              style=\"display:none;\">\n",
              "        \n",
              "  <svg xmlns=\"http://www.w3.org/2000/svg\" height=\"24px\"viewBox=\"0 0 24 24\"\n",
              "       width=\"24px\">\n",
              "    <path d=\"M0 0h24v24H0V0z\" fill=\"none\"/>\n",
              "    <path d=\"M18.56 5.44l.94 2.06.94-2.06 2.06-.94-2.06-.94-.94-2.06-.94 2.06-2.06.94zm-11 1L8.5 8.5l.94-2.06 2.06-.94-2.06-.94L8.5 2.5l-.94 2.06-2.06.94zm10 10l.94 2.06.94-2.06 2.06-.94-2.06-.94-.94-2.06-.94 2.06-2.06.94z\"/><path d=\"M17.41 7.96l-1.37-1.37c-.4-.4-.92-.59-1.43-.59-.52 0-1.04.2-1.43.59L10.3 9.45l-7.72 7.72c-.78.78-.78 2.05 0 2.83L4 21.41c.39.39.9.59 1.41.59.51 0 1.02-.2 1.41-.59l7.78-7.78 2.81-2.81c.8-.78.8-2.07 0-2.86zM5.41 20L4 18.59l7.72-7.72 1.47 1.35L5.41 20z\"/>\n",
              "  </svg>\n",
              "      </button>\n",
              "      \n",
              "  <style>\n",
              "    .colab-df-container {\n",
              "      display:flex;\n",
              "      flex-wrap:wrap;\n",
              "      gap: 12px;\n",
              "    }\n",
              "\n",
              "    .colab-df-convert {\n",
              "      background-color: #E8F0FE;\n",
              "      border: none;\n",
              "      border-radius: 50%;\n",
              "      cursor: pointer;\n",
              "      display: none;\n",
              "      fill: #1967D2;\n",
              "      height: 32px;\n",
              "      padding: 0 0 0 0;\n",
              "      width: 32px;\n",
              "    }\n",
              "\n",
              "    .colab-df-convert:hover {\n",
              "      background-color: #E2EBFA;\n",
              "      box-shadow: 0px 1px 2px rgba(60, 64, 67, 0.3), 0px 1px 3px 1px rgba(60, 64, 67, 0.15);\n",
              "      fill: #174EA6;\n",
              "    }\n",
              "\n",
              "    [theme=dark] .colab-df-convert {\n",
              "      background-color: #3B4455;\n",
              "      fill: #D2E3FC;\n",
              "    }\n",
              "\n",
              "    [theme=dark] .colab-df-convert:hover {\n",
              "      background-color: #434B5C;\n",
              "      box-shadow: 0px 1px 3px 1px rgba(0, 0, 0, 0.15);\n",
              "      filter: drop-shadow(0px 1px 2px rgba(0, 0, 0, 0.3));\n",
              "      fill: #FFFFFF;\n",
              "    }\n",
              "  </style>\n",
              "\n",
              "      <script>\n",
              "        const buttonEl =\n",
              "          document.querySelector('#df-00221713-6806-4f39-b0fb-7696f5ca1902 button.colab-df-convert');\n",
              "        buttonEl.style.display =\n",
              "          google.colab.kernel.accessAllowed ? 'block' : 'none';\n",
              "\n",
              "        async function convertToInteractive(key) {\n",
              "          const element = document.querySelector('#df-00221713-6806-4f39-b0fb-7696f5ca1902');\n",
              "          const dataTable =\n",
              "            await google.colab.kernel.invokeFunction('convertToInteractive',\n",
              "                                                     [key], {});\n",
              "          if (!dataTable) return;\n",
              "\n",
              "          const docLinkHtml = 'Like what you see? Visit the ' +\n",
              "            '<a target=\"_blank\" href=https://colab.research.google.com/notebooks/data_table.ipynb>data table notebook</a>'\n",
              "            + ' to learn more about interactive tables.';\n",
              "          element.innerHTML = '';\n",
              "          dataTable['output_type'] = 'display_data';\n",
              "          await google.colab.output.renderOutput(dataTable, element);\n",
              "          const docLink = document.createElement('div');\n",
              "          docLink.innerHTML = docLinkHtml;\n",
              "          element.appendChild(docLink);\n",
              "        }\n",
              "      </script>\n",
              "    </div>\n",
              "  </div>\n",
              "  "
            ]
          },
          "metadata": {},
          "execution_count": 21
        }
      ],
      "source": [
        "dataset_spanish = pd.read_csv('dataset-spanish.csv')\n",
        "dataset_spanish.head()"
      ]
    },
    {
      "cell_type": "code",
      "execution_count": null,
      "metadata": {
        "colab": {
          "base_uri": "https://localhost:8080/"
        },
        "id": "w5ky5Gd4eSfU",
        "outputId": "e8da9512-7593-4545-f303-791ff06542df"
      },
      "outputs": [
        {
          "output_type": "stream",
          "name": "stdout",
          "text": [
            "author     5131\n",
            "content    5131\n",
            "title      5131\n",
            "dtype: int64\n",
            "author     5131\n",
            "content    5131\n",
            "title      5131\n",
            "dtype: int64\n"
          ]
        }
      ],
      "source": [
        "#drop NA content, reindex if any was dropped\n",
        "print(dataset_spanish.count())\n",
        "dataset_spanish.dropna(subset=['content'],inplace=True)\n",
        "dataset_spanish.reset_index(drop=True,inplace=True)\n",
        "print(dataset_spanish.count())"
      ]
    },
    {
      "cell_type": "code",
      "execution_count": null,
      "metadata": {
        "colab": {
          "base_uri": "https://localhost:8080/",
          "height": 206
        },
        "id": "v0YRJH6Gekoe",
        "outputId": "4dc9a260-79dd-4104-fdf2-83ed4c7249d4"
      },
      "outputs": [
        {
          "output_type": "execute_result",
          "data": {
            "text/plain": [
              "                                             Content\n",
              "0  \\n\\nEn el parque confuso\\nQue con lánguidas br...\n",
              "1  \\n\\nPorque si tú no velas, vendré como ladrón;...\n",
              "2  \\n\\nPequeña de mis sueños, por tu piel las pal...\n",
              "3  \\n\\nLos dedos de la nieve\\nrepiquetearon\\nen e...\n",
              "4  Naciste en Armenia,\\npero te fuiste a vivir al..."
            ],
            "text/html": [
              "\n",
              "  <div id=\"df-3778f8d9-dfec-437b-8b01-f27438c849aa\">\n",
              "    <div class=\"colab-df-container\">\n",
              "      <div>\n",
              "<style scoped>\n",
              "    .dataframe tbody tr th:only-of-type {\n",
              "        vertical-align: middle;\n",
              "    }\n",
              "\n",
              "    .dataframe tbody tr th {\n",
              "        vertical-align: top;\n",
              "    }\n",
              "\n",
              "    .dataframe thead th {\n",
              "        text-align: right;\n",
              "    }\n",
              "</style>\n",
              "<table border=\"1\" class=\"dataframe\">\n",
              "  <thead>\n",
              "    <tr style=\"text-align: right;\">\n",
              "      <th></th>\n",
              "      <th>Content</th>\n",
              "    </tr>\n",
              "  </thead>\n",
              "  <tbody>\n",
              "    <tr>\n",
              "      <th>0</th>\n",
              "      <td>\\n\\nEn el parque confuso\\nQue con lánguidas br...</td>\n",
              "    </tr>\n",
              "    <tr>\n",
              "      <th>1</th>\n",
              "      <td>\\n\\nPorque si tú no velas, vendré como ladrón;...</td>\n",
              "    </tr>\n",
              "    <tr>\n",
              "      <th>2</th>\n",
              "      <td>\\n\\nPequeña de mis sueños, por tu piel las pal...</td>\n",
              "    </tr>\n",
              "    <tr>\n",
              "      <th>3</th>\n",
              "      <td>\\n\\nLos dedos de la nieve\\nrepiquetearon\\nen e...</td>\n",
              "    </tr>\n",
              "    <tr>\n",
              "      <th>4</th>\n",
              "      <td>Naciste en Armenia,\\npero te fuiste a vivir al...</td>\n",
              "    </tr>\n",
              "  </tbody>\n",
              "</table>\n",
              "</div>\n",
              "      <button class=\"colab-df-convert\" onclick=\"convertToInteractive('df-3778f8d9-dfec-437b-8b01-f27438c849aa')\"\n",
              "              title=\"Convert this dataframe to an interactive table.\"\n",
              "              style=\"display:none;\">\n",
              "        \n",
              "  <svg xmlns=\"http://www.w3.org/2000/svg\" height=\"24px\"viewBox=\"0 0 24 24\"\n",
              "       width=\"24px\">\n",
              "    <path d=\"M0 0h24v24H0V0z\" fill=\"none\"/>\n",
              "    <path d=\"M18.56 5.44l.94 2.06.94-2.06 2.06-.94-2.06-.94-.94-2.06-.94 2.06-2.06.94zm-11 1L8.5 8.5l.94-2.06 2.06-.94-2.06-.94L8.5 2.5l-.94 2.06-2.06.94zm10 10l.94 2.06.94-2.06 2.06-.94-2.06-.94-.94-2.06-.94 2.06-2.06.94z\"/><path d=\"M17.41 7.96l-1.37-1.37c-.4-.4-.92-.59-1.43-.59-.52 0-1.04.2-1.43.59L10.3 9.45l-7.72 7.72c-.78.78-.78 2.05 0 2.83L4 21.41c.39.39.9.59 1.41.59.51 0 1.02-.2 1.41-.59l7.78-7.78 2.81-2.81c.8-.78.8-2.07 0-2.86zM5.41 20L4 18.59l7.72-7.72 1.47 1.35L5.41 20z\"/>\n",
              "  </svg>\n",
              "      </button>\n",
              "      \n",
              "  <style>\n",
              "    .colab-df-container {\n",
              "      display:flex;\n",
              "      flex-wrap:wrap;\n",
              "      gap: 12px;\n",
              "    }\n",
              "\n",
              "    .colab-df-convert {\n",
              "      background-color: #E8F0FE;\n",
              "      border: none;\n",
              "      border-radius: 50%;\n",
              "      cursor: pointer;\n",
              "      display: none;\n",
              "      fill: #1967D2;\n",
              "      height: 32px;\n",
              "      padding: 0 0 0 0;\n",
              "      width: 32px;\n",
              "    }\n",
              "\n",
              "    .colab-df-convert:hover {\n",
              "      background-color: #E2EBFA;\n",
              "      box-shadow: 0px 1px 2px rgba(60, 64, 67, 0.3), 0px 1px 3px 1px rgba(60, 64, 67, 0.15);\n",
              "      fill: #174EA6;\n",
              "    }\n",
              "\n",
              "    [theme=dark] .colab-df-convert {\n",
              "      background-color: #3B4455;\n",
              "      fill: #D2E3FC;\n",
              "    }\n",
              "\n",
              "    [theme=dark] .colab-df-convert:hover {\n",
              "      background-color: #434B5C;\n",
              "      box-shadow: 0px 1px 3px 1px rgba(0, 0, 0, 0.15);\n",
              "      filter: drop-shadow(0px 1px 2px rgba(0, 0, 0, 0.3));\n",
              "      fill: #FFFFFF;\n",
              "    }\n",
              "  </style>\n",
              "\n",
              "      <script>\n",
              "        const buttonEl =\n",
              "          document.querySelector('#df-3778f8d9-dfec-437b-8b01-f27438c849aa button.colab-df-convert');\n",
              "        buttonEl.style.display =\n",
              "          google.colab.kernel.accessAllowed ? 'block' : 'none';\n",
              "\n",
              "        async function convertToInteractive(key) {\n",
              "          const element = document.querySelector('#df-3778f8d9-dfec-437b-8b01-f27438c849aa');\n",
              "          const dataTable =\n",
              "            await google.colab.kernel.invokeFunction('convertToInteractive',\n",
              "                                                     [key], {});\n",
              "          if (!dataTable) return;\n",
              "\n",
              "          const docLinkHtml = 'Like what you see? Visit the ' +\n",
              "            '<a target=\"_blank\" href=https://colab.research.google.com/notebooks/data_table.ipynb>data table notebook</a>'\n",
              "            + ' to learn more about interactive tables.';\n",
              "          element.innerHTML = '';\n",
              "          dataTable['output_type'] = 'display_data';\n",
              "          await google.colab.output.renderOutput(dataTable, element);\n",
              "          const docLink = document.createElement('div');\n",
              "          docLink.innerHTML = docLinkHtml;\n",
              "          element.appendChild(docLink);\n",
              "        }\n",
              "      </script>\n",
              "    </div>\n",
              "  </div>\n",
              "  "
            ]
          },
          "metadata": {},
          "execution_count": 23
        }
      ],
      "source": [
        "poems_spanish = dataset_spanish[['content']]\n",
        "poems_spanish = poems_spanish.rename(columns={'content': 'Content'}) \n",
        "poems_spanish.head()"
      ]
    },
    {
      "cell_type": "code",
      "execution_count": null,
      "metadata": {
        "colab": {
          "base_uri": "https://localhost:8080/",
          "height": 206
        },
        "id": "Mu3fQ4JreuUB",
        "outputId": "878bda3c-32da-4513-a6a4-c41516b7c7a4"
      },
      "outputs": [
        {
          "output_type": "execute_result",
          "data": {
            "text/plain": [
              "                                             Content  Language\n",
              "0  \\n\\nEn el parque confuso\\nQue con lánguidas br...         1\n",
              "1  \\n\\nPorque si tú no velas, vendré como ladrón;...         1\n",
              "2  \\n\\nPequeña de mis sueños, por tu piel las pal...         1\n",
              "3  \\n\\nLos dedos de la nieve\\nrepiquetearon\\nen e...         1\n",
              "4  Naciste en Armenia,\\npero te fuiste a vivir al...         1"
            ],
            "text/html": [
              "\n",
              "  <div id=\"df-44873aa8-14f7-442d-a8b9-bfda3caebf70\">\n",
              "    <div class=\"colab-df-container\">\n",
              "      <div>\n",
              "<style scoped>\n",
              "    .dataframe tbody tr th:only-of-type {\n",
              "        vertical-align: middle;\n",
              "    }\n",
              "\n",
              "    .dataframe tbody tr th {\n",
              "        vertical-align: top;\n",
              "    }\n",
              "\n",
              "    .dataframe thead th {\n",
              "        text-align: right;\n",
              "    }\n",
              "</style>\n",
              "<table border=\"1\" class=\"dataframe\">\n",
              "  <thead>\n",
              "    <tr style=\"text-align: right;\">\n",
              "      <th></th>\n",
              "      <th>Content</th>\n",
              "      <th>Language</th>\n",
              "    </tr>\n",
              "  </thead>\n",
              "  <tbody>\n",
              "    <tr>\n",
              "      <th>0</th>\n",
              "      <td>\\n\\nEn el parque confuso\\nQue con lánguidas br...</td>\n",
              "      <td>1</td>\n",
              "    </tr>\n",
              "    <tr>\n",
              "      <th>1</th>\n",
              "      <td>\\n\\nPorque si tú no velas, vendré como ladrón;...</td>\n",
              "      <td>1</td>\n",
              "    </tr>\n",
              "    <tr>\n",
              "      <th>2</th>\n",
              "      <td>\\n\\nPequeña de mis sueños, por tu piel las pal...</td>\n",
              "      <td>1</td>\n",
              "    </tr>\n",
              "    <tr>\n",
              "      <th>3</th>\n",
              "      <td>\\n\\nLos dedos de la nieve\\nrepiquetearon\\nen e...</td>\n",
              "      <td>1</td>\n",
              "    </tr>\n",
              "    <tr>\n",
              "      <th>4</th>\n",
              "      <td>Naciste en Armenia,\\npero te fuiste a vivir al...</td>\n",
              "      <td>1</td>\n",
              "    </tr>\n",
              "  </tbody>\n",
              "</table>\n",
              "</div>\n",
              "      <button class=\"colab-df-convert\" onclick=\"convertToInteractive('df-44873aa8-14f7-442d-a8b9-bfda3caebf70')\"\n",
              "              title=\"Convert this dataframe to an interactive table.\"\n",
              "              style=\"display:none;\">\n",
              "        \n",
              "  <svg xmlns=\"http://www.w3.org/2000/svg\" height=\"24px\"viewBox=\"0 0 24 24\"\n",
              "       width=\"24px\">\n",
              "    <path d=\"M0 0h24v24H0V0z\" fill=\"none\"/>\n",
              "    <path d=\"M18.56 5.44l.94 2.06.94-2.06 2.06-.94-2.06-.94-.94-2.06-.94 2.06-2.06.94zm-11 1L8.5 8.5l.94-2.06 2.06-.94-2.06-.94L8.5 2.5l-.94 2.06-2.06.94zm10 10l.94 2.06.94-2.06 2.06-.94-2.06-.94-.94-2.06-.94 2.06-2.06.94z\"/><path d=\"M17.41 7.96l-1.37-1.37c-.4-.4-.92-.59-1.43-.59-.52 0-1.04.2-1.43.59L10.3 9.45l-7.72 7.72c-.78.78-.78 2.05 0 2.83L4 21.41c.39.39.9.59 1.41.59.51 0 1.02-.2 1.41-.59l7.78-7.78 2.81-2.81c.8-.78.8-2.07 0-2.86zM5.41 20L4 18.59l7.72-7.72 1.47 1.35L5.41 20z\"/>\n",
              "  </svg>\n",
              "      </button>\n",
              "      \n",
              "  <style>\n",
              "    .colab-df-container {\n",
              "      display:flex;\n",
              "      flex-wrap:wrap;\n",
              "      gap: 12px;\n",
              "    }\n",
              "\n",
              "    .colab-df-convert {\n",
              "      background-color: #E8F0FE;\n",
              "      border: none;\n",
              "      border-radius: 50%;\n",
              "      cursor: pointer;\n",
              "      display: none;\n",
              "      fill: #1967D2;\n",
              "      height: 32px;\n",
              "      padding: 0 0 0 0;\n",
              "      width: 32px;\n",
              "    }\n",
              "\n",
              "    .colab-df-convert:hover {\n",
              "      background-color: #E2EBFA;\n",
              "      box-shadow: 0px 1px 2px rgba(60, 64, 67, 0.3), 0px 1px 3px 1px rgba(60, 64, 67, 0.15);\n",
              "      fill: #174EA6;\n",
              "    }\n",
              "\n",
              "    [theme=dark] .colab-df-convert {\n",
              "      background-color: #3B4455;\n",
              "      fill: #D2E3FC;\n",
              "    }\n",
              "\n",
              "    [theme=dark] .colab-df-convert:hover {\n",
              "      background-color: #434B5C;\n",
              "      box-shadow: 0px 1px 3px 1px rgba(0, 0, 0, 0.15);\n",
              "      filter: drop-shadow(0px 1px 2px rgba(0, 0, 0, 0.3));\n",
              "      fill: #FFFFFF;\n",
              "    }\n",
              "  </style>\n",
              "\n",
              "      <script>\n",
              "        const buttonEl =\n",
              "          document.querySelector('#df-44873aa8-14f7-442d-a8b9-bfda3caebf70 button.colab-df-convert');\n",
              "        buttonEl.style.display =\n",
              "          google.colab.kernel.accessAllowed ? 'block' : 'none';\n",
              "\n",
              "        async function convertToInteractive(key) {\n",
              "          const element = document.querySelector('#df-44873aa8-14f7-442d-a8b9-bfda3caebf70');\n",
              "          const dataTable =\n",
              "            await google.colab.kernel.invokeFunction('convertToInteractive',\n",
              "                                                     [key], {});\n",
              "          if (!dataTable) return;\n",
              "\n",
              "          const docLinkHtml = 'Like what you see? Visit the ' +\n",
              "            '<a target=\"_blank\" href=https://colab.research.google.com/notebooks/data_table.ipynb>data table notebook</a>'\n",
              "            + ' to learn more about interactive tables.';\n",
              "          element.innerHTML = '';\n",
              "          dataTable['output_type'] = 'display_data';\n",
              "          await google.colab.output.renderOutput(dataTable, element);\n",
              "          const docLink = document.createElement('div');\n",
              "          docLink.innerHTML = docLinkHtml;\n",
              "          element.appendChild(docLink);\n",
              "        }\n",
              "      </script>\n",
              "    </div>\n",
              "  </div>\n",
              "  "
            ]
          },
          "metadata": {},
          "execution_count": 24
        }
      ],
      "source": [
        "poems_spanish.insert(1, \"Language\", lang_class['spanish'])\n",
        "poems_spanish.head()"
      ]
    },
    {
      "cell_type": "code",
      "execution_count": null,
      "metadata": {
        "colab": {
          "base_uri": "https://localhost:8080/"
        },
        "id": "5HCsvUoQeGeA",
        "outputId": "55df331d-65e2-4524-a1a0-c15509c00618"
      },
      "outputs": [
        {
          "output_type": "stream",
          "name": "stdout",
          "text": [
            "5131\n"
          ]
        }
      ],
      "source": [
        "content_spanish = poems_spanish['Content'].array\n",
        "print(len(content_spanish))\n",
        "# content_spanish"
      ]
    },
    {
      "cell_type": "code",
      "execution_count": null,
      "metadata": {
        "colab": {
          "base_uri": "https://localhost:8080/"
        },
        "id": "rfVGyJmGfa3b",
        "outputId": "92226ed5-9434-4636-92a0-a551e0bfa203"
      },
      "outputs": [
        {
          "output_type": "stream",
          "name": "stdout",
          "text": [
            "151125\n"
          ]
        }
      ],
      "source": [
        "# things to note: only saw spanish and \\n seperated lines \n",
        "# am also actually seeing some english \n",
        "# Nnoticing some \\x97 and » dont know what it is? line separaator?\n",
        "lines_spanish = seperate_lines(content_spanish)\n",
        "# lines_spanish\n",
        "print(len(lines_spanish))"
      ]
    },
    {
      "cell_type": "code",
      "execution_count": null,
      "metadata": {
        "colab": {
          "base_uri": "https://localhost:8080/"
        },
        "id": "nJAfOeJ9fa3d",
        "outputId": "e0b8fca5-606d-4a1b-defb-e143cf0034c4"
      },
      "outputs": [
        {
          "output_type": "stream",
          "name": "stdout",
          "text": [
            "151125\n"
          ]
        }
      ],
      "source": [
        "tokenized_spanish, cleaned_spanish = tokenize_lines(lines_spanish)\n",
        "# tokenized_spanish\n",
        "print(len(tokenized_spanish))\n",
        "# TODO : maybe we should scale the data down here a bit\n",
        "# note: we strip punctuation but punctuation could be indicative ¿ "
      ]
    },
    {
      "cell_type": "code",
      "execution_count": null,
      "metadata": {
        "colab": {
          "base_uri": "https://localhost:8080/"
        },
        "id": "CFZD2wr_fa3e",
        "outputId": "f9fad86a-6fd6-4c67-9a43-275c2f6b52e2"
      },
      "outputs": [
        {
          "output_type": "stream",
          "name": "stdout",
          "text": [
            "(63119, 100)\n"
          ]
        }
      ],
      "source": [
        "word2vec_spanish = Word2Vec(sentences=tokenized_spanish, vector_size=EMBEDDINGS_SIZE, window=5, min_count=1, workers=4, sg=1)\n",
        "word2vec_spanish.save(\"word2vec_spanish.model\")\n",
        "print(word2vec_spanish.wv.vectors.shape)"
      ]
    },
    {
      "cell_type": "markdown",
      "metadata": {
        "id": "Oh9SXdZPoBCk"
      },
      "source": [
        "## English\n",
        "\n",
        "**TODO some explanation**\n",
        "\n",
        "https://www.kaggle.com/datasets/watrgoat/lots-of-poems the poems are from the poetry foundation website. "
      ]
    },
    {
      "cell_type": "markdown",
      "metadata": {
        "id": "_cApw5yBrP1s"
      },
      "source": [
        "**Theres two options for data for us to use. theres mostly_english_poems.csv and ready_poems.csv. ready CSV has some <NEWLINE> characters already preprocessed that we could split on. we need to make a choice there**"
      ]
    },
    {
      "cell_type": "code",
      "execution_count": null,
      "metadata": {
        "colab": {
          "base_uri": "https://localhost:8080/",
          "height": 206
        },
        "id": "mn54JSCRvFxC",
        "outputId": "cf5faa57-7ae8-4ad9-98c9-c3038835bbc9"
      },
      "outputs": [
        {
          "output_type": "execute_result",
          "data": {
            "text/plain": [
              "   Unnamed: 0                                              title  \\\n",
              "0           0              Do not go gentle into that good night   \n",
              "1           1                    How Do I Love Thee? (Sonnet 43)   \n",
              "2           2  Shall I compare thee to a summer’s day? (Sonne...   \n",
              "3           3                                                If—   \n",
              "4           4                              Nothing Gold Can Stay   \n",
              "\n",
              "                       author  \\\n",
              "0                Dylan Thomas   \n",
              "1  Elizabeth Barrett Browning   \n",
              "2         William Shakespeare   \n",
              "3             Rudyard Kipling   \n",
              "4                Robert Frost   \n",
              "\n",
              "                                             content tags  \n",
              "0  Do not go gentle into that good night,\\nOld ag...   []  \n",
              "1  How do I love thee? Let me count the ways.\\nI ...   []  \n",
              "2  Shall I compare thee to a summer’s day?\\nThou ...   []  \n",
              "3  If you can keep your head when all about you\\n...   []  \n",
              "4  Nature’s first green is gold,\\nHer hardest hue...   []  "
            ],
            "text/html": [
              "\n",
              "  <div id=\"df-958dfd0d-ecb1-47d8-bba4-ea5a23fca5b2\">\n",
              "    <div class=\"colab-df-container\">\n",
              "      <div>\n",
              "<style scoped>\n",
              "    .dataframe tbody tr th:only-of-type {\n",
              "        vertical-align: middle;\n",
              "    }\n",
              "\n",
              "    .dataframe tbody tr th {\n",
              "        vertical-align: top;\n",
              "    }\n",
              "\n",
              "    .dataframe thead th {\n",
              "        text-align: right;\n",
              "    }\n",
              "</style>\n",
              "<table border=\"1\" class=\"dataframe\">\n",
              "  <thead>\n",
              "    <tr style=\"text-align: right;\">\n",
              "      <th></th>\n",
              "      <th>Unnamed: 0</th>\n",
              "      <th>title</th>\n",
              "      <th>author</th>\n",
              "      <th>content</th>\n",
              "      <th>tags</th>\n",
              "    </tr>\n",
              "  </thead>\n",
              "  <tbody>\n",
              "    <tr>\n",
              "      <th>0</th>\n",
              "      <td>0</td>\n",
              "      <td>Do not go gentle into that good night</td>\n",
              "      <td>Dylan Thomas</td>\n",
              "      <td>Do not go gentle into that good night,\\nOld ag...</td>\n",
              "      <td>[]</td>\n",
              "    </tr>\n",
              "    <tr>\n",
              "      <th>1</th>\n",
              "      <td>1</td>\n",
              "      <td>How Do I Love Thee? (Sonnet 43)</td>\n",
              "      <td>Elizabeth Barrett Browning</td>\n",
              "      <td>How do I love thee? Let me count the ways.\\nI ...</td>\n",
              "      <td>[]</td>\n",
              "    </tr>\n",
              "    <tr>\n",
              "      <th>2</th>\n",
              "      <td>2</td>\n",
              "      <td>Shall I compare thee to a summer’s day? (Sonne...</td>\n",
              "      <td>William Shakespeare</td>\n",
              "      <td>Shall I compare thee to a summer’s day?\\nThou ...</td>\n",
              "      <td>[]</td>\n",
              "    </tr>\n",
              "    <tr>\n",
              "      <th>3</th>\n",
              "      <td>3</td>\n",
              "      <td>If—</td>\n",
              "      <td>Rudyard Kipling</td>\n",
              "      <td>If you can keep your head when all about you\\n...</td>\n",
              "      <td>[]</td>\n",
              "    </tr>\n",
              "    <tr>\n",
              "      <th>4</th>\n",
              "      <td>4</td>\n",
              "      <td>Nothing Gold Can Stay</td>\n",
              "      <td>Robert Frost</td>\n",
              "      <td>Nature’s first green is gold,\\nHer hardest hue...</td>\n",
              "      <td>[]</td>\n",
              "    </tr>\n",
              "  </tbody>\n",
              "</table>\n",
              "</div>\n",
              "      <button class=\"colab-df-convert\" onclick=\"convertToInteractive('df-958dfd0d-ecb1-47d8-bba4-ea5a23fca5b2')\"\n",
              "              title=\"Convert this dataframe to an interactive table.\"\n",
              "              style=\"display:none;\">\n",
              "        \n",
              "  <svg xmlns=\"http://www.w3.org/2000/svg\" height=\"24px\"viewBox=\"0 0 24 24\"\n",
              "       width=\"24px\">\n",
              "    <path d=\"M0 0h24v24H0V0z\" fill=\"none\"/>\n",
              "    <path d=\"M18.56 5.44l.94 2.06.94-2.06 2.06-.94-2.06-.94-.94-2.06-.94 2.06-2.06.94zm-11 1L8.5 8.5l.94-2.06 2.06-.94-2.06-.94L8.5 2.5l-.94 2.06-2.06.94zm10 10l.94 2.06.94-2.06 2.06-.94-2.06-.94-.94-2.06-.94 2.06-2.06.94z\"/><path d=\"M17.41 7.96l-1.37-1.37c-.4-.4-.92-.59-1.43-.59-.52 0-1.04.2-1.43.59L10.3 9.45l-7.72 7.72c-.78.78-.78 2.05 0 2.83L4 21.41c.39.39.9.59 1.41.59.51 0 1.02-.2 1.41-.59l7.78-7.78 2.81-2.81c.8-.78.8-2.07 0-2.86zM5.41 20L4 18.59l7.72-7.72 1.47 1.35L5.41 20z\"/>\n",
              "  </svg>\n",
              "      </button>\n",
              "      \n",
              "  <style>\n",
              "    .colab-df-container {\n",
              "      display:flex;\n",
              "      flex-wrap:wrap;\n",
              "      gap: 12px;\n",
              "    }\n",
              "\n",
              "    .colab-df-convert {\n",
              "      background-color: #E8F0FE;\n",
              "      border: none;\n",
              "      border-radius: 50%;\n",
              "      cursor: pointer;\n",
              "      display: none;\n",
              "      fill: #1967D2;\n",
              "      height: 32px;\n",
              "      padding: 0 0 0 0;\n",
              "      width: 32px;\n",
              "    }\n",
              "\n",
              "    .colab-df-convert:hover {\n",
              "      background-color: #E2EBFA;\n",
              "      box-shadow: 0px 1px 2px rgba(60, 64, 67, 0.3), 0px 1px 3px 1px rgba(60, 64, 67, 0.15);\n",
              "      fill: #174EA6;\n",
              "    }\n",
              "\n",
              "    [theme=dark] .colab-df-convert {\n",
              "      background-color: #3B4455;\n",
              "      fill: #D2E3FC;\n",
              "    }\n",
              "\n",
              "    [theme=dark] .colab-df-convert:hover {\n",
              "      background-color: #434B5C;\n",
              "      box-shadow: 0px 1px 3px 1px rgba(0, 0, 0, 0.15);\n",
              "      filter: drop-shadow(0px 1px 2px rgba(0, 0, 0, 0.3));\n",
              "      fill: #FFFFFF;\n",
              "    }\n",
              "  </style>\n",
              "\n",
              "      <script>\n",
              "        const buttonEl =\n",
              "          document.querySelector('#df-958dfd0d-ecb1-47d8-bba4-ea5a23fca5b2 button.colab-df-convert');\n",
              "        buttonEl.style.display =\n",
              "          google.colab.kernel.accessAllowed ? 'block' : 'none';\n",
              "\n",
              "        async function convertToInteractive(key) {\n",
              "          const element = document.querySelector('#df-958dfd0d-ecb1-47d8-bba4-ea5a23fca5b2');\n",
              "          const dataTable =\n",
              "            await google.colab.kernel.invokeFunction('convertToInteractive',\n",
              "                                                     [key], {});\n",
              "          if (!dataTable) return;\n",
              "\n",
              "          const docLinkHtml = 'Like what you see? Visit the ' +\n",
              "            '<a target=\"_blank\" href=https://colab.research.google.com/notebooks/data_table.ipynb>data table notebook</a>'\n",
              "            + ' to learn more about interactive tables.';\n",
              "          element.innerHTML = '';\n",
              "          dataTable['output_type'] = 'display_data';\n",
              "          await google.colab.output.renderOutput(dataTable, element);\n",
              "          const docLink = document.createElement('div');\n",
              "          docLink.innerHTML = docLinkHtml;\n",
              "          element.appendChild(docLink);\n",
              "        }\n",
              "      </script>\n",
              "    </div>\n",
              "  </div>\n",
              "  "
            ]
          },
          "metadata": {},
          "execution_count": 29
        }
      ],
      "source": [
        "dataset_english = pd.read_csv('dataset-english.csv')\n",
        "dataset_english.head()"
      ]
    },
    {
      "cell_type": "code",
      "execution_count": null,
      "metadata": {
        "colab": {
          "base_uri": "https://localhost:8080/"
        },
        "id": "S85qIE59vFxF",
        "outputId": "53ee469e-96b5-46fb-cc1f-9e384cbfb59a"
      },
      "outputs": [
        {
          "output_type": "stream",
          "name": "stdout",
          "text": [
            "Unnamed: 0    26817\n",
            "title         26817\n",
            "author        26796\n",
            "content       26817\n",
            "tags          26817\n",
            "dtype: int64\n",
            "Unnamed: 0    26817\n",
            "title         26817\n",
            "author        26796\n",
            "content       26817\n",
            "tags          26817\n",
            "dtype: int64\n"
          ]
        }
      ],
      "source": [
        "#drop NA content, reindex if any was dropped\n",
        "print(dataset_english.count())\n",
        "dataset_english.dropna(subset=['content'],inplace=True)\n",
        "dataset_english.reset_index(drop=True,inplace=True)\n",
        "print(dataset_english.count())"
      ]
    },
    {
      "cell_type": "code",
      "execution_count": null,
      "metadata": {
        "colab": {
          "base_uri": "https://localhost:8080/",
          "height": 206
        },
        "id": "rPu1dd_ZvFxG",
        "outputId": "866e0f3d-58b6-4186-a6d6-3fb60f4a0249"
      },
      "outputs": [
        {
          "output_type": "execute_result",
          "data": {
            "text/plain": [
              "                                             Content\n",
              "0  Do not go gentle into that good night,\\nOld ag...\n",
              "1  How do I love thee? Let me count the ways.\\nI ...\n",
              "2  Shall I compare thee to a summer’s day?\\nThou ...\n",
              "3  If you can keep your head when all about you\\n...\n",
              "4  Nature’s first green is gold,\\nHer hardest hue..."
            ],
            "text/html": [
              "\n",
              "  <div id=\"df-91d65316-1335-45de-a951-cb182ded4bc3\">\n",
              "    <div class=\"colab-df-container\">\n",
              "      <div>\n",
              "<style scoped>\n",
              "    .dataframe tbody tr th:only-of-type {\n",
              "        vertical-align: middle;\n",
              "    }\n",
              "\n",
              "    .dataframe tbody tr th {\n",
              "        vertical-align: top;\n",
              "    }\n",
              "\n",
              "    .dataframe thead th {\n",
              "        text-align: right;\n",
              "    }\n",
              "</style>\n",
              "<table border=\"1\" class=\"dataframe\">\n",
              "  <thead>\n",
              "    <tr style=\"text-align: right;\">\n",
              "      <th></th>\n",
              "      <th>Content</th>\n",
              "    </tr>\n",
              "  </thead>\n",
              "  <tbody>\n",
              "    <tr>\n",
              "      <th>0</th>\n",
              "      <td>Do not go gentle into that good night,\\nOld ag...</td>\n",
              "    </tr>\n",
              "    <tr>\n",
              "      <th>1</th>\n",
              "      <td>How do I love thee? Let me count the ways.\\nI ...</td>\n",
              "    </tr>\n",
              "    <tr>\n",
              "      <th>2</th>\n",
              "      <td>Shall I compare thee to a summer’s day?\\nThou ...</td>\n",
              "    </tr>\n",
              "    <tr>\n",
              "      <th>3</th>\n",
              "      <td>If you can keep your head when all about you\\n...</td>\n",
              "    </tr>\n",
              "    <tr>\n",
              "      <th>4</th>\n",
              "      <td>Nature’s first green is gold,\\nHer hardest hue...</td>\n",
              "    </tr>\n",
              "  </tbody>\n",
              "</table>\n",
              "</div>\n",
              "      <button class=\"colab-df-convert\" onclick=\"convertToInteractive('df-91d65316-1335-45de-a951-cb182ded4bc3')\"\n",
              "              title=\"Convert this dataframe to an interactive table.\"\n",
              "              style=\"display:none;\">\n",
              "        \n",
              "  <svg xmlns=\"http://www.w3.org/2000/svg\" height=\"24px\"viewBox=\"0 0 24 24\"\n",
              "       width=\"24px\">\n",
              "    <path d=\"M0 0h24v24H0V0z\" fill=\"none\"/>\n",
              "    <path d=\"M18.56 5.44l.94 2.06.94-2.06 2.06-.94-2.06-.94-.94-2.06-.94 2.06-2.06.94zm-11 1L8.5 8.5l.94-2.06 2.06-.94-2.06-.94L8.5 2.5l-.94 2.06-2.06.94zm10 10l.94 2.06.94-2.06 2.06-.94-2.06-.94-.94-2.06-.94 2.06-2.06.94z\"/><path d=\"M17.41 7.96l-1.37-1.37c-.4-.4-.92-.59-1.43-.59-.52 0-1.04.2-1.43.59L10.3 9.45l-7.72 7.72c-.78.78-.78 2.05 0 2.83L4 21.41c.39.39.9.59 1.41.59.51 0 1.02-.2 1.41-.59l7.78-7.78 2.81-2.81c.8-.78.8-2.07 0-2.86zM5.41 20L4 18.59l7.72-7.72 1.47 1.35L5.41 20z\"/>\n",
              "  </svg>\n",
              "      </button>\n",
              "      \n",
              "  <style>\n",
              "    .colab-df-container {\n",
              "      display:flex;\n",
              "      flex-wrap:wrap;\n",
              "      gap: 12px;\n",
              "    }\n",
              "\n",
              "    .colab-df-convert {\n",
              "      background-color: #E8F0FE;\n",
              "      border: none;\n",
              "      border-radius: 50%;\n",
              "      cursor: pointer;\n",
              "      display: none;\n",
              "      fill: #1967D2;\n",
              "      height: 32px;\n",
              "      padding: 0 0 0 0;\n",
              "      width: 32px;\n",
              "    }\n",
              "\n",
              "    .colab-df-convert:hover {\n",
              "      background-color: #E2EBFA;\n",
              "      box-shadow: 0px 1px 2px rgba(60, 64, 67, 0.3), 0px 1px 3px 1px rgba(60, 64, 67, 0.15);\n",
              "      fill: #174EA6;\n",
              "    }\n",
              "\n",
              "    [theme=dark] .colab-df-convert {\n",
              "      background-color: #3B4455;\n",
              "      fill: #D2E3FC;\n",
              "    }\n",
              "\n",
              "    [theme=dark] .colab-df-convert:hover {\n",
              "      background-color: #434B5C;\n",
              "      box-shadow: 0px 1px 3px 1px rgba(0, 0, 0, 0.15);\n",
              "      filter: drop-shadow(0px 1px 2px rgba(0, 0, 0, 0.3));\n",
              "      fill: #FFFFFF;\n",
              "    }\n",
              "  </style>\n",
              "\n",
              "      <script>\n",
              "        const buttonEl =\n",
              "          document.querySelector('#df-91d65316-1335-45de-a951-cb182ded4bc3 button.colab-df-convert');\n",
              "        buttonEl.style.display =\n",
              "          google.colab.kernel.accessAllowed ? 'block' : 'none';\n",
              "\n",
              "        async function convertToInteractive(key) {\n",
              "          const element = document.querySelector('#df-91d65316-1335-45de-a951-cb182ded4bc3');\n",
              "          const dataTable =\n",
              "            await google.colab.kernel.invokeFunction('convertToInteractive',\n",
              "                                                     [key], {});\n",
              "          if (!dataTable) return;\n",
              "\n",
              "          const docLinkHtml = 'Like what you see? Visit the ' +\n",
              "            '<a target=\"_blank\" href=https://colab.research.google.com/notebooks/data_table.ipynb>data table notebook</a>'\n",
              "            + ' to learn more about interactive tables.';\n",
              "          element.innerHTML = '';\n",
              "          dataTable['output_type'] = 'display_data';\n",
              "          await google.colab.output.renderOutput(dataTable, element);\n",
              "          const docLink = document.createElement('div');\n",
              "          docLink.innerHTML = docLinkHtml;\n",
              "          element.appendChild(docLink);\n",
              "        }\n",
              "      </script>\n",
              "    </div>\n",
              "  </div>\n",
              "  "
            ]
          },
          "metadata": {},
          "execution_count": 31
        }
      ],
      "source": [
        "poems_english = dataset_english[['content']]\n",
        "poems_english = poems_english.rename(columns={'content': 'Content'}) \n",
        "poems_english.head()"
      ]
    },
    {
      "cell_type": "code",
      "execution_count": null,
      "metadata": {
        "colab": {
          "base_uri": "https://localhost:8080/",
          "height": 206
        },
        "id": "G1dDjo2pvFxG",
        "outputId": "7def4ae8-4797-4461-c906-814867698f3c"
      },
      "outputs": [
        {
          "output_type": "execute_result",
          "data": {
            "text/plain": [
              "                                             Content  Language\n",
              "0  Do not go gentle into that good night,\\nOld ag...         2\n",
              "1  How do I love thee? Let me count the ways.\\nI ...         2\n",
              "2  Shall I compare thee to a summer’s day?\\nThou ...         2\n",
              "3  If you can keep your head when all about you\\n...         2\n",
              "4  Nature’s first green is gold,\\nHer hardest hue...         2"
            ],
            "text/html": [
              "\n",
              "  <div id=\"df-23668cfd-0b97-428d-b2ff-ef5d0c0d5bdd\">\n",
              "    <div class=\"colab-df-container\">\n",
              "      <div>\n",
              "<style scoped>\n",
              "    .dataframe tbody tr th:only-of-type {\n",
              "        vertical-align: middle;\n",
              "    }\n",
              "\n",
              "    .dataframe tbody tr th {\n",
              "        vertical-align: top;\n",
              "    }\n",
              "\n",
              "    .dataframe thead th {\n",
              "        text-align: right;\n",
              "    }\n",
              "</style>\n",
              "<table border=\"1\" class=\"dataframe\">\n",
              "  <thead>\n",
              "    <tr style=\"text-align: right;\">\n",
              "      <th></th>\n",
              "      <th>Content</th>\n",
              "      <th>Language</th>\n",
              "    </tr>\n",
              "  </thead>\n",
              "  <tbody>\n",
              "    <tr>\n",
              "      <th>0</th>\n",
              "      <td>Do not go gentle into that good night,\\nOld ag...</td>\n",
              "      <td>2</td>\n",
              "    </tr>\n",
              "    <tr>\n",
              "      <th>1</th>\n",
              "      <td>How do I love thee? Let me count the ways.\\nI ...</td>\n",
              "      <td>2</td>\n",
              "    </tr>\n",
              "    <tr>\n",
              "      <th>2</th>\n",
              "      <td>Shall I compare thee to a summer’s day?\\nThou ...</td>\n",
              "      <td>2</td>\n",
              "    </tr>\n",
              "    <tr>\n",
              "      <th>3</th>\n",
              "      <td>If you can keep your head when all about you\\n...</td>\n",
              "      <td>2</td>\n",
              "    </tr>\n",
              "    <tr>\n",
              "      <th>4</th>\n",
              "      <td>Nature’s first green is gold,\\nHer hardest hue...</td>\n",
              "      <td>2</td>\n",
              "    </tr>\n",
              "  </tbody>\n",
              "</table>\n",
              "</div>\n",
              "      <button class=\"colab-df-convert\" onclick=\"convertToInteractive('df-23668cfd-0b97-428d-b2ff-ef5d0c0d5bdd')\"\n",
              "              title=\"Convert this dataframe to an interactive table.\"\n",
              "              style=\"display:none;\">\n",
              "        \n",
              "  <svg xmlns=\"http://www.w3.org/2000/svg\" height=\"24px\"viewBox=\"0 0 24 24\"\n",
              "       width=\"24px\">\n",
              "    <path d=\"M0 0h24v24H0V0z\" fill=\"none\"/>\n",
              "    <path d=\"M18.56 5.44l.94 2.06.94-2.06 2.06-.94-2.06-.94-.94-2.06-.94 2.06-2.06.94zm-11 1L8.5 8.5l.94-2.06 2.06-.94-2.06-.94L8.5 2.5l-.94 2.06-2.06.94zm10 10l.94 2.06.94-2.06 2.06-.94-2.06-.94-.94-2.06-.94 2.06-2.06.94z\"/><path d=\"M17.41 7.96l-1.37-1.37c-.4-.4-.92-.59-1.43-.59-.52 0-1.04.2-1.43.59L10.3 9.45l-7.72 7.72c-.78.78-.78 2.05 0 2.83L4 21.41c.39.39.9.59 1.41.59.51 0 1.02-.2 1.41-.59l7.78-7.78 2.81-2.81c.8-.78.8-2.07 0-2.86zM5.41 20L4 18.59l7.72-7.72 1.47 1.35L5.41 20z\"/>\n",
              "  </svg>\n",
              "      </button>\n",
              "      \n",
              "  <style>\n",
              "    .colab-df-container {\n",
              "      display:flex;\n",
              "      flex-wrap:wrap;\n",
              "      gap: 12px;\n",
              "    }\n",
              "\n",
              "    .colab-df-convert {\n",
              "      background-color: #E8F0FE;\n",
              "      border: none;\n",
              "      border-radius: 50%;\n",
              "      cursor: pointer;\n",
              "      display: none;\n",
              "      fill: #1967D2;\n",
              "      height: 32px;\n",
              "      padding: 0 0 0 0;\n",
              "      width: 32px;\n",
              "    }\n",
              "\n",
              "    .colab-df-convert:hover {\n",
              "      background-color: #E2EBFA;\n",
              "      box-shadow: 0px 1px 2px rgba(60, 64, 67, 0.3), 0px 1px 3px 1px rgba(60, 64, 67, 0.15);\n",
              "      fill: #174EA6;\n",
              "    }\n",
              "\n",
              "    [theme=dark] .colab-df-convert {\n",
              "      background-color: #3B4455;\n",
              "      fill: #D2E3FC;\n",
              "    }\n",
              "\n",
              "    [theme=dark] .colab-df-convert:hover {\n",
              "      background-color: #434B5C;\n",
              "      box-shadow: 0px 1px 3px 1px rgba(0, 0, 0, 0.15);\n",
              "      filter: drop-shadow(0px 1px 2px rgba(0, 0, 0, 0.3));\n",
              "      fill: #FFFFFF;\n",
              "    }\n",
              "  </style>\n",
              "\n",
              "      <script>\n",
              "        const buttonEl =\n",
              "          document.querySelector('#df-23668cfd-0b97-428d-b2ff-ef5d0c0d5bdd button.colab-df-convert');\n",
              "        buttonEl.style.display =\n",
              "          google.colab.kernel.accessAllowed ? 'block' : 'none';\n",
              "\n",
              "        async function convertToInteractive(key) {\n",
              "          const element = document.querySelector('#df-23668cfd-0b97-428d-b2ff-ef5d0c0d5bdd');\n",
              "          const dataTable =\n",
              "            await google.colab.kernel.invokeFunction('convertToInteractive',\n",
              "                                                     [key], {});\n",
              "          if (!dataTable) return;\n",
              "\n",
              "          const docLinkHtml = 'Like what you see? Visit the ' +\n",
              "            '<a target=\"_blank\" href=https://colab.research.google.com/notebooks/data_table.ipynb>data table notebook</a>'\n",
              "            + ' to learn more about interactive tables.';\n",
              "          element.innerHTML = '';\n",
              "          dataTable['output_type'] = 'display_data';\n",
              "          await google.colab.output.renderOutput(dataTable, element);\n",
              "          const docLink = document.createElement('div');\n",
              "          docLink.innerHTML = docLinkHtml;\n",
              "          element.appendChild(docLink);\n",
              "        }\n",
              "      </script>\n",
              "    </div>\n",
              "  </div>\n",
              "  "
            ]
          },
          "metadata": {},
          "execution_count": 32
        }
      ],
      "source": [
        "poems_english.insert(1, \"Language\", lang_class['english'])\n",
        "poems_english.head()"
      ]
    },
    {
      "cell_type": "code",
      "execution_count": null,
      "metadata": {
        "id": "-5YBKCHIvFxJ"
      },
      "outputs": [],
      "source": [
        "content_english = poems_english['Content'].array\n",
        "# print(len(content_english))\n",
        "# content_english"
      ]
    },
    {
      "cell_type": "code",
      "execution_count": null,
      "metadata": {
        "colab": {
          "base_uri": "https://localhost:8080/"
        },
        "id": "VVtGYcYmvFxJ",
        "outputId": "42570c3f-3f17-4384-ad59-31db5d1ba444"
      },
      "outputs": [
        {
          "output_type": "stream",
          "name": "stdout",
          "text": [
            "901433\n"
          ]
        }
      ],
      "source": [
        "# things to note:\n",
        "lines_english = seperate_lines(content_english)\n",
        "# lines_english\n",
        "print(len(lines_english))"
      ]
    },
    {
      "cell_type": "code",
      "execution_count": null,
      "metadata": {
        "colab": {
          "base_uri": "https://localhost:8080/"
        },
        "id": "uqbFAeuCvFxJ",
        "outputId": "a4c9291c-3a6c-445a-ff11-cb4a72e5c978"
      },
      "outputs": [
        {
          "output_type": "stream",
          "name": "stdout",
          "text": [
            "901433\n"
          ]
        }
      ],
      "source": [
        "tokenized_english, cleaned_english = tokenize_lines(lines_english)\n",
        "# tokenized_english\n",
        "print(len(tokenized_english))\n",
        "# TODO : maybe we should scale the data down here a bit"
      ]
    },
    {
      "cell_type": "code",
      "execution_count": null,
      "metadata": {
        "colab": {
          "base_uri": "https://localhost:8080/"
        },
        "id": "x1w_2Cg9vFxJ",
        "outputId": "c9e03ead-49d9-479a-97a0-a4b8a8980910"
      },
      "outputs": [
        {
          "output_type": "stream",
          "name": "stdout",
          "text": [
            "(215313, 100)\n"
          ]
        }
      ],
      "source": [
        "word2vec_english = Word2Vec(sentences=tokenized_english, vector_size=EMBEDDINGS_SIZE, window=5, min_count=1, workers=4, sg=1)\n",
        "word2vec_english.save(\"word2vec_english.model\")\n",
        "print(word2vec_english.wv.vectors.shape)"
      ]
    },
    {
      "cell_type": "markdown",
      "metadata": {
        "id": "4puS-XXPyeJb"
      },
      "source": [
        "## Some Data Analysis"
      ]
    },
    {
      "cell_type": "code",
      "execution_count": null,
      "metadata": {
        "id": "gg_Lu1omyh1d"
      },
      "outputs": [],
      "source": [
        "# TODO do the word to vec comparison for spanish and english etc."
      ]
    },
    {
      "cell_type": "markdown",
      "metadata": {
        "id": "9E6Xa8EDwm92"
      },
      "source": [
        "# Naive Bayes"
      ]
    },
    {
      "cell_type": "markdown",
      "metadata": {
        "id": "yvE_SdrrNMXT"
      },
      "source": [
        "## training"
      ]
    },
    {
      "cell_type": "code",
      "execution_count": null,
      "metadata": {
        "id": "kdgapRdHww1y"
      },
      "outputs": [],
      "source": [
        "train_NB_portuguese = cleaned_portuguese[0:round(SCALE_LINES/2)]\n",
        "train_NB_spanish = cleaned_spanish[0:round(SCALE_LINES/2)]\n",
        "train_NB_english = cleaned_english[0:round(SCALE_LINES/2)]\n",
        "train_NB_corpus = train_NB_portuguese + train_NB_spanish + train_NB_english\n",
        "print(len(train_NB_corpus))\n",
        "\n",
        "train_NB_gold = [lang_class['portuguese'] for i in range(round(SCALE_LINES/2))]\n",
        "train_NB_gold += [lang_class['spanish'] for i in range(round(SCALE_LINES/2))]\n",
        "train_NB_gold += [lang_class['english'] for i in range(round(SCALE_LINES/2))]\n",
        "print(len(train_NB_gold))\n",
        "\n",
        "test_NB_portuguese = cleaned_portuguese[-(round(SCALE_LINES/2)):]\n",
        "test_NB_spanish = cleaned_spanish[-(round(SCALE_LINES/2)):]\n",
        "test_NB_english = cleaned_english[-(round(SCALE_LINES/2)):]\n",
        "test_NB_corpus = test_NB_portuguese + test_NB_spanish + test_NB_english\n",
        "print(len(test_NB_corpus))\n",
        "test_NB_gold = train_NB_gold\n",
        "print(len(test_NB_gold))"
      ]
    },
    {
      "cell_type": "code",
      "execution_count": null,
      "metadata": {
        "id": "JaQj1raF3XV1"
      },
      "outputs": [],
      "source": [
        "NB_vectorizer = TfidfVectorizer()\n",
        "# TODO i wonder how adding stop words would affect the model?\n",
        "train_NB_X = NB_vectorizer.fit_transform(train_NB_corpus)\n",
        "print(train_NB_X.shape)"
      ]
    },
    {
      "cell_type": "code",
      "execution_count": null,
      "metadata": {
        "id": "kvFV3lUp_1i_"
      },
      "outputs": [],
      "source": [
        "# print(NB_vectorizer.get_feature_names_out())\n",
        "# print(NB_vectorizer.get_feature_names_out()[6000:6900])\n",
        "# i can see the portuguese c and also different spanish accents in the words\n",
        "# why are there random unicode characters and chinese characters?\n",
        "# TODO (resolved) unsure if need to chaneg encoding to ISO-8859-1 or if utf 8 is fine\n",
        "# both look fine in terms of output here"
      ]
    },
    {
      "cell_type": "code",
      "execution_count": null,
      "metadata": {
        "id": "0hCh8JSN9cEv"
      },
      "outputs": [],
      "source": [
        "NB_model = MultinomialNB()\n",
        "#train\n",
        "NB_model.fit(train_NB_X, train_NB_gold)"
      ]
    },
    {
      "cell_type": "code",
      "execution_count": null,
      "metadata": {
        "id": "uK2NGKtYBAle"
      },
      "outputs": [],
      "source": [
        "#predict on train data\n",
        "train_NB_pred = NB_model.predict(train_NB_X)"
      ]
    },
    {
      "cell_type": "code",
      "execution_count": null,
      "metadata": {
        "id": "1KRpt646BQt4"
      },
      "outputs": [],
      "source": [
        "mat = confusion_matrix(train_NB_gold, train_NB_pred)\n",
        "sns.heatmap(mat.T, square = True, annot=True, fmt = \"d\", xticklabels=[ lang_class[0], lang_class[1], lang_class[2]],yticklabels=[lang_class[0], lang_class[1], lang_class[2]])\n",
        "plt.xlabel(\"true labels\")\n",
        "plt.ylabel(\"predicted label\")\n",
        "plt.title(\"Training Poems Performance\")\n",
        "plt.show()\n",
        "print(\"The accuracy is {}\".format(accuracy_score(train_NB_gold, train_NB_pred)))"
      ]
    },
    {
      "cell_type": "code",
      "execution_count": null,
      "metadata": {
        "id": "3PfKaSFyUz4J"
      },
      "outputs": [],
      "source": [
        "def test_model_and_graph(model, classes, sentences, gold, graph_title):\n",
        "  \"\"\"\n",
        "  model: the NB model to test on \n",
        "  lang_class: a dictonary of the string representations of the classes to their numerical class representation (and vice versa)\n",
        "  sentences: a list of strings to classify \n",
        "  gold: a list of numercal class value representatiosn that correspond to the sentences\n",
        "  graph_title : string of what to name the graph\n",
        "  \"\"\"\n",
        "  X = NB_vectorizer.transform(sentences)\n",
        "  pred = model.predict(X)\n",
        "  print(\"The accuracy is {}\".format(accuracy_score(gold, pred)))\n",
        "  mat = confusion_matrix(gold, pred)\n",
        "  sns.heatmap(mat.T, square = True, annot=True, fmt = \"d\", xticklabels=[classes[0], classes[1], classes[2]],yticklabels=[classes[0], classes[1], classes[2]])\n",
        "  plt.title(graph_title)\n",
        "  plt.xlabel(\"true labels\")\n",
        "  plt.ylabel(\"predicted label\")\n",
        "  plt.show()"
      ]
    },
    {
      "cell_type": "code",
      "execution_count": null,
      "metadata": {
        "id": "z4O3BUNvCmIt"
      },
      "outputs": [],
      "source": [
        "test_model_and_graph(NB_model, lang_class, test_NB_corpus, test_NB_gold, \"Test Poems Performance\")"
      ]
    },
    {
      "cell_type": "markdown",
      "metadata": {
        "id": "0S-i-Aw0UfxP"
      },
      "source": [
        "## manual testing"
      ]
    },
    {
      "cell_type": "code",
      "execution_count": null,
      "metadata": {
        "id": "gRJi8sFk4TP6"
      },
      "outputs": [],
      "source": [
        "# TODO some small little tests\n",
        "\n",
        "def NBmodel_smol_tests(model, classes, sentences):\n",
        "  X = NB_vectorizer.transform(sentences)\n",
        "  pred = model.predict(X)\n",
        "  [print(sentences[i], \"is\", classes[pred[i]]) for i in range(len(sentences))]\n",
        "\n",
        "NBmodel_smol_tests(NB_model, lang_class, [\"Nicole\", \"Sierra\", \"Buckley\", \"Rodriguez\"])\n",
        "NBmodel_smol_tests(NB_model, lang_class, [\"hello\", \"hola\", \"olá\"])\n",
        "NBmodel_smol_tests(NB_model, lang_class, [\"good morning\", \"buenos días\", \"bom dia\"])"
      ]
    },
    {
      "cell_type": "markdown",
      "metadata": {
        "id": "KleFO_OF72P_"
      },
      "source": [
        "## stop words testing"
      ]
    },
    {
      "cell_type": "markdown",
      "metadata": {
        "id": "yB2YEJlG8ZM2"
      },
      "source": [
        "I was just curious how naive bayes would allocate words that are very common to the respective languages "
      ]
    },
    {
      "cell_type": "code",
      "execution_count": null,
      "metadata": {
        "id": "96jK0l8UUheb"
      },
      "outputs": [],
      "source": [
        "! kaggle datasets download -d heeraldedhia/stop-words-in-28-languages\n",
        "! unzip stop-words-in-28-languages.zip "
      ]
    },
    {
      "cell_type": "code",
      "execution_count": null,
      "metadata": {
        "id": "IujxyL3lVZo0"
      },
      "outputs": [],
      "source": [
        "f = open(\"spanish.txt\")\n",
        "stop_words_spanish = f.readlines()\n",
        "f.close()\n",
        "stop_words_spanish = [x.strip() for x in stop_words_spanish]\n",
        "\n",
        "test_model_and_graph(NB_model, lang_class, stop_words_spanish, [lang_class['spanish'] for x in range(len(stop_words_spanish))], \n",
        "                  \"Predictions for Spanish Stop Words\")"
      ]
    },
    {
      "cell_type": "code",
      "execution_count": null,
      "metadata": {
        "id": "yPcrAk2nYGYp"
      },
      "outputs": [],
      "source": [
        "f = open(\"portuguese.txt\")\n",
        "stop_words_portuguese = f.readlines()\n",
        "f.close()\n",
        "stop_words_portuguese = [x.strip() for x in stop_words_portuguese]\n",
        "\n",
        "test_model_and_graph(NB_model, lang_class, stop_words_portuguese, [lang_class['portuguese'] for x in range(len(stop_words_portuguese))], \n",
        "                  \"Predictions for Portuguese Stop Words\")"
      ]
    },
    {
      "cell_type": "code",
      "execution_count": null,
      "metadata": {
        "id": "jV4xM-sqZXNK"
      },
      "outputs": [],
      "source": [
        "f = open(\"english.txt\")\n",
        "stop_words_english = f.readlines()\n",
        "f.close()\n",
        "stop_words_english = [x.strip() for x in stop_words_english]\n",
        "\n",
        "test_model_and_graph(NB_model, lang_class, stop_words_english, [lang_class['english'] for x in range(len(stop_words_english))], \n",
        "                  \"Predictions for English Stop Words\")"
      ]
    },
    {
      "cell_type": "code",
      "execution_count": null,
      "metadata": {
        "id": "OQZp9pet6vvX"
      },
      "outputs": [],
      "source": [
        "sp_pt_overlap = set(stop_words_spanish).intersection(set(stop_words_portuguese))\n",
        "sp_en_overlap = set(stop_words_spanish).intersection(set(stop_words_english))\n",
        "en_pt_overlap = set(stop_words_english).intersection(set(stop_words_portuguese))\n",
        "en_sp_pt_overlap = sp_pt_overlap.intersection(en_pt_overlap)\n",
        "\n",
        "print(\"The actual overlap of Spanish and Portuguese words\", len(sp_pt_overlap))\n",
        "print(\"The actual overlap of Spanish and English words\", len(sp_en_overlap))\n",
        "print(\"The actual overlap of English and Portuguese words\", len(en_pt_overlap))\n",
        "print(\"The actual overlap of English, Spanish, and Portuguese words\", len(en_sp_pt_overlap))"
      ]
    },
    {
      "cell_type": "markdown",
      "metadata": {
        "id": "8u6WxMcwZkvi"
      },
      "source": [
        "Most likley the reason that the model determines most of the time in favor of Portuguese is because the model does not \"know\" the words that it's being show and when it hasnt seen a word it is assigned the lowest probability 0 which is where poruguese was assigned its discreted value. \n",
        "\n",
        "We can investigate this later by changing the language classes from lang_class to lang_class_other and running the same test and seeing if the lanaguage more accuratley (or rather more often) predicts (in the case of lang_class_other) English. \n",
        "\n",
        "I did this intentionally because I noticed that a lot of times if GoogleTranslate isnt certain what language you're talking in, it defaults to English. While neither of these behaviours is ideal, the former reinforces that English is the default language. "
      ]
    },
    {
      "cell_type": "code",
      "execution_count": null,
      "metadata": {
        "id": "WbyOTQJ77zhA"
      },
      "outputs": [],
      "source": [
        "train_NB_gold_other = [lang_class_other['portuguese'] for i in range(round(SCALE_LINES/2))]\n",
        "train_NB_gold_other += [lang_class_other['spanish'] for i in range(round(SCALE_LINES/2))]\n",
        "train_NB_gold_other += [lang_class_other['english'] for i in range(round(SCALE_LINES/2))]\n",
        "print(len(train_NB_gold_other))"
      ]
    },
    {
      "cell_type": "code",
      "execution_count": null,
      "metadata": {
        "id": "OsuETt3G74ZD"
      },
      "outputs": [],
      "source": [
        "NB_model_other = MultinomialNB()\n",
        "NB_model_other.fit(train_NB_X, train_NB_gold_other)"
      ]
    },
    {
      "cell_type": "code",
      "execution_count": null,
      "metadata": {
        "id": "lDMQ_2MF8gJm"
      },
      "outputs": [],
      "source": [
        "train_NB_pred_other = NB_model_other.predict(train_NB_X)\n",
        "print(\"The accuracy is {}\".format(accuracy_score(train_NB_gold_other, train_NB_pred_other)))\n",
        "mat = confusion_matrix(train_NB_gold_other, train_NB_pred_other)\n",
        "sns.heatmap(mat.T, square = True, annot=True, fmt = \"d\", xticklabels=[lang_class_other[0], lang_class_other[1], lang_class_other[2]],yticklabels=[lang_class_other[0], lang_class_other[1], lang_class_other[2]])\n",
        "plt.title(\"Training Prediction Results for Language Classes where English is 0\")\n",
        "plt.xlabel(\"true labels\")\n",
        "plt.ylabel(\"predicted label\")\n",
        "plt.show()"
      ]
    },
    {
      "cell_type": "markdown",
      "metadata": {
        "id": "m4qih7M8CWrl"
      },
      "source": [
        "Interestingly accuracy is now higher even thought all that was changed was the classes. From 96.9% to 97.2%. Its not that BIG of a difference, but a difference nonetheless"
      ]
    },
    {
      "cell_type": "code",
      "execution_count": null,
      "metadata": {
        "id": "SzBz8-sJFscr"
      },
      "outputs": [],
      "source": [
        "NBmodel_smol_tests(NB_model_other, lang_class_other, [\"Nicole\", \"Buckley\", \"Sierra\", \"Rodriguez\"])\n",
        "NBmodel_smol_tests(NB_model_other, lang_class_other, [\"hello\", \"hola\", \"olá\"])\n",
        "NBmodel_smol_tests(NB_model_other, lang_class_other,  [\"good morning\", \"buenos días\", \"bom dia\"])"
      ]
    },
    {
      "cell_type": "code",
      "execution_count": null,
      "metadata": {
        "id": "Xnwsix-fCchy"
      },
      "outputs": [],
      "source": [
        "test_model_and_graph(NB_model_other, lang_class_other, stop_words_english, [lang_class_other['english'] for x in range(len(stop_words_english))], \n",
        "                  \"Predictions for English Stop Words for Other Lang Class\")"
      ]
    },
    {
      "cell_type": "markdown",
      "metadata": {
        "id": "PSEMEZPeKOk2"
      },
      "source": [
        "Wow and thats what you call underresourced languages haha.... "
      ]
    },
    {
      "cell_type": "code",
      "execution_count": null,
      "metadata": {
        "id": "ig89eHPNKVXR"
      },
      "outputs": [],
      "source": [
        "test_model_and_graph(NB_model_other, lang_class_other, stop_words_spanish, [lang_class_other['spanish'] for x in range(len(stop_words_spanish))], \n",
        "                  \"Predictions for Spanish Stop Words for Other Lang Class\")"
      ]
    },
    {
      "cell_type": "code",
      "execution_count": null,
      "metadata": {
        "id": "V4SzlSIgKf1V"
      },
      "outputs": [],
      "source": [
        "test_model_and_graph(NB_model_other, lang_class_other, stop_words_portuguese, [lang_class_other['spanish'] for x in range(len(stop_words_portuguese))], \n",
        "                  \"Predictions for Spanish Stop Words for Other Lang Class\")"
      ]
    },
    {
      "cell_type": "markdown",
      "metadata": {
        "id": "X45xfPOhCcOJ"
      },
      "source": []
    },
    {
      "cell_type": "markdown",
      "metadata": {
        "id": "rnIpiJWd-ZpS"
      },
      "source": [
        "# RNN"
      ]
    },
    {
      "cell_type": "markdown",
      "metadata": {
        "id": "NeNM-018PZR4"
      },
      "source": [
        "Some references: \n",
        "https://www.tensorflow.org/text/tutorials/text_classification_rnn\n",
        "\n",
        "https://www.tensorflow.org/text/tutorials/text_generation\n",
        "\n",
        "https://www.tensorflow.org/guide/keras/rnn\n",
        "\n",
        "https://www.google.com/search?client=safari&rls=en&q=how+to+make+a+tfds+dataset&ie=UTF-8&oe=UTF-8\n"
      ]
    },
    {
      "cell_type": "code",
      "execution_count": null,
      "metadata": {
        "id": "x-W1sFidMVX-"
      },
      "outputs": [],
      "source": [
        "# todod data analysis \n",
        "#todo loiok at everage words per sentence comparnig the langauges"
      ]
    },
    {
      "cell_type": "code",
      "execution_count": null,
      "metadata": {
        "colab": {
          "base_uri": "https://localhost:8080/"
        },
        "id": "ZkGIBh-3L_bF",
        "outputId": "e0bfd31f-d862-4bc2-b963-8f8ffad7044c"
      },
      "outputs": [
        {
          "output_type": "stream",
          "name": "stdout",
          "text": [
            "Looking in indexes: https://pypi.org/simple, https://us-python.pkg.dev/colab-wheels/public/simple/\n",
            "Collecting scikit-plot\n",
            "  Downloading scikit_plot-0.3.7-py3-none-any.whl (33 kB)\n",
            "Requirement already satisfied: scikit-learn>=0.18 in /usr/local/lib/python3.10/dist-packages (from scikit-plot) (1.2.2)\n",
            "Requirement already satisfied: scipy>=0.9 in /usr/local/lib/python3.10/dist-packages (from scikit-plot) (1.10.1)\n",
            "Requirement already satisfied: matplotlib>=1.4.0 in /usr/local/lib/python3.10/dist-packages (from scikit-plot) (3.7.1)\n",
            "Requirement already satisfied: joblib>=0.10 in /usr/local/lib/python3.10/dist-packages (from scikit-plot) (1.2.0)\n",
            "Requirement already satisfied: cycler>=0.10 in /usr/local/lib/python3.10/dist-packages (from matplotlib>=1.4.0->scikit-plot) (0.11.0)\n",
            "Requirement already satisfied: fonttools>=4.22.0 in /usr/local/lib/python3.10/dist-packages (from matplotlib>=1.4.0->scikit-plot) (4.39.3)\n",
            "Requirement already satisfied: kiwisolver>=1.0.1 in /usr/local/lib/python3.10/dist-packages (from matplotlib>=1.4.0->scikit-plot) (1.4.4)\n",
            "Requirement already satisfied: contourpy>=1.0.1 in /usr/local/lib/python3.10/dist-packages (from matplotlib>=1.4.0->scikit-plot) (1.0.7)\n",
            "Requirement already satisfied: numpy>=1.20 in /usr/local/lib/python3.10/dist-packages (from matplotlib>=1.4.0->scikit-plot) (1.22.4)\n",
            "Requirement already satisfied: packaging>=20.0 in /usr/local/lib/python3.10/dist-packages (from matplotlib>=1.4.0->scikit-plot) (23.1)\n",
            "Requirement already satisfied: pillow>=6.2.0 in /usr/local/lib/python3.10/dist-packages (from matplotlib>=1.4.0->scikit-plot) (8.4.0)\n",
            "Requirement already satisfied: pyparsing>=2.3.1 in /usr/local/lib/python3.10/dist-packages (from matplotlib>=1.4.0->scikit-plot) (3.0.9)\n",
            "Requirement already satisfied: python-dateutil>=2.7 in /usr/local/lib/python3.10/dist-packages (from matplotlib>=1.4.0->scikit-plot) (2.8.2)\n",
            "Requirement already satisfied: threadpoolctl>=2.0.0 in /usr/local/lib/python3.10/dist-packages (from scikit-learn>=0.18->scikit-plot) (3.1.0)\n",
            "Requirement already satisfied: six>=1.5 in /usr/local/lib/python3.10/dist-packages (from python-dateutil>=2.7->matplotlib>=1.4.0->scikit-plot) (1.16.0)\n",
            "Installing collected packages: scikit-plot\n",
            "Successfully installed scikit-plot-0.3.7\n"
          ]
        }
      ],
      "source": [
        "# TODOO. move later\n",
        "import tensorflow as tf\n",
        "import unicodedata\n",
        "import string\n",
        "import keras\n",
        "\n",
        "from keras.callbacks import Callback\n",
        "! pip install scikit-plot\n",
        "from scikitplot.metrics import plot_confusion_matrix, plot_roc\n",
        "import os\n"
      ]
    },
    {
      "cell_type": "code",
      "execution_count": null,
      "metadata": {
        "id": "f9LMIGeRMFzM"
      },
      "outputs": [],
      "source": [
        "def plot_graphs(history, metric):\n",
        "  plt.plot(history.history[metric])\n",
        "  plt.plot(history.history['val_'+metric], '')\n",
        "  plt.xlabel(\"Epochs\")\n",
        "  plt.ylabel(metric)\n",
        "  plt.legend([metric, 'val_'+metric])"
      ]
    },
    {
      "cell_type": "code",
      "execution_count": null,
      "metadata": {
        "id": "LkqKVBE_NE9G"
      },
      "outputs": [],
      "source": [
        "BUFFER_SIZE = 10000\n",
        "BATCH_SIZE = 64\n",
        "\n",
        "EPOCHS = 5"
      ]
    },
    {
      "cell_type": "markdown",
      "metadata": {
        "id": "E_eGzBL9ak2u"
      },
      "source": [
        "## training the encoder and decoder"
      ]
    },
    {
      "cell_type": "code",
      "execution_count": null,
      "metadata": {
        "colab": {
          "base_uri": "https://localhost:8080/"
        },
        "id": "0sR535KRUXWW",
        "outputId": "a9e6926b-1d0b-4f8d-cbb7-30eaaafdc3d1"
      },
      "outputs": [
        {
          "output_type": "stream",
          "name": "stdout",
          "text": [
            "340\n",
            "['Ō', 'ង', 'ò', 'ù', 'ú', '살', '만', '̀', 'υ', 'Ú', '세', '진', 'X', 'O', 'ج', '´', 'à', 'ן', 'ς', '你', 'ṑ', '屈', 'A', 'á', 'K', '\\x94', 'ë', '해', '默', 'נ', '無', 'y', 'ខ', 'ñ', '로', 'λ', '視', '\\x93', 'ុ', 'ŏ', 'v', 'ו', 'å', 'z', '។', 'Â', '後', 'ة', 'ញ', 'ت', '̂', 'æ', 'θ', '間', '鴻', 'ê', '어', '가', 't', 'Ñ', 'ه', 'p', '―', 'â', '預', 'ṡ', '足', 'ב', '憾', '撐', 'س', 'í', '̣', 'M', 'ì', '–', 'ε', '열', '天', '°', 'ك', 'º', 'ا', '군', 'ً', '말', 'ý', 'ą', 'ν', 'ث', 'R', 'ֶ', 'β', 'ق', 'ʼ', '■', 'þ', 'គ', 'w', 'ס']\n"
          ]
        }
      ],
      "source": [
        "RNN_corpus = \" \".join(cleaned_portuguese[0:round(SCALE_LINES/2)]) + \" \".join(cleaned_spanish[0:round(SCALE_LINES/2)]) + \" \".join(cleaned_english[0:round(SCALE_LINES/2)])\n",
        "RNN_vocab = list(set(RNN_corpus))\n",
        "print(len(RNN_vocab))\n",
        "# print(RNN_corpus[0:250])\n",
        "print(RNN_vocab[0:100])\n",
        "# print(RNN_vocab[100:200])\n",
        "# print(RNN_vocab[200:300])\n",
        "# print(RNN_vocab[300:342])"
      ]
    },
    {
      "cell_type": "code",
      "execution_count": null,
      "metadata": {
        "id": "ciMkbJsvXdrJ"
      },
      "outputs": [],
      "source": [
        "char_to_enc = tf.keras.layers.StringLookup(\n",
        "    vocabulary=RNN_vocab)"
      ]
    },
    {
      "cell_type": "code",
      "execution_count": null,
      "metadata": {
        "id": "528LnIRZVSN-"
      },
      "outputs": [],
      "source": [
        "enc_to_char = tf.keras.layers.StringLookup(vocabulary=char_to_enc.get_vocabulary(), invert=True)"
      ]
    },
    {
      "cell_type": "code",
      "execution_count": null,
      "metadata": {
        "id": "lledGf-5KZGJ"
      },
      "outputs": [],
      "source": [
        "def encs_to_text(encs):\n",
        "  \"\"\"\n",
        "  encs: list of encodings to turn into full text\n",
        "  \"\"\"\n",
        "  tensor =  tf.strings.reduce_join(enc_to_char(encs), axis=-1)\n",
        "  sentences = tensor.numpy()\n",
        "  sentences = [s.decode(\"UTF-8\") for s in sentences]\n",
        "  return sentences"
      ]
    },
    {
      "cell_type": "markdown",
      "metadata": {
        "id": "D837JdugahoU"
      },
      "source": [
        "## data set up"
      ]
    },
    {
      "cell_type": "code",
      "execution_count": null,
      "metadata": {
        "colab": {
          "base_uri": "https://localhost:8080/"
        },
        "id": "ClsoZ7eCNKlo",
        "outputId": "ed43cdff-1d0f-46bc-cb37-4ebd2e325dbc"
      },
      "outputs": [
        {
          "output_type": "stream",
          "name": "stdout",
          "text": [
            "words in each language\n",
            "pt 485019\n",
            "sp 431064\n",
            "en 557274\n",
            "total: 1473357\n"
          ]
        }
      ],
      "source": [
        "train_RNN_sentences = cleaned_portuguese[0:round(SCALE_LINES/2)] + cleaned_spanish[0:round(SCALE_LINES/2)] + cleaned_english[0:round(SCALE_LINES/2)]\n",
        "test_RNN_sentences = cleaned_english[-(round(SCALE_LINES/2)):] + cleaned_spanish[-(round(SCALE_LINES/2)):] + cleaned_portuguese[-(round(SCALE_LINES/2)):]\n",
        "\n",
        "onehot_lang = {'portuguese': [1, 0, 0], 'spanish': [0, 1, 0], \"english\": [0, 0, 1]}\n",
        "\n",
        "train_RNN_labelss = [onehot_lang['portuguese']] * round(SCALE_LINES/2) + [onehot_lang['spanish']] * round(SCALE_LINES/2)  + [onehot_lang['english']] * round(SCALE_LINES/2)\n",
        "test_RNN_labelss = [onehot_lang['english']] * round(SCALE_LINES/2) + [onehot_lang['spanish']] * round(SCALE_LINES/2)  + [onehot_lang['portuguese']] * round(SCALE_LINES/2)\n",
        "\n",
        "train_RNN_words_pt = [] \n",
        "train_RNN_words_sp = []\n",
        "train_RNN_words_en = []\n",
        "\n",
        "#notes that the words in test_sentences and test_words are NOT the same\n",
        "test_RNN_words_pt = [] \n",
        "test_RNN_words_sp = [] \n",
        "test_RNN_words_en =  [] \n",
        "\n",
        "for i in range(round(SCALE_LINES/2)):\n",
        "  train_RNN_words_pt += cleaned_portuguese[i].split(\" \")\n",
        "  train_RNN_words_sp += cleaned_spanish[i].split(\" \")\n",
        "  train_RNN_words_en += cleaned_english[i].split(\" \")\n",
        "  test_RNN_words_pt += cleaned_portuguese[i+round(SCALE_LINES/2)].split(\" \")\n",
        "  test_RNN_words_sp += cleaned_spanish[i+round(SCALE_LINES/2)].split(\" \")\n",
        "  test_RNN_words_en += cleaned_english[i+round(SCALE_LINES/2)].split(\" \")\n",
        "\n",
        "train_RNN_words = train_RNN_words_pt + train_RNN_words_sp + train_RNN_words_en\n",
        "test_RNN_words = test_RNN_words_pt + test_RNN_words_sp + test_RNN_words_en\n",
        "\n",
        "print(\"words in each language\")\n",
        "print(\"pt\", len(test_RNN_words_pt))\n",
        "print(\"sp\", len(test_RNN_words_sp))\n",
        "print(\"en\", len(test_RNN_words_en))\n",
        "print(\"total: \" + str( len(test_RNN_words_pt) + len(test_RNN_words_sp) + len(test_RNN_words_en)))\n",
        "\n",
        "train_RNN_labelsw = [onehot_lang['portuguese']] * len(train_RNN_words_pt) + [onehot_lang['spanish']] * len(train_RNN_words_sp)  + [onehot_lang['english']] * len(train_RNN_words_en)\n",
        "test_RNN_labelsw = [onehot_lang['portuguese']] * len(test_RNN_words_pt) + [onehot_lang['spanish']] * len(test_RNN_words_sp)  + [onehot_lang['english']] * len(test_RNN_words_en)\n",
        "\n",
        "\n",
        "#stplit all the sentences on each character and make into tensors\n",
        "train_RNN_sentences_dec = tf.strings.unicode_split(\n",
        "    train_RNN_sentences,\n",
        "    input_encoding='UTF-8',\n",
        "    name=\"training input\"\n",
        ")\n",
        "\n",
        "train_RNN_words_dec = tf.strings.unicode_split(\n",
        "    train_RNN_words,\n",
        "    input_encoding='UTF-8',\n",
        "    name=\"training input\"\n",
        ")\n",
        "\n",
        "test_RNN_sentences_dec = tf.strings.unicode_split(\n",
        "    test_RNN_sentences,\n",
        "    input_encoding='UTF-8',\n",
        "    name=\"training input\"\n",
        ")\n",
        "\n",
        "test_RNN_words_dec = tf.strings.unicode_split(\n",
        "    test_RNN_words,\n",
        "    input_encoding='UTF-8',\n",
        "    name=\"training input\"\n",
        ")\n",
        "\n",
        "RNN_corpus_unicode = tf.strings.unicode_split(\n",
        "    RNN_corpus,\n",
        "    input_encoding='UTF-8',\n",
        "    name=\"training corpus\"\n",
        ")\n",
        "\n",
        "#encode all of the training/testing data \n",
        "train_RNN_sentences = char_to_enc(train_RNN_sentences_dec)\n",
        "train_RNN_words = char_to_enc(train_RNN_words_dec)\n",
        "test_RNN_sentences = char_to_enc(test_RNN_sentences_dec)\n",
        "test_RNN_words = char_to_enc(test_RNN_words_dec)"
      ]
    },
    {
      "cell_type": "code",
      "execution_count": null,
      "metadata": {
        "colab": {
          "base_uri": "https://localhost:8080/"
        },
        "id": "L1Cgk8FKFP7x",
        "outputId": "c01db424-168b-46ea-d83a-cf1d22cb9214"
      },
      "outputs": [
        {
          "output_type": "stream",
          "name": "stdout",
          "text": [
            "decoded sentences\n",
            "<tf.RaggedTensor [[b'E', b'u', b' ', b'n', b'\\xc3\\xa3', b'o', b' ', b't', b'i', b'n', b'h',\n",
            "  b'a', b' ', b'e', b's', b't', b'e', b' ', b'r', b'o', b's', b't', b'o',\n",
            "  b' ', b'd', b'e', b' ', b'h', b'o', b'j', b'e']                         ,\n",
            " [b'A', b's', b's', b'i', b'm', b' ', b'c', b'a', b'l', b'm', b'o', b' ',\n",
            "  b'a', b's', b's', b'i', b'm', b' ', b't', b'r', b'i', b's', b't', b'e',\n",
            "  b' ', b'a', b's', b's', b'i', b'm', b' ', b'm', b'a', b'g', b'r', b'o'],\n",
            " [b'N', b'e', b'm', b' ', b'e', b's', b't', b'e', b's', b' ', b'o', b'l',\n",
            "  b'h', b'o', b's', b' ', b't', b'\\xc3\\xa3', b'o', b' ', b'v', b'a', b'z',\n",
            "  b'i', b'o', b's']                                                       ]>\n",
            "encoded sentences\n",
            "<tf.RaggedTensor [[187, 203, 336, 185, 217, 133, 336, 59, 233, 185, 147, 177, 336, 312, 142,\n",
            "  59, 312, 336, 240, 133, 142, 59, 133, 336, 226, 312, 336, 147, 133, 328,\n",
            "  312]                                                                     ,\n",
            " [23, 142, 142, 233, 283, 336, 163, 177, 220, 283, 133, 336, 177, 142, 142,\n",
            "  233, 283, 336, 59, 240, 233, 142, 59, 312, 336, 177, 142, 142, 233, 283,\n",
            "  336, 283, 177, 339, 240, 133]                                            ,\n",
            " [307, 312, 283, 336, 312, 142, 59, 312, 142, 336, 133, 220, 147, 133, 142,\n",
            "  336, 59, 217, 133, 336, 41, 177, 44, 233, 133, 142]                      ]>\n",
            "decoded sentences\n",
            "<tf.RaggedTensor [[b'E', b'u', b' ', b'n', b'\\xc3\\xa3', b'o', b' ', b't', b'i', b'n', b'h',\n",
            "  b'a', b' ', b'e', b's', b't', b'e', b' ', b'r', b'o', b's', b't', b'o',\n",
            "  b' ', b'd', b'e', b' ', b'h', b'o', b'j', b'e']                         ,\n",
            " [b'A', b's', b's', b'i', b'm', b' ', b'c', b'a', b'l', b'm', b'o', b' ',\n",
            "  b'a', b's', b's', b'i', b'm', b' ', b't', b'r', b'i', b's', b't', b'e',\n",
            "  b' ', b'a', b's', b's', b'i', b'm', b' ', b'm', b'a', b'g', b'r', b'o'],\n",
            " [b'N', b'e', b'm', b' ', b'e', b's', b't', b'e', b's', b' ', b'o', b'l',\n",
            "  b'h', b'o', b's', b' ', b't', b'\\xc3\\xa3', b'o', b' ', b'v', b'a', b'z',\n",
            "  b'i', b'o', b's']                                                       ]>\n",
            "completley decoded sentences\n",
            "['Eu não tinha este rosto de hoje', 'Assim calmo assim triste assim magro', 'Nem estes olhos tão vazios']\n"
          ]
        }
      ],
      "source": [
        "# test the enc and decoder \n",
        "\n",
        "print(\"decoded sentences\")\n",
        "print(train_RNN_sentences_dec[0:3])\n",
        "enc_test = char_to_enc(train_RNN_sentences_dec[0:3])\n",
        "\n",
        "print(\"encoded sentences\")\n",
        "print(enc_test)\n",
        "dec_test = enc_to_char(enc_test)\n",
        "\n",
        "print(\"decoded sentences\")\n",
        "print(dec_test)\n",
        "\n",
        "print(\"completley decoded sentences\")\n",
        "print(encs_to_text(enc_test))"
      ]
    },
    {
      "cell_type": "code",
      "execution_count": null,
      "metadata": {
        "colab": {
          "base_uri": "https://localhost:8080/"
        },
        "id": "2uDQ2wAg8b6T",
        "outputId": "b1e77a66-d884-4bf2-f4ce-5aaca60935d0"
      },
      "outputs": [
        {
          "output_type": "stream",
          "name": "stdout",
          "text": [
            "tf.Tensor(\n",
            "[187 203 336 185 217 133 336  59 233 185 147 177 336 312 142  59 312 336\n",
            " 240 133 142  59 133 336 226 312 336 147 133 328 312], shape=(31,), dtype=int64)\n",
            "tf.Tensor([1 0 0], shape=(3,), dtype=int32)\n",
            "tf.Tensor(\n",
            "[ 23 142 142 233 283 336 163 177 220 283 133 336 177 142 142 233 283 336\n",
            "  59 240 233 142  59 312 336 177 142 142 233 283 336 283 177 339 240 133], shape=(36,), dtype=int64)\n",
            "tf.Tensor([1 0 0], shape=(3,), dtype=int32)\n",
            "tf.Tensor(\n",
            "[ 14 240 336  59 147 312 336 240 177 226 233 177 185  59 336 142 233 142\n",
            "  59 312 240 142 336  59 147 312 336 182 220 312 233 177 226 312 142], shape=(35,), dtype=int64)\n",
            "tf.Tensor([0 0 1], shape=(3,), dtype=int32)\n",
            "tf.Tensor(\n",
            "[ 23 220 220 336 133 203 240 336 240 133 177 226 142 336 339 133 336 185\n",
            " 133  99 147 312 240 312], shape=(24,), dtype=int64)\n",
            "tf.Tensor([0 0 1], shape=(3,), dtype=int32)\n"
          ]
        }
      ],
      "source": [
        "a = tf.data.Dataset.from_tensor_slices(train_RNN_labelss)\n",
        "b = tf.data.Dataset.from_tensor_slices(train_RNN_sentences)\n",
        "train_RNN_datasets =  tf.data.Dataset.zip((b, a))\n",
        "\n",
        "for example, label in train_RNN_datasets.take(2):\n",
        "  print(example)\n",
        "  print(label)\n",
        "\n",
        "a = tf.data.Dataset.from_tensor_slices(test_RNN_labelss)\n",
        "b = tf.data.Dataset.from_tensor_slices(test_RNN_sentences)\n",
        "test_RNN_datasets =  tf.data.Dataset.zip((b, a))\n",
        "\n",
        "for example, label in test_RNN_datasets.take(2):\n",
        "  print(example)\n",
        "  print(label)\n",
        "\n",
        "a = tf.data.Dataset.from_tensor_slices(train_RNN_labelsw)\n",
        "b = tf.data.Dataset.from_tensor_slices(train_RNN_words)\n",
        "train_RNN_datasetw =  tf.data.Dataset.zip((b, a))\n",
        "\n",
        "a = tf.data.Dataset.from_tensor_slices(test_RNN_labelsw)\n",
        "b = tf.data.Dataset.from_tensor_slices(test_RNN_words)\n",
        "test_RNN_datasetw =  tf.data.Dataset.zip((b, a))\n",
        "\n",
        "\n"
      ]
    },
    {
      "cell_type": "code",
      "execution_count": null,
      "metadata": {
        "id": "w6DUETtE0Hkz"
      },
      "outputs": [],
      "source": []
    },
    {
      "cell_type": "code",
      "execution_count": null,
      "metadata": {
        "colab": {
          "base_uri": "https://localhost:8080/"
        },
        "id": "PMESuVB7zucz",
        "outputId": "f162127a-c630-4ab0-9d32-db9a9c1a02af"
      },
      "outputs": [
        {
          "output_type": "stream",
          "name": "stdout",
          "text": [
            "tf.Tensor(\n",
            "[ 14 240 336  59 147 312 336 240 177 226 233 177 185  59 336 142 233 142\n",
            "  59 312 240 142 336  59 147 312 336 182 220 312 233 177 226 312 142], shape=(35,), dtype=int64)\n",
            "['Or the radiant sisters the Pleiades']\n",
            "tf.Tensor([0 0 1], shape=(3,), dtype=int32)\n"
          ]
        }
      ],
      "source": [
        "#batch them\n",
        "train_RNN_datasets = train_RNN_datasets.shuffle(4000)\n",
        "\n",
        "for sample, label in test_RNN_datasets.take(1):\n",
        "  print(sample)\n",
        "  print(encs_to_text([sample]))\n",
        "  print(label)\n",
        "\n",
        "train_RNN_datasets = train_RNN_datasets.batch(BATCH_SIZE).prefetch(tf.data.AUTOTUNE)\n",
        "test_RNN_datasets = test_RNN_datasets.batch(BATCH_SIZE).prefetch(tf.data.AUTOTUNE)\n",
        "\n",
        "train_RNN_datasetw = train_RNN_datasets.shuffle(BUFFER_SIZE).batch(BATCH_SIZE).prefetch(tf.data.AUTOTUNE)\n",
        "test_RNN_datasetw = test_RNN_datasets.batch(BATCH_SIZE).prefetch(tf.data.AUTOTUNE)"
      ]
    },
    {
      "cell_type": "markdown",
      "metadata": {
        "id": "bA4iavSOa2gx"
      },
      "source": [
        "## models set up"
      ]
    },
    {
      "cell_type": "code",
      "execution_count": null,
      "metadata": {
        "id": "h1rWX8uYbDne"
      },
      "outputs": [],
      "source": [
        "#@title Simple RNN Model\n",
        "RNN_model_simple = tf.keras.Sequential([\n",
        "    # char_to_enc, # for some reaon when i try to add the encoder to the model, it doesnt like it for the sumamry\n",
        "    tf.keras.layers.Embedding(\n",
        "        input_dim=len(char_to_enc.get_vocabulary()),\n",
        "        output_dim=BATCH_SIZE),\n",
        "    tf.keras.layers.SimpleRNN(BATCH_SIZE),\n",
        "    tf.keras.layers.Dropout(.3),\n",
        "    tf.keras.layers.Dense(BATCH_SIZE, activation='relu'), \n",
        "    tf.keras.layers.Dropout(.3),\n",
        "    tf.keras.layers.Dense(3, activation='softmax')]) #have 3 outputs that are the probability matrix over the 3 langauge classes\n",
        "\n",
        "# RNN_model_simple.summary()"
      ]
    },
    {
      "cell_type": "code",
      "source": [
        "RNN_model_simple.compile(loss=tf.keras.losses.CategoricalCrossentropy(),\n",
        "              optimizer=tf.keras.optimizers.Adam(1e-4),\n",
        "              metrics=['accuracy',\n",
        "                       tf.keras.metrics.CategoricalAccuracy(),\n",
        "                       tf.keras.metrics.Recall(),\n",
        "                       tf.keras.metrics.Precision(),])"
      ],
      "metadata": {
        "id": "LAw-3Bxqzcn5"
      },
      "execution_count": null,
      "outputs": []
    },
    {
      "cell_type": "code",
      "source": [
        "RNN_model_simple.summary()"
      ],
      "metadata": {
        "colab": {
          "base_uri": "https://localhost:8080/"
        },
        "id": "u_L4m79YzW4U",
        "outputId": "6f882d33-4e81-40ae-8950-6c8ff12076fc"
      },
      "execution_count": null,
      "outputs": [
        {
          "output_type": "stream",
          "name": "stdout",
          "text": [
            "Model: \"sequential_5\"\n",
            "_________________________________________________________________\n",
            " Layer (type)                Output Shape              Param #   \n",
            "=================================================================\n",
            " embedding_1 (Embedding)     (None, None, 64)          21824     \n",
            "                                                                 \n",
            " simple_rnn_5 (SimpleRNN)    (None, 64)                8256      \n",
            "                                                                 \n",
            " dropout_10 (Dropout)        (None, 64)                0         \n",
            "                                                                 \n",
            " dense_10 (Dense)            (None, 64)                4160      \n",
            "                                                                 \n",
            " dropout_11 (Dropout)        (None, 64)                0         \n",
            "                                                                 \n",
            " dense_11 (Dense)            (None, 3)                 195       \n",
            "                                                                 \n",
            "=================================================================\n",
            "Total params: 34,435\n",
            "Trainable params: 34,435\n",
            "Non-trainable params: 0\n",
            "_________________________________________________________________\n"
          ]
        }
      ]
    },
    {
      "cell_type": "code",
      "execution_count": null,
      "metadata": {
        "id": "a1G-Qhl9itU2"
      },
      "outputs": [],
      "source": [
        "#@title Bidirectional RNN Model\n",
        "RNN_model_bi = tf.keras.Sequential([\n",
        "    # char_to_enc, # for some reaon when i try to add the encoder to the model, it doesnt like it for the sumamry\n",
        "    tf.keras.layers.Embedding(\n",
        "        input_dim=len(char_to_enc.get_vocabulary()),\n",
        "        output_dim=BATCH_SIZE),\n",
        "    tf.keras.layers.Bidirectional(tf.keras.layers.LSTM(64)),\n",
        "    tf.keras.layers.Dense(BATCH_SIZE, activation='relu'),\n",
        "    tf.keras.layers.Dense(3, activation='softmax')]) #have 3 outputs that are the probability matrix over the 3 langauge classes\n",
        "\n",
        "RNN_model_simple.summary()"
      ]
    },
    {
      "cell_type": "markdown",
      "metadata": {
        "id": "Uc3X6vhwjFX4"
      },
      "source": [
        "## train simple rnn"
      ]
    },
    {
      "cell_type": "code",
      "execution_count": null,
      "metadata": {
        "id": "k_lJmmxRF-WM"
      },
      "outputs": [],
      "source": [
        "RNN_model_simple.compile(loss=tf.keras.losses.CategoricalCrossentropy(),\n",
        "              optimizer=tf.keras.optimizers.Adam(1e-4),\n",
        "              metrics=['accuracy',\n",
        "                       tf.keras.metrics.CategoricalAccuracy(),\n",
        "                       tf.keras.metrics.Recall(),\n",
        "                       tf.keras.metrics.Precision(),])"
      ]
    },
    {
      "cell_type": "code",
      "execution_count": null,
      "metadata": {
        "id": "Rg3NU1C4r7Do"
      },
      "outputs": [],
      "source": [
        "print(EPOCHS)"
      ]
    },
    {
      "cell_type": "code",
      "execution_count": null,
      "metadata": {
        "id": "tYnptSUMjEue"
      },
      "outputs": [],
      "source": [
        "RNN_history_simples = RNN_model_simple.fit(train_RNN_datasets, epochs=EPOCHS,\n",
        "                    validation_data=test_RNN_datasets,\n",
        "                    validation_steps=30,)"
      ]
    },
    {
      "cell_type": "code",
      "execution_count": null,
      "metadata": {
        "id": "Rc2vU_wBCpqI"
      },
      "outputs": [],
      "source": [
        "plt.plot(RNN_history_simples.history['accuracy'])\n",
        "plt.plot(RNN_history_simples.history['recall'])\n",
        "plt.plot(RNN_history_simples.history['val_accuracy'])\n",
        "plt.title('Model accuracy')\n",
        "plt.ylabel('Accuracy')\n",
        "plt.xlabel('Epoch')\n",
        "plt.legend(['Train', 'Recall', 'Test'], loc='upper left')\n",
        "plt.show()"
      ]
    },
    {
      "cell_type": "markdown",
      "metadata": {
        "id": "7CjipbUsN_Lj"
      },
      "source": [
        "### test some examples"
      ]
    },
    {
      "cell_type": "code",
      "execution_count": null,
      "metadata": {
        "id": "-G66_5bUVCzR"
      },
      "outputs": [],
      "source": [
        "def output_to_lang(prob_matrix):\n",
        "  \"\"\"\n",
        "  prob_matrix: a matrix with liklihood extimates for each language sape = (1, 3)\n",
        "\n",
        "  returns string of the class representaaion of the highest probbiality index\n",
        "  \"\"\"\n",
        "  p = list(prob_matrix)\n",
        "  m = max(p)\n",
        "  index = p.index(m)\n",
        "  return \"(\" + str(m) + \") \" + lang_class[index]\n",
        "\n",
        "def RNNmodel_smol_tests(model, sentences):\n",
        "  s = tf.strings.unicode_split(\n",
        "    sentences,\n",
        "    input_encoding='UTF-8')\n",
        "  X = char_to_enc(s)\n",
        "  pred = model.predict(X)\n",
        "  [print(sentences[i], \"is\", output_to_lang(pred[i])) for i in range(len(sentences))]\n",
        "\n",
        "RNNmodel_smol_tests(RNN_model_simple, [\"Nicole\", \"Sierra\", \"Buckley\", \"Rodriguez\"])\n",
        "RNNmodel_smol_tests(RNN_model_simple, [\"hello\", \"hola\", \"olá\"])\n",
        "RNNmodel_smol_tests(RNN_model_simple, [\"good morning\", \"buenos días\", \"bom dia\"])\n",
        "\n",
        "RNNmodel_smol_tests(RNN_model_simple, [\"Su novio está cumpliendo una larga condena.\", \n",
        "                                       \"Si me ayudas con el almuerzo, te haré un rico postre.\", \n",
        "                                       \"Si me ganara la lotería, me compraría una casa en Mallorca. \", \n",
        "                                       \"Por favor, me avise quando devo descer\", \n",
        "                                       \"Eu gosto muito de viajar para lugares diferentes e experimentar comidas novas.\", \n",
        "                                       \"Ontem assisti a um filme muito emocionante que me fez chorar no final.\", \n",
        "                                       \"I really enjoy traveling to different places and trying new foods.\", \n",
        "                                       \"Today is a very hot day, so I'm going to the beach to enjoy the sun.\",\n",
        "                                       \"Yesterday I watched a very emotional movie that made me cry at the end.\"])\n"
      ]
    },
    {
      "cell_type": "code",
      "execution_count": null,
      "metadata": {
        "id": "hapoXN2COz5w"
      },
      "outputs": [],
      "source": []
    },
    {
      "cell_type": "markdown",
      "metadata": {
        "id": "NH0bbzlxO09G"
      },
      "source": [
        "## train bidirectional rnn"
      ]
    },
    {
      "cell_type": "code",
      "execution_count": null,
      "metadata": {
        "id": "lKEthYPdPG_z"
      },
      "outputs": [],
      "source": [
        "RNN_model_bi.compile(loss=tf.keras.losses.CategoricalCrossentropy(),\n",
        "              optimizer=tf.keras.optimizers.Adam(1e-4),\n",
        "              metrics=['accuracy',\n",
        "                       tf.keras.metrics.CategoricalAccuracy(),\n",
        "                       tf.keras.metrics.Recall(),\n",
        "                       tf.keras.metrics.Precision(),])"
      ]
    },
    {
      "cell_type": "code",
      "execution_count": null,
      "metadata": {
        "id": "FydhtBA0O0HT"
      },
      "outputs": [],
      "source": [
        "RNN_history_bis = RNN_model_bi.fit(train_RNN_datasets, epochs=1,\n",
        "                    validation_data=test_RNN_datasets,\n",
        "                    validation_steps=30,)"
      ]
    },
    {
      "cell_type": "code",
      "execution_count": null,
      "metadata": {
        "id": "QVPVHvU1O0HW"
      },
      "outputs": [],
      "source": [
        "plt.plot(RNN_history_bis.history['accuracy'])\n",
        "plt.plot(RNN_history_bis.history['recall'])\n",
        "plt.plot(RNN_history_bis.history['val_accuracy'])\n",
        "plt.title('Model accuracy')\n",
        "plt.ylabel('Accuracy')\n",
        "plt.xlabel('Epoch')\n",
        "plt.legend(['Train', 'Recall', 'Test'], loc='upper left')\n",
        "plt.show()"
      ]
    },
    {
      "cell_type": "markdown",
      "metadata": {
        "id": "g_bCO_VcPPBc"
      },
      "source": [
        "### test some examples"
      ]
    },
    {
      "cell_type": "code",
      "execution_count": null,
      "metadata": {
        "id": "KIuXC3E5PPBf"
      },
      "outputs": [],
      "source": [
        "RNNmodel_smol_tests(RNN_model_bi, [\"Nicole\", \"Sierra\", \"Buckley\", \"Rodriguez\"])\n",
        "RNNmodel_smol_tests(RNN_model_bi, [\"hello\", \"hola\", \"olá\"])\n",
        "RNNmodel_smol_tests(RNN_model_bi, [\"good morning\", \"buenos días\", \"bom dia\"])\n",
        "\n",
        "RNNmodel_smol_tests(RNN_model_bi, [\"Su novio está cumpliendo una larga condena.\", \n",
        "                                       \"Si me ayudas con el almuerzo, te haré un rico postre.\", \n",
        "                                       \"Si me ganara la lotería, me compraría una casa en Mallorca. \", \n",
        "                                       \"Por favor, me avise quando devo descer\", \n",
        "                                       \"Eu gosto muito de viajar para lugares diferentes e experimentar comidas novas.\", \n",
        "                                       \"Ontem assisti a um filme muito emocionante que me fez chorar no final.\", \n",
        "                                       \"I really enjoy traveling to different places and trying new foods.\", \n",
        "                                       \"Today is a very hot day, so I'm going to the beach to enjoy the sun.\",\n",
        "                                       \"Yesterday I watched a very emotional movie that made me cry at the end.\"])\n"
      ]
    },
    {
      "cell_type": "code",
      "execution_count": null,
      "metadata": {
        "id": "KvE32BqOPPBg"
      },
      "outputs": [],
      "source": []
    }
  ],
  "metadata": {
    "colab": {
      "collapsed_sections": [
        "hw_jNHbusiW3",
        "9E6Xa8EDwm92",
        "yvE_SdrrNMXT",
        "0S-i-Aw0UfxP",
        "KleFO_OF72P_"
      ],
      "provenance": [],
      "toc_visible": true
    },
    "kernelspec": {
      "display_name": "Python 3",
      "name": "python3"
    },
    "language_info": {
      "name": "python"
    }
  },
  "nbformat": 4,
  "nbformat_minor": 0
}