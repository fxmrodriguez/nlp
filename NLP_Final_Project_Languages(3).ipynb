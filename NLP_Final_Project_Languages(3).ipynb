{
  "cells": [
    {
      "cell_type": "markdown",
      "metadata": {
        "id": "hw_jNHbusiW3"
      },
      "source": [
        "#### imports"
      ]
    },
    {
      "cell_type": "code",
      "execution_count": null,
      "metadata": {
        "id": "kPqGCyTUj-PA"
      },
      "outputs": [],
      "source": [
        "import numpy as np \n",
        "import pandas as pd\n",
        "import re\n",
        "import string\n",
        "from gensim.models import Word2Vec\n",
        "\n",
        "import tensorflow.keras as tfk\n",
        "\n",
        "from keras.preprocessing.text import Tokenizer\n",
        "from keras.utils import to_categorical\n",
        "from keras.models import Sequential\n",
        "from keras.layers import Dense\n",
        "from keras import layers\n",
        "\n",
        "from sklearn.feature_extraction.text import TfidfVectorizer\n",
        "from sklearn.naive_bayes import MultinomialNB\n",
        "\n",
        "from sklearn.metrics import confusion_matrix, accuracy_score\n",
        "import seaborn as sns\n",
        "from sklearn.manifold import TSNE\n",
        "import matplotlib.pyplot as plt\n",
        "import matplotlib.cm as cm\n",
        "\n",
        "from tensorflow import keras \n",
        "from keras.models import Sequential \n",
        "from keras import Input \n",
        "from keras.layers import Dense \n",
        "import tensorflow as tf"
      ]
    },
    {
      "cell_type": "code",
      "execution_count": null,
      "metadata": {
        "colab": {
          "base_uri": "https://localhost:8080/"
        },
        "id": "r7ngvtLZlYNo",
        "outputId": "d38dfbc7-b862-46c6-f8e2-629de2a3a1ac"
      },
      "outputs": [
        {
          "output_type": "stream",
          "name": "stdout",
          "text": [
            "Looking in indexes: https://pypi.org/simple, https://us-python.pkg.dev/colab-wheels/public/simple/\n",
            "Requirement already satisfied: kaggle in /usr/local/lib/python3.9/dist-packages (1.5.13)\n",
            "Requirement already satisfied: python-slugify in /usr/local/lib/python3.9/dist-packages (from kaggle) (8.0.1)\n",
            "Requirement already satisfied: certifi in /usr/local/lib/python3.9/dist-packages (from kaggle) (2022.12.7)\n",
            "Requirement already satisfied: urllib3 in /usr/local/lib/python3.9/dist-packages (from kaggle) (1.26.15)\n",
            "Requirement already satisfied: python-dateutil in /usr/local/lib/python3.9/dist-packages (from kaggle) (2.8.2)\n",
            "Requirement already satisfied: tqdm in /usr/local/lib/python3.9/dist-packages (from kaggle) (4.65.0)\n",
            "Requirement already satisfied: requests in /usr/local/lib/python3.9/dist-packages (from kaggle) (2.27.1)\n",
            "Requirement already satisfied: six>=1.10 in /usr/local/lib/python3.9/dist-packages (from kaggle) (1.16.0)\n",
            "Requirement already satisfied: text-unidecode>=1.3 in /usr/local/lib/python3.9/dist-packages (from python-slugify->kaggle) (1.3)\n",
            "Requirement already satisfied: charset-normalizer~=2.0.0 in /usr/local/lib/python3.9/dist-packages (from requests->kaggle) (2.0.12)\n",
            "Requirement already satisfied: idna<4,>=2.5 in /usr/local/lib/python3.9/dist-packages (from requests->kaggle) (3.4)\n"
          ]
        }
      ],
      "source": [
        "# we are only submitting the notebook, so you will likley need your own kaggle API Token\n",
        "# file (json) to be able to run these commands. read more about it here:\n",
        "# https://www.analyticsvidhya.com/blog/2021/06/how-to-load-kaggle-datasets-directly-into-google-colab/\n",
        "! pip install kaggle\n",
        "! mkdir ~/.kaggle\n",
        "! cp kaggle.json ~/.kaggle/\n",
        "! chmod 600 ~/.kaggle/kaggle.json"
      ]
    },
    {
      "cell_type": "markdown",
      "metadata": {
        "id": "1a10LMUKkkBK"
      },
      "source": [
        "# Data Sets + Preprocessing "
      ]
    },
    {
      "cell_type": "markdown",
      "metadata": {
        "id": "tKcwO5Tdr_DZ"
      },
      "source": [
        "Separate languages into numerical encoded classes"
      ]
    },
    {
      "cell_type": "code",
      "execution_count": null,
      "metadata": {
        "id": "6EEGwfHmtfry"
      },
      "outputs": [],
      "source": [
        "lang_class = {'portuguese': 0, 'spanish': 1, 'english': 2, \n",
        "              0: 'portuguese', 1: 'spanish', 2: 'english'}\n",
        "lang_class_other  = {'portuguese': 2, 'spanish': 1, 'english': 0, \n",
        "              2: 'portuguese', 1: 'spanish', 0: 'english'}"
      ]
    },
    {
      "cell_type": "markdown",
      "metadata": {
        "id": "PPo0nU8_sMm1"
      },
      "source": [
        "Hardcode variables; may change if needed"
      ]
    },
    {
      "cell_type": "code",
      "execution_count": null,
      "metadata": {
        "id": "wEuYV5TWXprm"
      },
      "outputs": [],
      "source": [
        "EMBEDDINGS_SIZE = 100\n",
        "SCALE_LINES = 151000\n",
        "NGRAM = 3 "
      ]
    },
    {
      "cell_type": "markdown",
      "metadata": {
        "id": "Lq4ydUXLsPaz"
      },
      "source": [
        "Util functions for tokenization"
      ]
    },
    {
      "cell_type": "code",
      "execution_count": null,
      "metadata": {
        "id": "ORe_CmWKYG50"
      },
      "outputs": [],
      "source": [
        "def seperate_lines(content):\n",
        "  \"\"\"\n",
        "  content: a list of chunks of text in the format [['text\\nmoret text] , ...]\n",
        "  \n",
        "  return: a list of list of lines of text from the content \n",
        "            seperated by new line tokens in the format\n",
        "            ['text', 'moret text' , ...]\n",
        "  \"\"\"\n",
        "  strip_lines = []\n",
        "  for poem in content:\n",
        "      if len(poem.strip()) == 0:\n",
        "          continue\n",
        "      sent_data = [x for x in re.split(r'\\n|\\r|/|//|»|\\r\\n', poem)  if x] \n",
        "      #these were some of the new line tokens I identified\n",
        "      for i in range(len(sent_data)):\n",
        "          # remove any extraneous whitespace\n",
        "          sent_data[i] = sent_data[i].strip()\n",
        "      t = tuple(sent_data)\n",
        "      strip_lines += list(t)\n",
        "  return strip_lines\n",
        "\n",
        "\n",
        "def tokenize_lines(lines):\n",
        "  \"\"\"\n",
        "  lines: list of lines in a text. \n",
        "         pre split on end line tokens  in the format (not cleaned\n",
        "         for excess punctuation)\n",
        "         [['text', 'moret text'] , ...]\n",
        "\n",
        "  return tokenized_lines: an list of sentences represented as a list\n",
        "              of tokens with start and end tokens <s> and </s>\n",
        "              in the format [[<s>, text, </s], [<s>, moret, text, </s>], ...]\n",
        "        cleaned_lines : a list of lines of text with the same format as input\n",
        "               but cleaned of extra punctuation\n",
        "  \"\"\"\n",
        "  tokenized_lines = []\n",
        "  cleaned_lines = []\n",
        "  \n",
        "  for line in lines:\n",
        "      line_words = line.split()\n",
        "      line_words_clean = []\n",
        "      for lw in line_words: # ty geeks for geeks\n",
        "        line_words_clean.append(lw.translate(str.maketrans('', '', string.punctuation)))\n",
        "      start_tok = \"<s>\"\n",
        "      end_tok = \"</s>\"\n",
        "      sentence_clean = \" \".join(line_words_clean)\n",
        "      line_words_clean.insert(0, start_tok)\n",
        "      line_words_clean.append(end_tok)\n",
        "      tokenized_lines.append(line_words_clean)\n",
        "      cleaned_lines.append(sentence_clean)\n",
        "\n",
        "  return tokenized_lines, cleaned_lines\n"
      ]
    },
    {
      "cell_type": "markdown",
      "metadata": {
        "id": "7k8GdxfTknlt"
      },
      "source": [
        "## Portuguese\n",
        "\n",
        "Lots of poems in portuguese from the Kaggle set. This was a bit tough to parse at first as there were a lot of different line breaks, etc. that were not found in other texts.\n",
        "\n",
        "https://www.kaggle.com/datasets/oliveirasp6/poems-in-portuguese \n",
        "15,543 texts by the most renowned Brazilian authors gathered from the website https://www.escritas.org/pt/poemas."
      ]
    },
    {
      "cell_type": "code",
      "execution_count": null,
      "metadata": {
        "colab": {
          "base_uri": "https://localhost:8080/"
        },
        "id": "lo97Keb4k9Aw",
        "outputId": "a08cf3b6-b77b-4975-a8e5-738df6557513"
      },
      "outputs": [
        {
          "output_type": "stream",
          "name": "stdout",
          "text": [
            "Downloading poems-in-portuguese.zip to /content\n",
            " 73% 4.00M/5.50M [00:00<00:00, 6.25MB/s]\n",
            "100% 5.50M/5.50M [00:00<00:00, 5.91MB/s]\n",
            "Archive:  poems-in-portuguese.zip\n",
            "  inflating: portuguese-poems.csv    \n"
          ]
        }
      ],
      "source": [
        "! kaggle datasets download -d oliveirasp6/poems-in-portuguese\n",
        "! unzip poems-in-portuguese.zip\n",
        "! mv portuguese-poems.csv dataset-portuguese.csv"
      ]
    },
    {
      "cell_type": "markdown",
      "metadata": {
        "id": "3nUewsn2shO3"
      },
      "source": [
        "Read CSV and import dataset"
      ]
    },
    {
      "cell_type": "code",
      "execution_count": null,
      "metadata": {
        "colab": {
          "base_uri": "https://localhost:8080/",
          "height": 248
        },
        "id": "RxXD3mx-n1vD",
        "outputId": "acfd28b0-068f-4a1e-b238-ffcf062f0bf9"
      },
      "outputs": [
        {
          "output_type": "execute_result",
          "data": {
            "text/plain": [
              "                       Author                              Title  \\\n",
              "0            Cecília Meireles                            Retrato   \n",
              "1             Fernando Pessoa  Para ser grande, sê inteiro: nada   \n",
              "2            Marina Colasanti              Eu sei, mas não devia   \n",
              "3  Carlos Drummond de Andrade                          Quadrilha   \n",
              "4          Eugénio de Andrade                   É urgente o amor   \n",
              "\n",
              "                                             Content    Views  \n",
              "0  Eu não tinha este rosto de hoje,\\r\\nAssim calm...  1018431  \n",
              "1  Para ser grande, sê inteiro: nada\\r\\nTeu exage...  1979413  \n",
              "2  Eu sei que a gente se acostuma. Mas não devia....   301509  \n",
              "3  João amava Teresa que amava Raimundo\\r\\nque am...  1421206  \n",
              "4  É urgente o amor.\\r\\nÉ urgente um barco no mar...   621197  "
            ],
            "text/html": [
              "\n",
              "  <div id=\"df-34d75398-1123-4324-8aa7-b29685d61ded\">\n",
              "    <div class=\"colab-df-container\">\n",
              "      <div>\n",
              "<style scoped>\n",
              "    .dataframe tbody tr th:only-of-type {\n",
              "        vertical-align: middle;\n",
              "    }\n",
              "\n",
              "    .dataframe tbody tr th {\n",
              "        vertical-align: top;\n",
              "    }\n",
              "\n",
              "    .dataframe thead th {\n",
              "        text-align: right;\n",
              "    }\n",
              "</style>\n",
              "<table border=\"1\" class=\"dataframe\">\n",
              "  <thead>\n",
              "    <tr style=\"text-align: right;\">\n",
              "      <th></th>\n",
              "      <th>Author</th>\n",
              "      <th>Title</th>\n",
              "      <th>Content</th>\n",
              "      <th>Views</th>\n",
              "    </tr>\n",
              "  </thead>\n",
              "  <tbody>\n",
              "    <tr>\n",
              "      <th>0</th>\n",
              "      <td>Cecília Meireles</td>\n",
              "      <td>Retrato</td>\n",
              "      <td>Eu não tinha este rosto de hoje,\\r\\nAssim calm...</td>\n",
              "      <td>1018431</td>\n",
              "    </tr>\n",
              "    <tr>\n",
              "      <th>1</th>\n",
              "      <td>Fernando Pessoa</td>\n",
              "      <td>Para ser grande, sê inteiro: nada</td>\n",
              "      <td>Para ser grande, sê inteiro: nada\\r\\nTeu exage...</td>\n",
              "      <td>1979413</td>\n",
              "    </tr>\n",
              "    <tr>\n",
              "      <th>2</th>\n",
              "      <td>Marina Colasanti</td>\n",
              "      <td>Eu sei, mas não devia</td>\n",
              "      <td>Eu sei que a gente se acostuma. Mas não devia....</td>\n",
              "      <td>301509</td>\n",
              "    </tr>\n",
              "    <tr>\n",
              "      <th>3</th>\n",
              "      <td>Carlos Drummond de Andrade</td>\n",
              "      <td>Quadrilha</td>\n",
              "      <td>João amava Teresa que amava Raimundo\\r\\nque am...</td>\n",
              "      <td>1421206</td>\n",
              "    </tr>\n",
              "    <tr>\n",
              "      <th>4</th>\n",
              "      <td>Eugénio de Andrade</td>\n",
              "      <td>É urgente o amor</td>\n",
              "      <td>É urgente o amor.\\r\\nÉ urgente um barco no mar...</td>\n",
              "      <td>621197</td>\n",
              "    </tr>\n",
              "  </tbody>\n",
              "</table>\n",
              "</div>\n",
              "      <button class=\"colab-df-convert\" onclick=\"convertToInteractive('df-34d75398-1123-4324-8aa7-b29685d61ded')\"\n",
              "              title=\"Convert this dataframe to an interactive table.\"\n",
              "              style=\"display:none;\">\n",
              "        \n",
              "  <svg xmlns=\"http://www.w3.org/2000/svg\" height=\"24px\"viewBox=\"0 0 24 24\"\n",
              "       width=\"24px\">\n",
              "    <path d=\"M0 0h24v24H0V0z\" fill=\"none\"/>\n",
              "    <path d=\"M18.56 5.44l.94 2.06.94-2.06 2.06-.94-2.06-.94-.94-2.06-.94 2.06-2.06.94zm-11 1L8.5 8.5l.94-2.06 2.06-.94-2.06-.94L8.5 2.5l-.94 2.06-2.06.94zm10 10l.94 2.06.94-2.06 2.06-.94-2.06-.94-.94-2.06-.94 2.06-2.06.94z\"/><path d=\"M17.41 7.96l-1.37-1.37c-.4-.4-.92-.59-1.43-.59-.52 0-1.04.2-1.43.59L10.3 9.45l-7.72 7.72c-.78.78-.78 2.05 0 2.83L4 21.41c.39.39.9.59 1.41.59.51 0 1.02-.2 1.41-.59l7.78-7.78 2.81-2.81c.8-.78.8-2.07 0-2.86zM5.41 20L4 18.59l7.72-7.72 1.47 1.35L5.41 20z\"/>\n",
              "  </svg>\n",
              "      </button>\n",
              "      \n",
              "  <style>\n",
              "    .colab-df-container {\n",
              "      display:flex;\n",
              "      flex-wrap:wrap;\n",
              "      gap: 12px;\n",
              "    }\n",
              "\n",
              "    .colab-df-convert {\n",
              "      background-color: #E8F0FE;\n",
              "      border: none;\n",
              "      border-radius: 50%;\n",
              "      cursor: pointer;\n",
              "      display: none;\n",
              "      fill: #1967D2;\n",
              "      height: 32px;\n",
              "      padding: 0 0 0 0;\n",
              "      width: 32px;\n",
              "    }\n",
              "\n",
              "    .colab-df-convert:hover {\n",
              "      background-color: #E2EBFA;\n",
              "      box-shadow: 0px 1px 2px rgba(60, 64, 67, 0.3), 0px 1px 3px 1px rgba(60, 64, 67, 0.15);\n",
              "      fill: #174EA6;\n",
              "    }\n",
              "\n",
              "    [theme=dark] .colab-df-convert {\n",
              "      background-color: #3B4455;\n",
              "      fill: #D2E3FC;\n",
              "    }\n",
              "\n",
              "    [theme=dark] .colab-df-convert:hover {\n",
              "      background-color: #434B5C;\n",
              "      box-shadow: 0px 1px 3px 1px rgba(0, 0, 0, 0.15);\n",
              "      filter: drop-shadow(0px 1px 2px rgba(0, 0, 0, 0.3));\n",
              "      fill: #FFFFFF;\n",
              "    }\n",
              "  </style>\n",
              "\n",
              "      <script>\n",
              "        const buttonEl =\n",
              "          document.querySelector('#df-34d75398-1123-4324-8aa7-b29685d61ded button.colab-df-convert');\n",
              "        buttonEl.style.display =\n",
              "          google.colab.kernel.accessAllowed ? 'block' : 'none';\n",
              "\n",
              "        async function convertToInteractive(key) {\n",
              "          const element = document.querySelector('#df-34d75398-1123-4324-8aa7-b29685d61ded');\n",
              "          const dataTable =\n",
              "            await google.colab.kernel.invokeFunction('convertToInteractive',\n",
              "                                                     [key], {});\n",
              "          if (!dataTable) return;\n",
              "\n",
              "          const docLinkHtml = 'Like what you see? Visit the ' +\n",
              "            '<a target=\"_blank\" href=https://colab.research.google.com/notebooks/data_table.ipynb>data table notebook</a>'\n",
              "            + ' to learn more about interactive tables.';\n",
              "          element.innerHTML = '';\n",
              "          dataTable['output_type'] = 'display_data';\n",
              "          await google.colab.output.renderOutput(dataTable, element);\n",
              "          const docLink = document.createElement('div');\n",
              "          docLink.innerHTML = docLinkHtml;\n",
              "          element.appendChild(docLink);\n",
              "        }\n",
              "      </script>\n",
              "    </div>\n",
              "  </div>\n",
              "  "
            ]
          },
          "metadata": {},
          "execution_count": 7
        }
      ],
      "source": [
        "dataset_portuguese = pd.read_csv('dataset-portuguese.csv')\n",
        "dataset_portuguese.head() # read for sanity"
      ]
    },
    {
      "cell_type": "code",
      "execution_count": null,
      "metadata": {
        "colab": {
          "base_uri": "https://localhost:8080/"
        },
        "id": "_KYqstn0tRW0",
        "outputId": "7dd1a37a-bd83-436f-9986-889e0130dc41"
      },
      "outputs": [
        {
          "output_type": "stream",
          "name": "stdout",
          "text": [
            "Author     15543\n",
            "Title      15543\n",
            "Content    15541\n",
            "Views      15543\n",
            "dtype: int64\n",
            "Author     15541\n",
            "Title      15541\n",
            "Content    15541\n",
            "Views      15541\n",
            "dtype: int64\n"
          ]
        }
      ],
      "source": [
        "#drop NA content, reindex if any was dropped\n",
        "print(dataset_portuguese.count())\n",
        "dataset_portuguese.dropna(subset=['Content'],inplace=True)\n",
        "dataset_portuguese.reset_index(drop=True,inplace=True)\n",
        "print(dataset_portuguese.count())\n",
        "#there werent any, just checking :)"
      ]
    },
    {
      "cell_type": "markdown",
      "metadata": {
        "id": "mxTe992QsxyZ"
      },
      "source": [
        "Get the actual text, we don't care about authors, title, views, etc."
      ]
    },
    {
      "cell_type": "code",
      "execution_count": null,
      "metadata": {
        "colab": {
          "base_uri": "https://localhost:8080/",
          "height": 204
        },
        "id": "GhsUHHJwvqh5",
        "outputId": "c5e25562-6b08-4f33-e0f5-a5d15fc25b10"
      },
      "outputs": [
        {
          "output_type": "execute_result",
          "data": {
            "text/plain": [
              "                                             Content\n",
              "0  Eu não tinha este rosto de hoje,\\r\\nAssim calm...\n",
              "1  Para ser grande, sê inteiro: nada\\r\\nTeu exage...\n",
              "2  Eu sei que a gente se acostuma. Mas não devia....\n",
              "3  João amava Teresa que amava Raimundo\\r\\nque am...\n",
              "4  É urgente o amor.\\r\\nÉ urgente um barco no mar..."
            ],
            "text/html": [
              "\n",
              "  <div id=\"df-160479e1-66ca-4e7b-b01e-4f6a55075fbf\">\n",
              "    <div class=\"colab-df-container\">\n",
              "      <div>\n",
              "<style scoped>\n",
              "    .dataframe tbody tr th:only-of-type {\n",
              "        vertical-align: middle;\n",
              "    }\n",
              "\n",
              "    .dataframe tbody tr th {\n",
              "        vertical-align: top;\n",
              "    }\n",
              "\n",
              "    .dataframe thead th {\n",
              "        text-align: right;\n",
              "    }\n",
              "</style>\n",
              "<table border=\"1\" class=\"dataframe\">\n",
              "  <thead>\n",
              "    <tr style=\"text-align: right;\">\n",
              "      <th></th>\n",
              "      <th>Content</th>\n",
              "    </tr>\n",
              "  </thead>\n",
              "  <tbody>\n",
              "    <tr>\n",
              "      <th>0</th>\n",
              "      <td>Eu não tinha este rosto de hoje,\\r\\nAssim calm...</td>\n",
              "    </tr>\n",
              "    <tr>\n",
              "      <th>1</th>\n",
              "      <td>Para ser grande, sê inteiro: nada\\r\\nTeu exage...</td>\n",
              "    </tr>\n",
              "    <tr>\n",
              "      <th>2</th>\n",
              "      <td>Eu sei que a gente se acostuma. Mas não devia....</td>\n",
              "    </tr>\n",
              "    <tr>\n",
              "      <th>3</th>\n",
              "      <td>João amava Teresa que amava Raimundo\\r\\nque am...</td>\n",
              "    </tr>\n",
              "    <tr>\n",
              "      <th>4</th>\n",
              "      <td>É urgente o amor.\\r\\nÉ urgente um barco no mar...</td>\n",
              "    </tr>\n",
              "  </tbody>\n",
              "</table>\n",
              "</div>\n",
              "      <button class=\"colab-df-convert\" onclick=\"convertToInteractive('df-160479e1-66ca-4e7b-b01e-4f6a55075fbf')\"\n",
              "              title=\"Convert this dataframe to an interactive table.\"\n",
              "              style=\"display:none;\">\n",
              "        \n",
              "  <svg xmlns=\"http://www.w3.org/2000/svg\" height=\"24px\"viewBox=\"0 0 24 24\"\n",
              "       width=\"24px\">\n",
              "    <path d=\"M0 0h24v24H0V0z\" fill=\"none\"/>\n",
              "    <path d=\"M18.56 5.44l.94 2.06.94-2.06 2.06-.94-2.06-.94-.94-2.06-.94 2.06-2.06.94zm-11 1L8.5 8.5l.94-2.06 2.06-.94-2.06-.94L8.5 2.5l-.94 2.06-2.06.94zm10 10l.94 2.06.94-2.06 2.06-.94-2.06-.94-.94-2.06-.94 2.06-2.06.94z\"/><path d=\"M17.41 7.96l-1.37-1.37c-.4-.4-.92-.59-1.43-.59-.52 0-1.04.2-1.43.59L10.3 9.45l-7.72 7.72c-.78.78-.78 2.05 0 2.83L4 21.41c.39.39.9.59 1.41.59.51 0 1.02-.2 1.41-.59l7.78-7.78 2.81-2.81c.8-.78.8-2.07 0-2.86zM5.41 20L4 18.59l7.72-7.72 1.47 1.35L5.41 20z\"/>\n",
              "  </svg>\n",
              "      </button>\n",
              "      \n",
              "  <style>\n",
              "    .colab-df-container {\n",
              "      display:flex;\n",
              "      flex-wrap:wrap;\n",
              "      gap: 12px;\n",
              "    }\n",
              "\n",
              "    .colab-df-convert {\n",
              "      background-color: #E8F0FE;\n",
              "      border: none;\n",
              "      border-radius: 50%;\n",
              "      cursor: pointer;\n",
              "      display: none;\n",
              "      fill: #1967D2;\n",
              "      height: 32px;\n",
              "      padding: 0 0 0 0;\n",
              "      width: 32px;\n",
              "    }\n",
              "\n",
              "    .colab-df-convert:hover {\n",
              "      background-color: #E2EBFA;\n",
              "      box-shadow: 0px 1px 2px rgba(60, 64, 67, 0.3), 0px 1px 3px 1px rgba(60, 64, 67, 0.15);\n",
              "      fill: #174EA6;\n",
              "    }\n",
              "\n",
              "    [theme=dark] .colab-df-convert {\n",
              "      background-color: #3B4455;\n",
              "      fill: #D2E3FC;\n",
              "    }\n",
              "\n",
              "    [theme=dark] .colab-df-convert:hover {\n",
              "      background-color: #434B5C;\n",
              "      box-shadow: 0px 1px 3px 1px rgba(0, 0, 0, 0.15);\n",
              "      filter: drop-shadow(0px 1px 2px rgba(0, 0, 0, 0.3));\n",
              "      fill: #FFFFFF;\n",
              "    }\n",
              "  </style>\n",
              "\n",
              "      <script>\n",
              "        const buttonEl =\n",
              "          document.querySelector('#df-160479e1-66ca-4e7b-b01e-4f6a55075fbf button.colab-df-convert');\n",
              "        buttonEl.style.display =\n",
              "          google.colab.kernel.accessAllowed ? 'block' : 'none';\n",
              "\n",
              "        async function convertToInteractive(key) {\n",
              "          const element = document.querySelector('#df-160479e1-66ca-4e7b-b01e-4f6a55075fbf');\n",
              "          const dataTable =\n",
              "            await google.colab.kernel.invokeFunction('convertToInteractive',\n",
              "                                                     [key], {});\n",
              "          if (!dataTable) return;\n",
              "\n",
              "          const docLinkHtml = 'Like what you see? Visit the ' +\n",
              "            '<a target=\"_blank\" href=https://colab.research.google.com/notebooks/data_table.ipynb>data table notebook</a>'\n",
              "            + ' to learn more about interactive tables.';\n",
              "          element.innerHTML = '';\n",
              "          dataTable['output_type'] = 'display_data';\n",
              "          await google.colab.output.renderOutput(dataTable, element);\n",
              "          const docLink = document.createElement('div');\n",
              "          docLink.innerHTML = docLinkHtml;\n",
              "          element.appendChild(docLink);\n",
              "        }\n",
              "      </script>\n",
              "    </div>\n",
              "  </div>\n",
              "  "
            ]
          },
          "metadata": {},
          "execution_count": 9
        }
      ],
      "source": [
        "poems_portuguese = dataset_portuguese[['Content']]\n",
        "poems_portuguese.head()"
      ]
    },
    {
      "cell_type": "markdown",
      "metadata": {
        "id": "Q6K-hhFes6Mh"
      },
      "source": [
        "Insert the language flag as Portuguese"
      ]
    },
    {
      "cell_type": "code",
      "execution_count": null,
      "metadata": {
        "colab": {
          "base_uri": "https://localhost:8080/",
          "height": 204
        },
        "id": "u6MBwDKxw8nG",
        "outputId": "40dd4aed-bc24-456c-a224-eede7d356e08"
      },
      "outputs": [
        {
          "output_type": "execute_result",
          "data": {
            "text/plain": [
              "                                             Content  Language\n",
              "0  Eu não tinha este rosto de hoje,\\r\\nAssim calm...         0\n",
              "1  Para ser grande, sê inteiro: nada\\r\\nTeu exage...         0\n",
              "2  Eu sei que a gente se acostuma. Mas não devia....         0\n",
              "3  João amava Teresa que amava Raimundo\\r\\nque am...         0\n",
              "4  É urgente o amor.\\r\\nÉ urgente um barco no mar...         0"
            ],
            "text/html": [
              "\n",
              "  <div id=\"df-c0ab093a-afc6-43aa-9850-144e74963756\">\n",
              "    <div class=\"colab-df-container\">\n",
              "      <div>\n",
              "<style scoped>\n",
              "    .dataframe tbody tr th:only-of-type {\n",
              "        vertical-align: middle;\n",
              "    }\n",
              "\n",
              "    .dataframe tbody tr th {\n",
              "        vertical-align: top;\n",
              "    }\n",
              "\n",
              "    .dataframe thead th {\n",
              "        text-align: right;\n",
              "    }\n",
              "</style>\n",
              "<table border=\"1\" class=\"dataframe\">\n",
              "  <thead>\n",
              "    <tr style=\"text-align: right;\">\n",
              "      <th></th>\n",
              "      <th>Content</th>\n",
              "      <th>Language</th>\n",
              "    </tr>\n",
              "  </thead>\n",
              "  <tbody>\n",
              "    <tr>\n",
              "      <th>0</th>\n",
              "      <td>Eu não tinha este rosto de hoje,\\r\\nAssim calm...</td>\n",
              "      <td>0</td>\n",
              "    </tr>\n",
              "    <tr>\n",
              "      <th>1</th>\n",
              "      <td>Para ser grande, sê inteiro: nada\\r\\nTeu exage...</td>\n",
              "      <td>0</td>\n",
              "    </tr>\n",
              "    <tr>\n",
              "      <th>2</th>\n",
              "      <td>Eu sei que a gente se acostuma. Mas não devia....</td>\n",
              "      <td>0</td>\n",
              "    </tr>\n",
              "    <tr>\n",
              "      <th>3</th>\n",
              "      <td>João amava Teresa que amava Raimundo\\r\\nque am...</td>\n",
              "      <td>0</td>\n",
              "    </tr>\n",
              "    <tr>\n",
              "      <th>4</th>\n",
              "      <td>É urgente o amor.\\r\\nÉ urgente um barco no mar...</td>\n",
              "      <td>0</td>\n",
              "    </tr>\n",
              "  </tbody>\n",
              "</table>\n",
              "</div>\n",
              "      <button class=\"colab-df-convert\" onclick=\"convertToInteractive('df-c0ab093a-afc6-43aa-9850-144e74963756')\"\n",
              "              title=\"Convert this dataframe to an interactive table.\"\n",
              "              style=\"display:none;\">\n",
              "        \n",
              "  <svg xmlns=\"http://www.w3.org/2000/svg\" height=\"24px\"viewBox=\"0 0 24 24\"\n",
              "       width=\"24px\">\n",
              "    <path d=\"M0 0h24v24H0V0z\" fill=\"none\"/>\n",
              "    <path d=\"M18.56 5.44l.94 2.06.94-2.06 2.06-.94-2.06-.94-.94-2.06-.94 2.06-2.06.94zm-11 1L8.5 8.5l.94-2.06 2.06-.94-2.06-.94L8.5 2.5l-.94 2.06-2.06.94zm10 10l.94 2.06.94-2.06 2.06-.94-2.06-.94-.94-2.06-.94 2.06-2.06.94z\"/><path d=\"M17.41 7.96l-1.37-1.37c-.4-.4-.92-.59-1.43-.59-.52 0-1.04.2-1.43.59L10.3 9.45l-7.72 7.72c-.78.78-.78 2.05 0 2.83L4 21.41c.39.39.9.59 1.41.59.51 0 1.02-.2 1.41-.59l7.78-7.78 2.81-2.81c.8-.78.8-2.07 0-2.86zM5.41 20L4 18.59l7.72-7.72 1.47 1.35L5.41 20z\"/>\n",
              "  </svg>\n",
              "      </button>\n",
              "      \n",
              "  <style>\n",
              "    .colab-df-container {\n",
              "      display:flex;\n",
              "      flex-wrap:wrap;\n",
              "      gap: 12px;\n",
              "    }\n",
              "\n",
              "    .colab-df-convert {\n",
              "      background-color: #E8F0FE;\n",
              "      border: none;\n",
              "      border-radius: 50%;\n",
              "      cursor: pointer;\n",
              "      display: none;\n",
              "      fill: #1967D2;\n",
              "      height: 32px;\n",
              "      padding: 0 0 0 0;\n",
              "      width: 32px;\n",
              "    }\n",
              "\n",
              "    .colab-df-convert:hover {\n",
              "      background-color: #E2EBFA;\n",
              "      box-shadow: 0px 1px 2px rgba(60, 64, 67, 0.3), 0px 1px 3px 1px rgba(60, 64, 67, 0.15);\n",
              "      fill: #174EA6;\n",
              "    }\n",
              "\n",
              "    [theme=dark] .colab-df-convert {\n",
              "      background-color: #3B4455;\n",
              "      fill: #D2E3FC;\n",
              "    }\n",
              "\n",
              "    [theme=dark] .colab-df-convert:hover {\n",
              "      background-color: #434B5C;\n",
              "      box-shadow: 0px 1px 3px 1px rgba(0, 0, 0, 0.15);\n",
              "      filter: drop-shadow(0px 1px 2px rgba(0, 0, 0, 0.3));\n",
              "      fill: #FFFFFF;\n",
              "    }\n",
              "  </style>\n",
              "\n",
              "      <script>\n",
              "        const buttonEl =\n",
              "          document.querySelector('#df-c0ab093a-afc6-43aa-9850-144e74963756 button.colab-df-convert');\n",
              "        buttonEl.style.display =\n",
              "          google.colab.kernel.accessAllowed ? 'block' : 'none';\n",
              "\n",
              "        async function convertToInteractive(key) {\n",
              "          const element = document.querySelector('#df-c0ab093a-afc6-43aa-9850-144e74963756');\n",
              "          const dataTable =\n",
              "            await google.colab.kernel.invokeFunction('convertToInteractive',\n",
              "                                                     [key], {});\n",
              "          if (!dataTable) return;\n",
              "\n",
              "          const docLinkHtml = 'Like what you see? Visit the ' +\n",
              "            '<a target=\"_blank\" href=https://colab.research.google.com/notebooks/data_table.ipynb>data table notebook</a>'\n",
              "            + ' to learn more about interactive tables.';\n",
              "          element.innerHTML = '';\n",
              "          dataTable['output_type'] = 'display_data';\n",
              "          await google.colab.output.renderOutput(dataTable, element);\n",
              "          const docLink = document.createElement('div');\n",
              "          docLink.innerHTML = docLinkHtml;\n",
              "          element.appendChild(docLink);\n",
              "        }\n",
              "      </script>\n",
              "    </div>\n",
              "  </div>\n",
              "  "
            ]
          },
          "metadata": {},
          "execution_count": 10
        }
      ],
      "source": [
        "poems_portuguese.insert(1, \"Language\", lang_class['portuguese'])\n",
        "poems_portuguese.head()"
      ]
    },
    {
      "cell_type": "markdown",
      "metadata": {
        "id": "89F1EHOQs-fl"
      },
      "source": [
        "Get poem content in array"
      ]
    },
    {
      "cell_type": "code",
      "execution_count": null,
      "metadata": {
        "colab": {
          "base_uri": "https://localhost:8080/"
        },
        "id": "-WbYdPncyfcP",
        "outputId": "8b7ba4c6-e084-4a5a-b992-37b1239626d3"
      },
      "outputs": [
        {
          "output_type": "stream",
          "name": "stdout",
          "text": [
            "15541\n"
          ]
        }
      ],
      "source": [
        "content_portuguese = poems_portuguese['Content'].array\n",
        "print(len(content_portuguese))"
      ]
    },
    {
      "cell_type": "markdown",
      "metadata": {
        "id": "H40Fm_gWtFhy"
      },
      "source": [
        "Separate lines of poems"
      ]
    },
    {
      "cell_type": "code",
      "execution_count": null,
      "metadata": {
        "colab": {
          "base_uri": "https://localhost:8080/"
        },
        "id": "Sr3j1C8YzXhq",
        "outputId": "434c4a34-f5b4-4782-eacd-09f97fa037d8"
      },
      "outputs": [
        {
          "output_type": "stream",
          "name": "stdout",
          "text": [
            "317296\n"
          ]
        }
      ],
      "source": [
        "lines_portuguese = seperate_lines(content_portuguese)\n",
        "print(len(lines_portuguese))\n"
      ]
    },
    {
      "cell_type": "markdown",
      "metadata": {
        "id": "ukz30JNRtIQh"
      },
      "source": [
        "Tokenize"
      ]
    },
    {
      "cell_type": "code",
      "execution_count": null,
      "metadata": {
        "colab": {
          "base_uri": "https://localhost:8080/"
        },
        "id": "PK7x3yKvZfz2",
        "outputId": "e71ee62f-153b-4448-dfd2-e38636cae4c5"
      },
      "outputs": [
        {
          "output_type": "stream",
          "name": "stdout",
          "text": [
            "317296\n"
          ]
        }
      ],
      "source": [
        "tokenized_portuguese, cleaned_portuguese = tokenize_lines(lines_portuguese)\n",
        "print(len(tokenized_portuguese))"
      ]
    },
    {
      "cell_type": "markdown",
      "metadata": {
        "id": "Gb1PG575tMgK"
      },
      "source": [
        "Put into a word2vec!"
      ]
    },
    {
      "cell_type": "code",
      "execution_count": null,
      "metadata": {
        "colab": {
          "base_uri": "https://localhost:8080/"
        },
        "id": "ts1DCNDfW5E7",
        "outputId": "38f04e2c-1a2c-4755-ddf8-b76c020117b9"
      },
      "outputs": [
        {
          "output_type": "stream",
          "name": "stdout",
          "text": [
            "(162761, 100)\n"
          ]
        }
      ],
      "source": [
        "word2vec_portuguese = Word2Vec(sentences=tokenized_portuguese, vector_size=EMBEDDINGS_SIZE, window=5, min_count=1, workers=4, sg=1)\n",
        "word2vec_portuguese.save(\"word2vec_portuguese.model\")\n",
        "print(word2vec_portuguese.wv.vectors.shape)"
      ]
    },
    {
      "cell_type": "markdown",
      "metadata": {
        "id": "S4dvrUlPmrhz"
      },
      "source": [
        "##Spanish\n",
        "\n",
        "There are a few less comments here as to not crowd the notebook, and there is less need as the steps are the exact same as Portuguese; we left comments where it may be confusing.\n",
        "\n",
        "https://www.kaggle.com/datasets/andreamorgar/spanish-poetry-dataset Spanish poems gathered from www.poemas-del-alma.com each with the name of the poet, poem, and poem title. "
      ]
    },
    {
      "cell_type": "code",
      "execution_count": null,
      "metadata": {
        "colab": {
          "base_uri": "https://localhost:8080/"
        },
        "id": "Cl1ITdWamzRx",
        "outputId": "d0464d66-c1a4-48f2-d7c7-6c367115fc29"
      },
      "outputs": [
        {
          "output_type": "stream",
          "name": "stdout",
          "text": [
            "Downloading spanish-poetry-dataset.zip to /content\n",
            " 94% 2.00M/2.12M [00:00<00:00, 2.96MB/s]\n",
            "100% 2.12M/2.12M [00:00<00:00, 2.71MB/s]\n",
            "Archive:  spanish-poetry-dataset.zip\n",
            "  inflating: poems.csv               \n"
          ]
        }
      ],
      "source": [
        "! kaggle datasets download -d andreamorgar/spanish-poetry-dataset\n",
        "! unzip spanish-poetry-dataset.zip\n",
        "! mv poems.csv dataset-spanish.csv"
      ]
    },
    {
      "cell_type": "code",
      "execution_count": null,
      "metadata": {
        "colab": {
          "base_uri": "https://localhost:8080/",
          "height": 204
        },
        "id": "4OgzmNn8n4Ed",
        "outputId": "a9d734f8-94bd-4d68-ed14-fb35be3be2db"
      },
      "outputs": [
        {
          "output_type": "execute_result",
          "data": {
            "text/plain": [
              "                    author                                            content  \\\n",
              "0         Leopoldo Lugones  \\n\\nEn el parque confuso\\nQue con lánguidas br...   \n",
              "1          Marilina Rébora  \\n\\nPorque si tú no velas, vendré como ladrón;...   \n",
              "2          Antonio Colinas  \\n\\nPequeña de mis sueños, por tu piel las pal...   \n",
              "3      José María Hinojosa  \\n\\nLos dedos de la nieve\\nrepiquetearon\\nen e...   \n",
              "4  Rubén Izaguirre Fiallos  Naciste en Armenia,\\npero te fuiste a vivir al...   \n",
              "\n",
              "                                   title  \n",
              "0                   LA MUERTE DE LA LUNA  \n",
              "1                  PORQUE SI TÚ NO VELAS  \n",
              "2  POEMA DE LA BELLEZA CAUTIVA QUE PERDÍ  \n",
              "3                              SENCILLEZ  \n",
              "4          Breve Carta a Consuelo Suncín  "
            ],
            "text/html": [
              "\n",
              "  <div id=\"df-3112e876-cb8f-4fd8-bead-0c560af08876\">\n",
              "    <div class=\"colab-df-container\">\n",
              "      <div>\n",
              "<style scoped>\n",
              "    .dataframe tbody tr th:only-of-type {\n",
              "        vertical-align: middle;\n",
              "    }\n",
              "\n",
              "    .dataframe tbody tr th {\n",
              "        vertical-align: top;\n",
              "    }\n",
              "\n",
              "    .dataframe thead th {\n",
              "        text-align: right;\n",
              "    }\n",
              "</style>\n",
              "<table border=\"1\" class=\"dataframe\">\n",
              "  <thead>\n",
              "    <tr style=\"text-align: right;\">\n",
              "      <th></th>\n",
              "      <th>author</th>\n",
              "      <th>content</th>\n",
              "      <th>title</th>\n",
              "    </tr>\n",
              "  </thead>\n",
              "  <tbody>\n",
              "    <tr>\n",
              "      <th>0</th>\n",
              "      <td>Leopoldo Lugones</td>\n",
              "      <td>\\n\\nEn el parque confuso\\nQue con lánguidas br...</td>\n",
              "      <td>LA MUERTE DE LA LUNA</td>\n",
              "    </tr>\n",
              "    <tr>\n",
              "      <th>1</th>\n",
              "      <td>Marilina Rébora</td>\n",
              "      <td>\\n\\nPorque si tú no velas, vendré como ladrón;...</td>\n",
              "      <td>PORQUE SI TÚ NO VELAS</td>\n",
              "    </tr>\n",
              "    <tr>\n",
              "      <th>2</th>\n",
              "      <td>Antonio Colinas</td>\n",
              "      <td>\\n\\nPequeña de mis sueños, por tu piel las pal...</td>\n",
              "      <td>POEMA DE LA BELLEZA CAUTIVA QUE PERDÍ</td>\n",
              "    </tr>\n",
              "    <tr>\n",
              "      <th>3</th>\n",
              "      <td>José María Hinojosa</td>\n",
              "      <td>\\n\\nLos dedos de la nieve\\nrepiquetearon\\nen e...</td>\n",
              "      <td>SENCILLEZ</td>\n",
              "    </tr>\n",
              "    <tr>\n",
              "      <th>4</th>\n",
              "      <td>Rubén Izaguirre Fiallos</td>\n",
              "      <td>Naciste en Armenia,\\npero te fuiste a vivir al...</td>\n",
              "      <td>Breve Carta a Consuelo Suncín</td>\n",
              "    </tr>\n",
              "  </tbody>\n",
              "</table>\n",
              "</div>\n",
              "      <button class=\"colab-df-convert\" onclick=\"convertToInteractive('df-3112e876-cb8f-4fd8-bead-0c560af08876')\"\n",
              "              title=\"Convert this dataframe to an interactive table.\"\n",
              "              style=\"display:none;\">\n",
              "        \n",
              "  <svg xmlns=\"http://www.w3.org/2000/svg\" height=\"24px\"viewBox=\"0 0 24 24\"\n",
              "       width=\"24px\">\n",
              "    <path d=\"M0 0h24v24H0V0z\" fill=\"none\"/>\n",
              "    <path d=\"M18.56 5.44l.94 2.06.94-2.06 2.06-.94-2.06-.94-.94-2.06-.94 2.06-2.06.94zm-11 1L8.5 8.5l.94-2.06 2.06-.94-2.06-.94L8.5 2.5l-.94 2.06-2.06.94zm10 10l.94 2.06.94-2.06 2.06-.94-2.06-.94-.94-2.06-.94 2.06-2.06.94z\"/><path d=\"M17.41 7.96l-1.37-1.37c-.4-.4-.92-.59-1.43-.59-.52 0-1.04.2-1.43.59L10.3 9.45l-7.72 7.72c-.78.78-.78 2.05 0 2.83L4 21.41c.39.39.9.59 1.41.59.51 0 1.02-.2 1.41-.59l7.78-7.78 2.81-2.81c.8-.78.8-2.07 0-2.86zM5.41 20L4 18.59l7.72-7.72 1.47 1.35L5.41 20z\"/>\n",
              "  </svg>\n",
              "      </button>\n",
              "      \n",
              "  <style>\n",
              "    .colab-df-container {\n",
              "      display:flex;\n",
              "      flex-wrap:wrap;\n",
              "      gap: 12px;\n",
              "    }\n",
              "\n",
              "    .colab-df-convert {\n",
              "      background-color: #E8F0FE;\n",
              "      border: none;\n",
              "      border-radius: 50%;\n",
              "      cursor: pointer;\n",
              "      display: none;\n",
              "      fill: #1967D2;\n",
              "      height: 32px;\n",
              "      padding: 0 0 0 0;\n",
              "      width: 32px;\n",
              "    }\n",
              "\n",
              "    .colab-df-convert:hover {\n",
              "      background-color: #E2EBFA;\n",
              "      box-shadow: 0px 1px 2px rgba(60, 64, 67, 0.3), 0px 1px 3px 1px rgba(60, 64, 67, 0.15);\n",
              "      fill: #174EA6;\n",
              "    }\n",
              "\n",
              "    [theme=dark] .colab-df-convert {\n",
              "      background-color: #3B4455;\n",
              "      fill: #D2E3FC;\n",
              "    }\n",
              "\n",
              "    [theme=dark] .colab-df-convert:hover {\n",
              "      background-color: #434B5C;\n",
              "      box-shadow: 0px 1px 3px 1px rgba(0, 0, 0, 0.15);\n",
              "      filter: drop-shadow(0px 1px 2px rgba(0, 0, 0, 0.3));\n",
              "      fill: #FFFFFF;\n",
              "    }\n",
              "  </style>\n",
              "\n",
              "      <script>\n",
              "        const buttonEl =\n",
              "          document.querySelector('#df-3112e876-cb8f-4fd8-bead-0c560af08876 button.colab-df-convert');\n",
              "        buttonEl.style.display =\n",
              "          google.colab.kernel.accessAllowed ? 'block' : 'none';\n",
              "\n",
              "        async function convertToInteractive(key) {\n",
              "          const element = document.querySelector('#df-3112e876-cb8f-4fd8-bead-0c560af08876');\n",
              "          const dataTable =\n",
              "            await google.colab.kernel.invokeFunction('convertToInteractive',\n",
              "                                                     [key], {});\n",
              "          if (!dataTable) return;\n",
              "\n",
              "          const docLinkHtml = 'Like what you see? Visit the ' +\n",
              "            '<a target=\"_blank\" href=https://colab.research.google.com/notebooks/data_table.ipynb>data table notebook</a>'\n",
              "            + ' to learn more about interactive tables.';\n",
              "          element.innerHTML = '';\n",
              "          dataTable['output_type'] = 'display_data';\n",
              "          await google.colab.output.renderOutput(dataTable, element);\n",
              "          const docLink = document.createElement('div');\n",
              "          docLink.innerHTML = docLinkHtml;\n",
              "          element.appendChild(docLink);\n",
              "        }\n",
              "      </script>\n",
              "    </div>\n",
              "  </div>\n",
              "  "
            ]
          },
          "metadata": {},
          "execution_count": 16
        }
      ],
      "source": [
        "dataset_spanish = pd.read_csv('dataset-spanish.csv')\n",
        "dataset_spanish.head()"
      ]
    },
    {
      "cell_type": "code",
      "execution_count": null,
      "metadata": {
        "colab": {
          "base_uri": "https://localhost:8080/"
        },
        "id": "w5ky5Gd4eSfU",
        "outputId": "17b16cc6-d8dd-4246-d976-bc315f0b77dc"
      },
      "outputs": [
        {
          "output_type": "stream",
          "name": "stdout",
          "text": [
            "author     5131\n",
            "content    5131\n",
            "title      5131\n",
            "dtype: int64\n",
            "author     5131\n",
            "content    5131\n",
            "title      5131\n",
            "dtype: int64\n"
          ]
        }
      ],
      "source": [
        "#drop NA content, reindex if any was dropped\n",
        "print(dataset_spanish.count())\n",
        "dataset_spanish.dropna(subset=['content'],inplace=True)\n",
        "dataset_spanish.reset_index(drop=True,inplace=True)\n",
        "print(dataset_spanish.count())"
      ]
    },
    {
      "cell_type": "code",
      "execution_count": null,
      "metadata": {
        "colab": {
          "base_uri": "https://localhost:8080/",
          "height": 204
        },
        "id": "v0YRJH6Gekoe",
        "outputId": "d1753d2f-68f5-4a17-d3f9-8299f7e11d06"
      },
      "outputs": [
        {
          "output_type": "execute_result",
          "data": {
            "text/plain": [
              "                                             Content\n",
              "0  \\n\\nEn el parque confuso\\nQue con lánguidas br...\n",
              "1  \\n\\nPorque si tú no velas, vendré como ladrón;...\n",
              "2  \\n\\nPequeña de mis sueños, por tu piel las pal...\n",
              "3  \\n\\nLos dedos de la nieve\\nrepiquetearon\\nen e...\n",
              "4  Naciste en Armenia,\\npero te fuiste a vivir al..."
            ],
            "text/html": [
              "\n",
              "  <div id=\"df-0c7a8dd6-5136-4ffb-aeea-a3fdf1b88286\">\n",
              "    <div class=\"colab-df-container\">\n",
              "      <div>\n",
              "<style scoped>\n",
              "    .dataframe tbody tr th:only-of-type {\n",
              "        vertical-align: middle;\n",
              "    }\n",
              "\n",
              "    .dataframe tbody tr th {\n",
              "        vertical-align: top;\n",
              "    }\n",
              "\n",
              "    .dataframe thead th {\n",
              "        text-align: right;\n",
              "    }\n",
              "</style>\n",
              "<table border=\"1\" class=\"dataframe\">\n",
              "  <thead>\n",
              "    <tr style=\"text-align: right;\">\n",
              "      <th></th>\n",
              "      <th>Content</th>\n",
              "    </tr>\n",
              "  </thead>\n",
              "  <tbody>\n",
              "    <tr>\n",
              "      <th>0</th>\n",
              "      <td>\\n\\nEn el parque confuso\\nQue con lánguidas br...</td>\n",
              "    </tr>\n",
              "    <tr>\n",
              "      <th>1</th>\n",
              "      <td>\\n\\nPorque si tú no velas, vendré como ladrón;...</td>\n",
              "    </tr>\n",
              "    <tr>\n",
              "      <th>2</th>\n",
              "      <td>\\n\\nPequeña de mis sueños, por tu piel las pal...</td>\n",
              "    </tr>\n",
              "    <tr>\n",
              "      <th>3</th>\n",
              "      <td>\\n\\nLos dedos de la nieve\\nrepiquetearon\\nen e...</td>\n",
              "    </tr>\n",
              "    <tr>\n",
              "      <th>4</th>\n",
              "      <td>Naciste en Armenia,\\npero te fuiste a vivir al...</td>\n",
              "    </tr>\n",
              "  </tbody>\n",
              "</table>\n",
              "</div>\n",
              "      <button class=\"colab-df-convert\" onclick=\"convertToInteractive('df-0c7a8dd6-5136-4ffb-aeea-a3fdf1b88286')\"\n",
              "              title=\"Convert this dataframe to an interactive table.\"\n",
              "              style=\"display:none;\">\n",
              "        \n",
              "  <svg xmlns=\"http://www.w3.org/2000/svg\" height=\"24px\"viewBox=\"0 0 24 24\"\n",
              "       width=\"24px\">\n",
              "    <path d=\"M0 0h24v24H0V0z\" fill=\"none\"/>\n",
              "    <path d=\"M18.56 5.44l.94 2.06.94-2.06 2.06-.94-2.06-.94-.94-2.06-.94 2.06-2.06.94zm-11 1L8.5 8.5l.94-2.06 2.06-.94-2.06-.94L8.5 2.5l-.94 2.06-2.06.94zm10 10l.94 2.06.94-2.06 2.06-.94-2.06-.94-.94-2.06-.94 2.06-2.06.94z\"/><path d=\"M17.41 7.96l-1.37-1.37c-.4-.4-.92-.59-1.43-.59-.52 0-1.04.2-1.43.59L10.3 9.45l-7.72 7.72c-.78.78-.78 2.05 0 2.83L4 21.41c.39.39.9.59 1.41.59.51 0 1.02-.2 1.41-.59l7.78-7.78 2.81-2.81c.8-.78.8-2.07 0-2.86zM5.41 20L4 18.59l7.72-7.72 1.47 1.35L5.41 20z\"/>\n",
              "  </svg>\n",
              "      </button>\n",
              "      \n",
              "  <style>\n",
              "    .colab-df-container {\n",
              "      display:flex;\n",
              "      flex-wrap:wrap;\n",
              "      gap: 12px;\n",
              "    }\n",
              "\n",
              "    .colab-df-convert {\n",
              "      background-color: #E8F0FE;\n",
              "      border: none;\n",
              "      border-radius: 50%;\n",
              "      cursor: pointer;\n",
              "      display: none;\n",
              "      fill: #1967D2;\n",
              "      height: 32px;\n",
              "      padding: 0 0 0 0;\n",
              "      width: 32px;\n",
              "    }\n",
              "\n",
              "    .colab-df-convert:hover {\n",
              "      background-color: #E2EBFA;\n",
              "      box-shadow: 0px 1px 2px rgba(60, 64, 67, 0.3), 0px 1px 3px 1px rgba(60, 64, 67, 0.15);\n",
              "      fill: #174EA6;\n",
              "    }\n",
              "\n",
              "    [theme=dark] .colab-df-convert {\n",
              "      background-color: #3B4455;\n",
              "      fill: #D2E3FC;\n",
              "    }\n",
              "\n",
              "    [theme=dark] .colab-df-convert:hover {\n",
              "      background-color: #434B5C;\n",
              "      box-shadow: 0px 1px 3px 1px rgba(0, 0, 0, 0.15);\n",
              "      filter: drop-shadow(0px 1px 2px rgba(0, 0, 0, 0.3));\n",
              "      fill: #FFFFFF;\n",
              "    }\n",
              "  </style>\n",
              "\n",
              "      <script>\n",
              "        const buttonEl =\n",
              "          document.querySelector('#df-0c7a8dd6-5136-4ffb-aeea-a3fdf1b88286 button.colab-df-convert');\n",
              "        buttonEl.style.display =\n",
              "          google.colab.kernel.accessAllowed ? 'block' : 'none';\n",
              "\n",
              "        async function convertToInteractive(key) {\n",
              "          const element = document.querySelector('#df-0c7a8dd6-5136-4ffb-aeea-a3fdf1b88286');\n",
              "          const dataTable =\n",
              "            await google.colab.kernel.invokeFunction('convertToInteractive',\n",
              "                                                     [key], {});\n",
              "          if (!dataTable) return;\n",
              "\n",
              "          const docLinkHtml = 'Like what you see? Visit the ' +\n",
              "            '<a target=\"_blank\" href=https://colab.research.google.com/notebooks/data_table.ipynb>data table notebook</a>'\n",
              "            + ' to learn more about interactive tables.';\n",
              "          element.innerHTML = '';\n",
              "          dataTable['output_type'] = 'display_data';\n",
              "          await google.colab.output.renderOutput(dataTable, element);\n",
              "          const docLink = document.createElement('div');\n",
              "          docLink.innerHTML = docLinkHtml;\n",
              "          element.appendChild(docLink);\n",
              "        }\n",
              "      </script>\n",
              "    </div>\n",
              "  </div>\n",
              "  "
            ]
          },
          "metadata": {},
          "execution_count": 18
        }
      ],
      "source": [
        "poems_spanish = dataset_spanish[['content']]\n",
        "poems_spanish = poems_spanish.rename(columns={'content': 'Content'}) \n",
        "poems_spanish.head()"
      ]
    },
    {
      "cell_type": "code",
      "execution_count": null,
      "metadata": {
        "colab": {
          "base_uri": "https://localhost:8080/",
          "height": 204
        },
        "id": "Mu3fQ4JreuUB",
        "outputId": "021c405e-4907-4de5-d354-8099489c1455"
      },
      "outputs": [
        {
          "output_type": "execute_result",
          "data": {
            "text/plain": [
              "                                             Content  Language\n",
              "0  \\n\\nEn el parque confuso\\nQue con lánguidas br...         1\n",
              "1  \\n\\nPorque si tú no velas, vendré como ladrón;...         1\n",
              "2  \\n\\nPequeña de mis sueños, por tu piel las pal...         1\n",
              "3  \\n\\nLos dedos de la nieve\\nrepiquetearon\\nen e...         1\n",
              "4  Naciste en Armenia,\\npero te fuiste a vivir al...         1"
            ],
            "text/html": [
              "\n",
              "  <div id=\"df-12f0bce7-590d-443d-ba51-c9f606590f42\">\n",
              "    <div class=\"colab-df-container\">\n",
              "      <div>\n",
              "<style scoped>\n",
              "    .dataframe tbody tr th:only-of-type {\n",
              "        vertical-align: middle;\n",
              "    }\n",
              "\n",
              "    .dataframe tbody tr th {\n",
              "        vertical-align: top;\n",
              "    }\n",
              "\n",
              "    .dataframe thead th {\n",
              "        text-align: right;\n",
              "    }\n",
              "</style>\n",
              "<table border=\"1\" class=\"dataframe\">\n",
              "  <thead>\n",
              "    <tr style=\"text-align: right;\">\n",
              "      <th></th>\n",
              "      <th>Content</th>\n",
              "      <th>Language</th>\n",
              "    </tr>\n",
              "  </thead>\n",
              "  <tbody>\n",
              "    <tr>\n",
              "      <th>0</th>\n",
              "      <td>\\n\\nEn el parque confuso\\nQue con lánguidas br...</td>\n",
              "      <td>1</td>\n",
              "    </tr>\n",
              "    <tr>\n",
              "      <th>1</th>\n",
              "      <td>\\n\\nPorque si tú no velas, vendré como ladrón;...</td>\n",
              "      <td>1</td>\n",
              "    </tr>\n",
              "    <tr>\n",
              "      <th>2</th>\n",
              "      <td>\\n\\nPequeña de mis sueños, por tu piel las pal...</td>\n",
              "      <td>1</td>\n",
              "    </tr>\n",
              "    <tr>\n",
              "      <th>3</th>\n",
              "      <td>\\n\\nLos dedos de la nieve\\nrepiquetearon\\nen e...</td>\n",
              "      <td>1</td>\n",
              "    </tr>\n",
              "    <tr>\n",
              "      <th>4</th>\n",
              "      <td>Naciste en Armenia,\\npero te fuiste a vivir al...</td>\n",
              "      <td>1</td>\n",
              "    </tr>\n",
              "  </tbody>\n",
              "</table>\n",
              "</div>\n",
              "      <button class=\"colab-df-convert\" onclick=\"convertToInteractive('df-12f0bce7-590d-443d-ba51-c9f606590f42')\"\n",
              "              title=\"Convert this dataframe to an interactive table.\"\n",
              "              style=\"display:none;\">\n",
              "        \n",
              "  <svg xmlns=\"http://www.w3.org/2000/svg\" height=\"24px\"viewBox=\"0 0 24 24\"\n",
              "       width=\"24px\">\n",
              "    <path d=\"M0 0h24v24H0V0z\" fill=\"none\"/>\n",
              "    <path d=\"M18.56 5.44l.94 2.06.94-2.06 2.06-.94-2.06-.94-.94-2.06-.94 2.06-2.06.94zm-11 1L8.5 8.5l.94-2.06 2.06-.94-2.06-.94L8.5 2.5l-.94 2.06-2.06.94zm10 10l.94 2.06.94-2.06 2.06-.94-2.06-.94-.94-2.06-.94 2.06-2.06.94z\"/><path d=\"M17.41 7.96l-1.37-1.37c-.4-.4-.92-.59-1.43-.59-.52 0-1.04.2-1.43.59L10.3 9.45l-7.72 7.72c-.78.78-.78 2.05 0 2.83L4 21.41c.39.39.9.59 1.41.59.51 0 1.02-.2 1.41-.59l7.78-7.78 2.81-2.81c.8-.78.8-2.07 0-2.86zM5.41 20L4 18.59l7.72-7.72 1.47 1.35L5.41 20z\"/>\n",
              "  </svg>\n",
              "      </button>\n",
              "      \n",
              "  <style>\n",
              "    .colab-df-container {\n",
              "      display:flex;\n",
              "      flex-wrap:wrap;\n",
              "      gap: 12px;\n",
              "    }\n",
              "\n",
              "    .colab-df-convert {\n",
              "      background-color: #E8F0FE;\n",
              "      border: none;\n",
              "      border-radius: 50%;\n",
              "      cursor: pointer;\n",
              "      display: none;\n",
              "      fill: #1967D2;\n",
              "      height: 32px;\n",
              "      padding: 0 0 0 0;\n",
              "      width: 32px;\n",
              "    }\n",
              "\n",
              "    .colab-df-convert:hover {\n",
              "      background-color: #E2EBFA;\n",
              "      box-shadow: 0px 1px 2px rgba(60, 64, 67, 0.3), 0px 1px 3px 1px rgba(60, 64, 67, 0.15);\n",
              "      fill: #174EA6;\n",
              "    }\n",
              "\n",
              "    [theme=dark] .colab-df-convert {\n",
              "      background-color: #3B4455;\n",
              "      fill: #D2E3FC;\n",
              "    }\n",
              "\n",
              "    [theme=dark] .colab-df-convert:hover {\n",
              "      background-color: #434B5C;\n",
              "      box-shadow: 0px 1px 3px 1px rgba(0, 0, 0, 0.15);\n",
              "      filter: drop-shadow(0px 1px 2px rgba(0, 0, 0, 0.3));\n",
              "      fill: #FFFFFF;\n",
              "    }\n",
              "  </style>\n",
              "\n",
              "      <script>\n",
              "        const buttonEl =\n",
              "          document.querySelector('#df-12f0bce7-590d-443d-ba51-c9f606590f42 button.colab-df-convert');\n",
              "        buttonEl.style.display =\n",
              "          google.colab.kernel.accessAllowed ? 'block' : 'none';\n",
              "\n",
              "        async function convertToInteractive(key) {\n",
              "          const element = document.querySelector('#df-12f0bce7-590d-443d-ba51-c9f606590f42');\n",
              "          const dataTable =\n",
              "            await google.colab.kernel.invokeFunction('convertToInteractive',\n",
              "                                                     [key], {});\n",
              "          if (!dataTable) return;\n",
              "\n",
              "          const docLinkHtml = 'Like what you see? Visit the ' +\n",
              "            '<a target=\"_blank\" href=https://colab.research.google.com/notebooks/data_table.ipynb>data table notebook</a>'\n",
              "            + ' to learn more about interactive tables.';\n",
              "          element.innerHTML = '';\n",
              "          dataTable['output_type'] = 'display_data';\n",
              "          await google.colab.output.renderOutput(dataTable, element);\n",
              "          const docLink = document.createElement('div');\n",
              "          docLink.innerHTML = docLinkHtml;\n",
              "          element.appendChild(docLink);\n",
              "        }\n",
              "      </script>\n",
              "    </div>\n",
              "  </div>\n",
              "  "
            ]
          },
          "metadata": {},
          "execution_count": 19
        }
      ],
      "source": [
        "poems_spanish.insert(1, \"Language\", lang_class['spanish'])\n",
        "poems_spanish.head()"
      ]
    },
    {
      "cell_type": "code",
      "execution_count": null,
      "metadata": {
        "colab": {
          "base_uri": "https://localhost:8080/"
        },
        "id": "5HCsvUoQeGeA",
        "outputId": "1e89326c-8c27-4479-c519-20bee1f2aa23"
      },
      "outputs": [
        {
          "output_type": "stream",
          "name": "stdout",
          "text": [
            "5131\n"
          ]
        }
      ],
      "source": [
        "content_spanish = poems_spanish['Content'].array\n",
        "print(len(content_spanish))"
      ]
    },
    {
      "cell_type": "code",
      "execution_count": null,
      "metadata": {
        "colab": {
          "base_uri": "https://localhost:8080/"
        },
        "id": "rfVGyJmGfa3b",
        "outputId": "d5128b3a-d6be-4291-87f1-4f1c792fd8e7"
      },
      "outputs": [
        {
          "output_type": "stream",
          "name": "stdout",
          "text": [
            "151125\n"
          ]
        }
      ],
      "source": [
        "# things to note: only saw spanish and \\n seperated lines \n",
        "# am also actually seeing some english \n",
        "# Nnoticing some \\x97 and » dont know what it is? line separaator?\n",
        "lines_spanish = seperate_lines(content_spanish)\n",
        "# lines_spanish\n",
        "print(len(lines_spanish))"
      ]
    },
    {
      "cell_type": "code",
      "execution_count": null,
      "metadata": {
        "colab": {
          "base_uri": "https://localhost:8080/"
        },
        "id": "nJAfOeJ9fa3d",
        "outputId": "943505cd-b280-44de-cedb-3dfc7df1798d"
      },
      "outputs": [
        {
          "output_type": "stream",
          "name": "stdout",
          "text": [
            "151125\n"
          ]
        }
      ],
      "source": [
        "tokenized_spanish, cleaned_spanish = tokenize_lines(lines_spanish)\n",
        "print(len(tokenized_spanish))"
      ]
    },
    {
      "cell_type": "code",
      "execution_count": null,
      "metadata": {
        "colab": {
          "base_uri": "https://localhost:8080/"
        },
        "id": "CFZD2wr_fa3e",
        "outputId": "fe7a1d4e-3b1a-46b4-e5d1-31231a6c0afd"
      },
      "outputs": [
        {
          "output_type": "stream",
          "name": "stdout",
          "text": [
            "(64915, 100)\n"
          ]
        }
      ],
      "source": [
        "word2vec_spanish = Word2Vec(sentences=tokenized_spanish, vector_size=EMBEDDINGS_SIZE, window=5, min_count=1, workers=4, sg=1)\n",
        "word2vec_spanish.save(\"word2vec_spanish.model\")\n",
        "print(word2vec_spanish.wv.vectors.shape)"
      ]
    },
    {
      "cell_type": "markdown",
      "metadata": {
        "id": "Oh9SXdZPoBCk"
      },
      "source": [
        "## English\n",
        "\n",
        "Same as above, one more time with English!\n",
        "\n",
        "https://www.kaggle.com/datasets/watrgoat/lots-of-poems the poems are from the poetry foundation website. "
      ]
    },
    {
      "cell_type": "code",
      "execution_count": null,
      "metadata": {
        "colab": {
          "base_uri": "https://localhost:8080/"
        },
        "id": "42W7BBd4olCf",
        "outputId": "1c3d57a2-4122-4c86-9c08-087c9c03e3bb"
      },
      "outputs": [
        {
          "output_type": "stream",
          "name": "stdout",
          "text": [
            "Downloading lots-of-poems.zip to /content\n",
            " 99% 60.0M/60.4M [00:05<00:00, 16.8MB/s]\n",
            "100% 60.4M/60.4M [00:05<00:00, 11.4MB/s]\n",
            "Archive:  lots-of-poems.zip\n",
            "  inflating: mostly_english_poems.csv  \n",
            "  inflating: mostly_english_poems.pickle  \n",
            "  inflating: ready_poems.csv         \n",
            "  inflating: ready_poems.pickle      \n"
          ]
        }
      ],
      "source": [
        "! kaggle datasets download -d watrgoat/lots-of-poems\n",
        "! unzip lots-of-poems.zip\n",
        "! mv mostly_english_poems.csv dataset-english.csv"
      ]
    },
    {
      "cell_type": "code",
      "execution_count": null,
      "metadata": {
        "id": "mn54JSCRvFxC",
        "colab": {
          "base_uri": "https://localhost:8080/",
          "height": 350
        },
        "outputId": "dac34840-4c6f-4ffa-a8d1-e30508d45baa"
      },
      "outputs": [
        {
          "output_type": "execute_result",
          "data": {
            "text/plain": [
              "   Unnamed: 0                                              title  \\\n",
              "0           0              Do not go gentle into that good night   \n",
              "1           1                    How Do I Love Thee? (Sonnet 43)   \n",
              "2           2  Shall I compare thee to a summer’s day? (Sonne...   \n",
              "3           3                                                If—   \n",
              "4           4                              Nothing Gold Can Stay   \n",
              "\n",
              "                       author  \\\n",
              "0                Dylan Thomas   \n",
              "1  Elizabeth Barrett Browning   \n",
              "2         William Shakespeare   \n",
              "3             Rudyard Kipling   \n",
              "4                Robert Frost   \n",
              "\n",
              "                                             content tags  \n",
              "0  Do not go gentle into that good night,\\nOld ag...   []  \n",
              "1  How do I love thee? Let me count the ways.\\nI ...   []  \n",
              "2  Shall I compare thee to a summer’s day?\\nThou ...   []  \n",
              "3  If you can keep your head when all about you\\n...   []  \n",
              "4  Nature’s first green is gold,\\nHer hardest hue...   []  "
            ],
            "text/html": [
              "\n",
              "  <div id=\"df-4cda0591-e752-4327-80b0-2fa0fab8dbf1\">\n",
              "    <div class=\"colab-df-container\">\n",
              "      <div>\n",
              "<style scoped>\n",
              "    .dataframe tbody tr th:only-of-type {\n",
              "        vertical-align: middle;\n",
              "    }\n",
              "\n",
              "    .dataframe tbody tr th {\n",
              "        vertical-align: top;\n",
              "    }\n",
              "\n",
              "    .dataframe thead th {\n",
              "        text-align: right;\n",
              "    }\n",
              "</style>\n",
              "<table border=\"1\" class=\"dataframe\">\n",
              "  <thead>\n",
              "    <tr style=\"text-align: right;\">\n",
              "      <th></th>\n",
              "      <th>Unnamed: 0</th>\n",
              "      <th>title</th>\n",
              "      <th>author</th>\n",
              "      <th>content</th>\n",
              "      <th>tags</th>\n",
              "    </tr>\n",
              "  </thead>\n",
              "  <tbody>\n",
              "    <tr>\n",
              "      <th>0</th>\n",
              "      <td>0</td>\n",
              "      <td>Do not go gentle into that good night</td>\n",
              "      <td>Dylan Thomas</td>\n",
              "      <td>Do not go gentle into that good night,\\nOld ag...</td>\n",
              "      <td>[]</td>\n",
              "    </tr>\n",
              "    <tr>\n",
              "      <th>1</th>\n",
              "      <td>1</td>\n",
              "      <td>How Do I Love Thee? (Sonnet 43)</td>\n",
              "      <td>Elizabeth Barrett Browning</td>\n",
              "      <td>How do I love thee? Let me count the ways.\\nI ...</td>\n",
              "      <td>[]</td>\n",
              "    </tr>\n",
              "    <tr>\n",
              "      <th>2</th>\n",
              "      <td>2</td>\n",
              "      <td>Shall I compare thee to a summer’s day? (Sonne...</td>\n",
              "      <td>William Shakespeare</td>\n",
              "      <td>Shall I compare thee to a summer’s day?\\nThou ...</td>\n",
              "      <td>[]</td>\n",
              "    </tr>\n",
              "    <tr>\n",
              "      <th>3</th>\n",
              "      <td>3</td>\n",
              "      <td>If—</td>\n",
              "      <td>Rudyard Kipling</td>\n",
              "      <td>If you can keep your head when all about you\\n...</td>\n",
              "      <td>[]</td>\n",
              "    </tr>\n",
              "    <tr>\n",
              "      <th>4</th>\n",
              "      <td>4</td>\n",
              "      <td>Nothing Gold Can Stay</td>\n",
              "      <td>Robert Frost</td>\n",
              "      <td>Nature’s first green is gold,\\nHer hardest hue...</td>\n",
              "      <td>[]</td>\n",
              "    </tr>\n",
              "  </tbody>\n",
              "</table>\n",
              "</div>\n",
              "      <button class=\"colab-df-convert\" onclick=\"convertToInteractive('df-4cda0591-e752-4327-80b0-2fa0fab8dbf1')\"\n",
              "              title=\"Convert this dataframe to an interactive table.\"\n",
              "              style=\"display:none;\">\n",
              "        \n",
              "  <svg xmlns=\"http://www.w3.org/2000/svg\" height=\"24px\"viewBox=\"0 0 24 24\"\n",
              "       width=\"24px\">\n",
              "    <path d=\"M0 0h24v24H0V0z\" fill=\"none\"/>\n",
              "    <path d=\"M18.56 5.44l.94 2.06.94-2.06 2.06-.94-2.06-.94-.94-2.06-.94 2.06-2.06.94zm-11 1L8.5 8.5l.94-2.06 2.06-.94-2.06-.94L8.5 2.5l-.94 2.06-2.06.94zm10 10l.94 2.06.94-2.06 2.06-.94-2.06-.94-.94-2.06-.94 2.06-2.06.94z\"/><path d=\"M17.41 7.96l-1.37-1.37c-.4-.4-.92-.59-1.43-.59-.52 0-1.04.2-1.43.59L10.3 9.45l-7.72 7.72c-.78.78-.78 2.05 0 2.83L4 21.41c.39.39.9.59 1.41.59.51 0 1.02-.2 1.41-.59l7.78-7.78 2.81-2.81c.8-.78.8-2.07 0-2.86zM5.41 20L4 18.59l7.72-7.72 1.47 1.35L5.41 20z\"/>\n",
              "  </svg>\n",
              "      </button>\n",
              "      \n",
              "  <style>\n",
              "    .colab-df-container {\n",
              "      display:flex;\n",
              "      flex-wrap:wrap;\n",
              "      gap: 12px;\n",
              "    }\n",
              "\n",
              "    .colab-df-convert {\n",
              "      background-color: #E8F0FE;\n",
              "      border: none;\n",
              "      border-radius: 50%;\n",
              "      cursor: pointer;\n",
              "      display: none;\n",
              "      fill: #1967D2;\n",
              "      height: 32px;\n",
              "      padding: 0 0 0 0;\n",
              "      width: 32px;\n",
              "    }\n",
              "\n",
              "    .colab-df-convert:hover {\n",
              "      background-color: #E2EBFA;\n",
              "      box-shadow: 0px 1px 2px rgba(60, 64, 67, 0.3), 0px 1px 3px 1px rgba(60, 64, 67, 0.15);\n",
              "      fill: #174EA6;\n",
              "    }\n",
              "\n",
              "    [theme=dark] .colab-df-convert {\n",
              "      background-color: #3B4455;\n",
              "      fill: #D2E3FC;\n",
              "    }\n",
              "\n",
              "    [theme=dark] .colab-df-convert:hover {\n",
              "      background-color: #434B5C;\n",
              "      box-shadow: 0px 1px 3px 1px rgba(0, 0, 0, 0.15);\n",
              "      filter: drop-shadow(0px 1px 2px rgba(0, 0, 0, 0.3));\n",
              "      fill: #FFFFFF;\n",
              "    }\n",
              "  </style>\n",
              "\n",
              "      <script>\n",
              "        const buttonEl =\n",
              "          document.querySelector('#df-4cda0591-e752-4327-80b0-2fa0fab8dbf1 button.colab-df-convert');\n",
              "        buttonEl.style.display =\n",
              "          google.colab.kernel.accessAllowed ? 'block' : 'none';\n",
              "\n",
              "        async function convertToInteractive(key) {\n",
              "          const element = document.querySelector('#df-4cda0591-e752-4327-80b0-2fa0fab8dbf1');\n",
              "          const dataTable =\n",
              "            await google.colab.kernel.invokeFunction('convertToInteractive',\n",
              "                                                     [key], {});\n",
              "          if (!dataTable) return;\n",
              "\n",
              "          const docLinkHtml = 'Like what you see? Visit the ' +\n",
              "            '<a target=\"_blank\" href=https://colab.research.google.com/notebooks/data_table.ipynb>data table notebook</a>'\n",
              "            + ' to learn more about interactive tables.';\n",
              "          element.innerHTML = '';\n",
              "          dataTable['output_type'] = 'display_data';\n",
              "          await google.colab.output.renderOutput(dataTable, element);\n",
              "          const docLink = document.createElement('div');\n",
              "          docLink.innerHTML = docLinkHtml;\n",
              "          element.appendChild(docLink);\n",
              "        }\n",
              "      </script>\n",
              "    </div>\n",
              "  </div>\n",
              "  "
            ]
          },
          "metadata": {},
          "execution_count": 25
        }
      ],
      "source": [
        "dataset_english = pd.read_csv('dataset-english.csv')\n",
        "dataset_english.head()"
      ]
    },
    {
      "cell_type": "code",
      "execution_count": null,
      "metadata": {
        "id": "S85qIE59vFxF",
        "colab": {
          "base_uri": "https://localhost:8080/"
        },
        "outputId": "17e8be14-56d4-4b41-9293-b9dd863f3413"
      },
      "outputs": [
        {
          "output_type": "stream",
          "name": "stdout",
          "text": [
            "Unnamed: 0    26817\n",
            "title         26817\n",
            "author        26796\n",
            "content       26817\n",
            "tags          26817\n",
            "dtype: int64\n",
            "Unnamed: 0    26817\n",
            "title         26817\n",
            "author        26796\n",
            "content       26817\n",
            "tags          26817\n",
            "dtype: int64\n"
          ]
        }
      ],
      "source": [
        "#drop NA content, reindex if any was dropped\n",
        "print(dataset_english.count())\n",
        "dataset_english.dropna(subset=['content'],inplace=True)\n",
        "dataset_english.reset_index(drop=True,inplace=True)\n",
        "print(dataset_english.count())"
      ]
    },
    {
      "cell_type": "code",
      "execution_count": null,
      "metadata": {
        "id": "rPu1dd_ZvFxG",
        "colab": {
          "base_uri": "https://localhost:8080/",
          "height": 204
        },
        "outputId": "dabe4eb7-45d4-4b58-9472-76e6910c6966"
      },
      "outputs": [
        {
          "output_type": "execute_result",
          "data": {
            "text/plain": [
              "                                             Content\n",
              "0  Do not go gentle into that good night,\\nOld ag...\n",
              "1  How do I love thee? Let me count the ways.\\nI ...\n",
              "2  Shall I compare thee to a summer’s day?\\nThou ...\n",
              "3  If you can keep your head when all about you\\n...\n",
              "4  Nature’s first green is gold,\\nHer hardest hue..."
            ],
            "text/html": [
              "\n",
              "  <div id=\"df-87cde017-1294-4d45-b993-22587debb77e\">\n",
              "    <div class=\"colab-df-container\">\n",
              "      <div>\n",
              "<style scoped>\n",
              "    .dataframe tbody tr th:only-of-type {\n",
              "        vertical-align: middle;\n",
              "    }\n",
              "\n",
              "    .dataframe tbody tr th {\n",
              "        vertical-align: top;\n",
              "    }\n",
              "\n",
              "    .dataframe thead th {\n",
              "        text-align: right;\n",
              "    }\n",
              "</style>\n",
              "<table border=\"1\" class=\"dataframe\">\n",
              "  <thead>\n",
              "    <tr style=\"text-align: right;\">\n",
              "      <th></th>\n",
              "      <th>Content</th>\n",
              "    </tr>\n",
              "  </thead>\n",
              "  <tbody>\n",
              "    <tr>\n",
              "      <th>0</th>\n",
              "      <td>Do not go gentle into that good night,\\nOld ag...</td>\n",
              "    </tr>\n",
              "    <tr>\n",
              "      <th>1</th>\n",
              "      <td>How do I love thee? Let me count the ways.\\nI ...</td>\n",
              "    </tr>\n",
              "    <tr>\n",
              "      <th>2</th>\n",
              "      <td>Shall I compare thee to a summer’s day?\\nThou ...</td>\n",
              "    </tr>\n",
              "    <tr>\n",
              "      <th>3</th>\n",
              "      <td>If you can keep your head when all about you\\n...</td>\n",
              "    </tr>\n",
              "    <tr>\n",
              "      <th>4</th>\n",
              "      <td>Nature’s first green is gold,\\nHer hardest hue...</td>\n",
              "    </tr>\n",
              "  </tbody>\n",
              "</table>\n",
              "</div>\n",
              "      <button class=\"colab-df-convert\" onclick=\"convertToInteractive('df-87cde017-1294-4d45-b993-22587debb77e')\"\n",
              "              title=\"Convert this dataframe to an interactive table.\"\n",
              "              style=\"display:none;\">\n",
              "        \n",
              "  <svg xmlns=\"http://www.w3.org/2000/svg\" height=\"24px\"viewBox=\"0 0 24 24\"\n",
              "       width=\"24px\">\n",
              "    <path d=\"M0 0h24v24H0V0z\" fill=\"none\"/>\n",
              "    <path d=\"M18.56 5.44l.94 2.06.94-2.06 2.06-.94-2.06-.94-.94-2.06-.94 2.06-2.06.94zm-11 1L8.5 8.5l.94-2.06 2.06-.94-2.06-.94L8.5 2.5l-.94 2.06-2.06.94zm10 10l.94 2.06.94-2.06 2.06-.94-2.06-.94-.94-2.06-.94 2.06-2.06.94z\"/><path d=\"M17.41 7.96l-1.37-1.37c-.4-.4-.92-.59-1.43-.59-.52 0-1.04.2-1.43.59L10.3 9.45l-7.72 7.72c-.78.78-.78 2.05 0 2.83L4 21.41c.39.39.9.59 1.41.59.51 0 1.02-.2 1.41-.59l7.78-7.78 2.81-2.81c.8-.78.8-2.07 0-2.86zM5.41 20L4 18.59l7.72-7.72 1.47 1.35L5.41 20z\"/>\n",
              "  </svg>\n",
              "      </button>\n",
              "      \n",
              "  <style>\n",
              "    .colab-df-container {\n",
              "      display:flex;\n",
              "      flex-wrap:wrap;\n",
              "      gap: 12px;\n",
              "    }\n",
              "\n",
              "    .colab-df-convert {\n",
              "      background-color: #E8F0FE;\n",
              "      border: none;\n",
              "      border-radius: 50%;\n",
              "      cursor: pointer;\n",
              "      display: none;\n",
              "      fill: #1967D2;\n",
              "      height: 32px;\n",
              "      padding: 0 0 0 0;\n",
              "      width: 32px;\n",
              "    }\n",
              "\n",
              "    .colab-df-convert:hover {\n",
              "      background-color: #E2EBFA;\n",
              "      box-shadow: 0px 1px 2px rgba(60, 64, 67, 0.3), 0px 1px 3px 1px rgba(60, 64, 67, 0.15);\n",
              "      fill: #174EA6;\n",
              "    }\n",
              "\n",
              "    [theme=dark] .colab-df-convert {\n",
              "      background-color: #3B4455;\n",
              "      fill: #D2E3FC;\n",
              "    }\n",
              "\n",
              "    [theme=dark] .colab-df-convert:hover {\n",
              "      background-color: #434B5C;\n",
              "      box-shadow: 0px 1px 3px 1px rgba(0, 0, 0, 0.15);\n",
              "      filter: drop-shadow(0px 1px 2px rgba(0, 0, 0, 0.3));\n",
              "      fill: #FFFFFF;\n",
              "    }\n",
              "  </style>\n",
              "\n",
              "      <script>\n",
              "        const buttonEl =\n",
              "          document.querySelector('#df-87cde017-1294-4d45-b993-22587debb77e button.colab-df-convert');\n",
              "        buttonEl.style.display =\n",
              "          google.colab.kernel.accessAllowed ? 'block' : 'none';\n",
              "\n",
              "        async function convertToInteractive(key) {\n",
              "          const element = document.querySelector('#df-87cde017-1294-4d45-b993-22587debb77e');\n",
              "          const dataTable =\n",
              "            await google.colab.kernel.invokeFunction('convertToInteractive',\n",
              "                                                     [key], {});\n",
              "          if (!dataTable) return;\n",
              "\n",
              "          const docLinkHtml = 'Like what you see? Visit the ' +\n",
              "            '<a target=\"_blank\" href=https://colab.research.google.com/notebooks/data_table.ipynb>data table notebook</a>'\n",
              "            + ' to learn more about interactive tables.';\n",
              "          element.innerHTML = '';\n",
              "          dataTable['output_type'] = 'display_data';\n",
              "          await google.colab.output.renderOutput(dataTable, element);\n",
              "          const docLink = document.createElement('div');\n",
              "          docLink.innerHTML = docLinkHtml;\n",
              "          element.appendChild(docLink);\n",
              "        }\n",
              "      </script>\n",
              "    </div>\n",
              "  </div>\n",
              "  "
            ]
          },
          "metadata": {},
          "execution_count": 27
        }
      ],
      "source": [
        "poems_english = dataset_english[['content']]\n",
        "poems_english = poems_english.rename(columns={'content': 'Content'}) \n",
        "poems_english.head()"
      ]
    },
    {
      "cell_type": "code",
      "execution_count": null,
      "metadata": {
        "id": "G1dDjo2pvFxG",
        "colab": {
          "base_uri": "https://localhost:8080/",
          "height": 204
        },
        "outputId": "49c720a0-8fca-4d88-c9aa-5451b5279eed"
      },
      "outputs": [
        {
          "output_type": "execute_result",
          "data": {
            "text/plain": [
              "                                             Content  Language\n",
              "0  Do not go gentle into that good night,\\nOld ag...         2\n",
              "1  How do I love thee? Let me count the ways.\\nI ...         2\n",
              "2  Shall I compare thee to a summer’s day?\\nThou ...         2\n",
              "3  If you can keep your head when all about you\\n...         2\n",
              "4  Nature’s first green is gold,\\nHer hardest hue...         2"
            ],
            "text/html": [
              "\n",
              "  <div id=\"df-e05ce0e3-6d4f-4c56-ad24-cf8eacc6acd3\">\n",
              "    <div class=\"colab-df-container\">\n",
              "      <div>\n",
              "<style scoped>\n",
              "    .dataframe tbody tr th:only-of-type {\n",
              "        vertical-align: middle;\n",
              "    }\n",
              "\n",
              "    .dataframe tbody tr th {\n",
              "        vertical-align: top;\n",
              "    }\n",
              "\n",
              "    .dataframe thead th {\n",
              "        text-align: right;\n",
              "    }\n",
              "</style>\n",
              "<table border=\"1\" class=\"dataframe\">\n",
              "  <thead>\n",
              "    <tr style=\"text-align: right;\">\n",
              "      <th></th>\n",
              "      <th>Content</th>\n",
              "      <th>Language</th>\n",
              "    </tr>\n",
              "  </thead>\n",
              "  <tbody>\n",
              "    <tr>\n",
              "      <th>0</th>\n",
              "      <td>Do not go gentle into that good night,\\nOld ag...</td>\n",
              "      <td>2</td>\n",
              "    </tr>\n",
              "    <tr>\n",
              "      <th>1</th>\n",
              "      <td>How do I love thee? Let me count the ways.\\nI ...</td>\n",
              "      <td>2</td>\n",
              "    </tr>\n",
              "    <tr>\n",
              "      <th>2</th>\n",
              "      <td>Shall I compare thee to a summer’s day?\\nThou ...</td>\n",
              "      <td>2</td>\n",
              "    </tr>\n",
              "    <tr>\n",
              "      <th>3</th>\n",
              "      <td>If you can keep your head when all about you\\n...</td>\n",
              "      <td>2</td>\n",
              "    </tr>\n",
              "    <tr>\n",
              "      <th>4</th>\n",
              "      <td>Nature’s first green is gold,\\nHer hardest hue...</td>\n",
              "      <td>2</td>\n",
              "    </tr>\n",
              "  </tbody>\n",
              "</table>\n",
              "</div>\n",
              "      <button class=\"colab-df-convert\" onclick=\"convertToInteractive('df-e05ce0e3-6d4f-4c56-ad24-cf8eacc6acd3')\"\n",
              "              title=\"Convert this dataframe to an interactive table.\"\n",
              "              style=\"display:none;\">\n",
              "        \n",
              "  <svg xmlns=\"http://www.w3.org/2000/svg\" height=\"24px\"viewBox=\"0 0 24 24\"\n",
              "       width=\"24px\">\n",
              "    <path d=\"M0 0h24v24H0V0z\" fill=\"none\"/>\n",
              "    <path d=\"M18.56 5.44l.94 2.06.94-2.06 2.06-.94-2.06-.94-.94-2.06-.94 2.06-2.06.94zm-11 1L8.5 8.5l.94-2.06 2.06-.94-2.06-.94L8.5 2.5l-.94 2.06-2.06.94zm10 10l.94 2.06.94-2.06 2.06-.94-2.06-.94-.94-2.06-.94 2.06-2.06.94z\"/><path d=\"M17.41 7.96l-1.37-1.37c-.4-.4-.92-.59-1.43-.59-.52 0-1.04.2-1.43.59L10.3 9.45l-7.72 7.72c-.78.78-.78 2.05 0 2.83L4 21.41c.39.39.9.59 1.41.59.51 0 1.02-.2 1.41-.59l7.78-7.78 2.81-2.81c.8-.78.8-2.07 0-2.86zM5.41 20L4 18.59l7.72-7.72 1.47 1.35L5.41 20z\"/>\n",
              "  </svg>\n",
              "      </button>\n",
              "      \n",
              "  <style>\n",
              "    .colab-df-container {\n",
              "      display:flex;\n",
              "      flex-wrap:wrap;\n",
              "      gap: 12px;\n",
              "    }\n",
              "\n",
              "    .colab-df-convert {\n",
              "      background-color: #E8F0FE;\n",
              "      border: none;\n",
              "      border-radius: 50%;\n",
              "      cursor: pointer;\n",
              "      display: none;\n",
              "      fill: #1967D2;\n",
              "      height: 32px;\n",
              "      padding: 0 0 0 0;\n",
              "      width: 32px;\n",
              "    }\n",
              "\n",
              "    .colab-df-convert:hover {\n",
              "      background-color: #E2EBFA;\n",
              "      box-shadow: 0px 1px 2px rgba(60, 64, 67, 0.3), 0px 1px 3px 1px rgba(60, 64, 67, 0.15);\n",
              "      fill: #174EA6;\n",
              "    }\n",
              "\n",
              "    [theme=dark] .colab-df-convert {\n",
              "      background-color: #3B4455;\n",
              "      fill: #D2E3FC;\n",
              "    }\n",
              "\n",
              "    [theme=dark] .colab-df-convert:hover {\n",
              "      background-color: #434B5C;\n",
              "      box-shadow: 0px 1px 3px 1px rgba(0, 0, 0, 0.15);\n",
              "      filter: drop-shadow(0px 1px 2px rgba(0, 0, 0, 0.3));\n",
              "      fill: #FFFFFF;\n",
              "    }\n",
              "  </style>\n",
              "\n",
              "      <script>\n",
              "        const buttonEl =\n",
              "          document.querySelector('#df-e05ce0e3-6d4f-4c56-ad24-cf8eacc6acd3 button.colab-df-convert');\n",
              "        buttonEl.style.display =\n",
              "          google.colab.kernel.accessAllowed ? 'block' : 'none';\n",
              "\n",
              "        async function convertToInteractive(key) {\n",
              "          const element = document.querySelector('#df-e05ce0e3-6d4f-4c56-ad24-cf8eacc6acd3');\n",
              "          const dataTable =\n",
              "            await google.colab.kernel.invokeFunction('convertToInteractive',\n",
              "                                                     [key], {});\n",
              "          if (!dataTable) return;\n",
              "\n",
              "          const docLinkHtml = 'Like what you see? Visit the ' +\n",
              "            '<a target=\"_blank\" href=https://colab.research.google.com/notebooks/data_table.ipynb>data table notebook</a>'\n",
              "            + ' to learn more about interactive tables.';\n",
              "          element.innerHTML = '';\n",
              "          dataTable['output_type'] = 'display_data';\n",
              "          await google.colab.output.renderOutput(dataTable, element);\n",
              "          const docLink = document.createElement('div');\n",
              "          docLink.innerHTML = docLinkHtml;\n",
              "          element.appendChild(docLink);\n",
              "        }\n",
              "      </script>\n",
              "    </div>\n",
              "  </div>\n",
              "  "
            ]
          },
          "metadata": {},
          "execution_count": 28
        }
      ],
      "source": [
        "poems_english.insert(1, \"Language\", lang_class['english'])\n",
        "poems_english.head()"
      ]
    },
    {
      "cell_type": "code",
      "execution_count": null,
      "metadata": {
        "id": "-5YBKCHIvFxJ"
      },
      "outputs": [],
      "source": [
        "content_english = poems_english['Content'].array\n",
        "# print(len(content_english))\n",
        "# content_english"
      ]
    },
    {
      "cell_type": "code",
      "execution_count": null,
      "metadata": {
        "id": "VVtGYcYmvFxJ",
        "colab": {
          "base_uri": "https://localhost:8080/"
        },
        "outputId": "7f8c1f74-1521-4930-9f10-a81d08c25972"
      },
      "outputs": [
        {
          "output_type": "stream",
          "name": "stdout",
          "text": [
            "901433\n"
          ]
        }
      ],
      "source": [
        "# things to note:\n",
        "lines_english = seperate_lines(content_english)\n",
        "# lines_english\n",
        "print(len(lines_english))"
      ]
    },
    {
      "cell_type": "code",
      "execution_count": null,
      "metadata": {
        "id": "uqbFAeuCvFxJ",
        "colab": {
          "base_uri": "https://localhost:8080/"
        },
        "outputId": "6f1ac6cc-9954-4159-d770-99803b642f3a"
      },
      "outputs": [
        {
          "output_type": "stream",
          "name": "stdout",
          "text": [
            "901433\n"
          ]
        }
      ],
      "source": [
        "tokenized_english, cleaned_english = tokenize_lines(lines_english)\n",
        "# tokenized_english\n",
        "print(len(tokenized_english))"
      ]
    },
    {
      "cell_type": "code",
      "execution_count": null,
      "metadata": {
        "id": "x1w_2Cg9vFxJ",
        "colab": {
          "base_uri": "https://localhost:8080/"
        },
        "outputId": "655eb5ee-81f4-4d6a-e609-261fc44b0c7a"
      },
      "outputs": [
        {
          "output_type": "stream",
          "name": "stdout",
          "text": [
            "(226509, 100)\n"
          ]
        }
      ],
      "source": [
        "word2vec_english = Word2Vec(sentences=tokenized_english, vector_size=EMBEDDINGS_SIZE, window=5, min_count=1, workers=4, sg=1)\n",
        "word2vec_english.save(\"word2vec_english.model\")\n",
        "print(word2vec_english.wv.vectors.shape)"
      ]
    },
    {
      "cell_type": "markdown",
      "metadata": {
        "id": "9E6Xa8EDwm92"
      },
      "source": [
        "# Naive Bayes"
      ]
    },
    {
      "cell_type": "markdown",
      "metadata": {
        "id": "nAk3NUdvturr"
      },
      "source": [
        "Scale our data so that we have equal amounts of all data"
      ]
    },
    {
      "cell_type": "code",
      "execution_count": null,
      "metadata": {
        "id": "kdgapRdHww1y",
        "colab": {
          "base_uri": "https://localhost:8080/"
        },
        "outputId": "615d6086-3b6e-467b-bc72-f329afd3a5a3"
      },
      "outputs": [
        {
          "output_type": "stream",
          "name": "stdout",
          "text": [
            "226500\n",
            "226500\n",
            "226500\n",
            "226500\n"
          ]
        }
      ],
      "source": [
        "train_NB_portuguese = cleaned_portuguese[0:round(SCALE_LINES/2)]\n",
        "train_NB_spanish = cleaned_spanish[0:round(SCALE_LINES/2)]\n",
        "train_NB_english = cleaned_english[0:round(SCALE_LINES/2)]\n",
        "train_NB_corpus = train_NB_portuguese + train_NB_spanish + train_NB_english\n",
        "print(len(train_NB_corpus))\n",
        "\n",
        "train_NB_gold = [lang_class['portuguese'] for i in range(round(SCALE_LINES/2))]\n",
        "train_NB_gold += [lang_class['spanish'] for i in range(round(SCALE_LINES/2))]\n",
        "train_NB_gold += [lang_class['english'] for i in range(round(SCALE_LINES/2))]\n",
        "print(len(train_NB_gold))\n",
        "\n",
        "test_NB_portuguese = cleaned_portuguese[-(round(SCALE_LINES/2)):]\n",
        "test_NB_spanish = cleaned_spanish[-(round(SCALE_LINES/2)):]\n",
        "test_NB_english = cleaned_english[-(round(SCALE_LINES/2)):]\n",
        "test_NB_corpus = test_NB_portuguese + test_NB_spanish + test_NB_english\n",
        "print(len(test_NB_corpus))\n",
        "test_NB_gold = train_NB_gold\n",
        "print(len(test_NB_gold))"
      ]
    },
    {
      "cell_type": "markdown",
      "metadata": {
        "id": "qJrdY9tBt167"
      },
      "source": [
        "Vectorize our NB data"
      ]
    },
    {
      "cell_type": "code",
      "execution_count": null,
      "metadata": {
        "id": "JaQj1raF3XV1",
        "colab": {
          "base_uri": "https://localhost:8080/"
        },
        "outputId": "0f135809-dea9-4160-e2a1-c80f7cc52a32"
      },
      "outputs": [
        {
          "output_type": "stream",
          "name": "stdout",
          "text": [
            "(226500, 103363)\n"
          ]
        }
      ],
      "source": [
        "NB_vectorizer = TfidfVectorizer()\n",
        "train_NB_X = NB_vectorizer.fit_transform(train_NB_corpus)\n",
        "print(train_NB_X.shape)"
      ]
    },
    {
      "cell_type": "code",
      "execution_count": null,
      "metadata": {
        "id": "kvFV3lUp_1i_"
      },
      "outputs": [],
      "source": [
        "# print(NB_vectorizer.get_feature_names_out())\n",
        "# print(NB_vectorizer.get_feature_names_out()[6000:6900])\n",
        "# i can see the portuguese c and also different spanish accents in the words\n",
        "# why are there random unicode characters and chinese characters?\n",
        "# unsure if need to chaneg encoding to ISO-8859-1 or if utf 8 is fine\n",
        "# both look fine in terms of output here"
      ]
    },
    {
      "cell_type": "markdown",
      "metadata": {
        "id": "sH9Q7l3bt6et"
      },
      "source": [
        "Fit NB Model"
      ]
    },
    {
      "cell_type": "code",
      "execution_count": null,
      "metadata": {
        "id": "0hCh8JSN9cEv",
        "colab": {
          "base_uri": "https://localhost:8080/",
          "height": 74
        },
        "outputId": "4a3e119e-f8f6-4054-cf5d-bd00881a956b"
      },
      "outputs": [
        {
          "output_type": "execute_result",
          "data": {
            "text/plain": [
              "MultinomialNB()"
            ],
            "text/html": [
              "<style>#sk-container-id-1 {color: black;background-color: white;}#sk-container-id-1 pre{padding: 0;}#sk-container-id-1 div.sk-toggleable {background-color: white;}#sk-container-id-1 label.sk-toggleable__label {cursor: pointer;display: block;width: 100%;margin-bottom: 0;padding: 0.3em;box-sizing: border-box;text-align: center;}#sk-container-id-1 label.sk-toggleable__label-arrow:before {content: \"▸\";float: left;margin-right: 0.25em;color: #696969;}#sk-container-id-1 label.sk-toggleable__label-arrow:hover:before {color: black;}#sk-container-id-1 div.sk-estimator:hover label.sk-toggleable__label-arrow:before {color: black;}#sk-container-id-1 div.sk-toggleable__content {max-height: 0;max-width: 0;overflow: hidden;text-align: left;background-color: #f0f8ff;}#sk-container-id-1 div.sk-toggleable__content pre {margin: 0.2em;color: black;border-radius: 0.25em;background-color: #f0f8ff;}#sk-container-id-1 input.sk-toggleable__control:checked~div.sk-toggleable__content {max-height: 200px;max-width: 100%;overflow: auto;}#sk-container-id-1 input.sk-toggleable__control:checked~label.sk-toggleable__label-arrow:before {content: \"▾\";}#sk-container-id-1 div.sk-estimator input.sk-toggleable__control:checked~label.sk-toggleable__label {background-color: #d4ebff;}#sk-container-id-1 div.sk-label input.sk-toggleable__control:checked~label.sk-toggleable__label {background-color: #d4ebff;}#sk-container-id-1 input.sk-hidden--visually {border: 0;clip: rect(1px 1px 1px 1px);clip: rect(1px, 1px, 1px, 1px);height: 1px;margin: -1px;overflow: hidden;padding: 0;position: absolute;width: 1px;}#sk-container-id-1 div.sk-estimator {font-family: monospace;background-color: #f0f8ff;border: 1px dotted black;border-radius: 0.25em;box-sizing: border-box;margin-bottom: 0.5em;}#sk-container-id-1 div.sk-estimator:hover {background-color: #d4ebff;}#sk-container-id-1 div.sk-parallel-item::after {content: \"\";width: 100%;border-bottom: 1px solid gray;flex-grow: 1;}#sk-container-id-1 div.sk-label:hover label.sk-toggleable__label {background-color: #d4ebff;}#sk-container-id-1 div.sk-serial::before {content: \"\";position: absolute;border-left: 1px solid gray;box-sizing: border-box;top: 0;bottom: 0;left: 50%;z-index: 0;}#sk-container-id-1 div.sk-serial {display: flex;flex-direction: column;align-items: center;background-color: white;padding-right: 0.2em;padding-left: 0.2em;position: relative;}#sk-container-id-1 div.sk-item {position: relative;z-index: 1;}#sk-container-id-1 div.sk-parallel {display: flex;align-items: stretch;justify-content: center;background-color: white;position: relative;}#sk-container-id-1 div.sk-item::before, #sk-container-id-1 div.sk-parallel-item::before {content: \"\";position: absolute;border-left: 1px solid gray;box-sizing: border-box;top: 0;bottom: 0;left: 50%;z-index: -1;}#sk-container-id-1 div.sk-parallel-item {display: flex;flex-direction: column;z-index: 1;position: relative;background-color: white;}#sk-container-id-1 div.sk-parallel-item:first-child::after {align-self: flex-end;width: 50%;}#sk-container-id-1 div.sk-parallel-item:last-child::after {align-self: flex-start;width: 50%;}#sk-container-id-1 div.sk-parallel-item:only-child::after {width: 0;}#sk-container-id-1 div.sk-dashed-wrapped {border: 1px dashed gray;margin: 0 0.4em 0.5em 0.4em;box-sizing: border-box;padding-bottom: 0.4em;background-color: white;}#sk-container-id-1 div.sk-label label {font-family: monospace;font-weight: bold;display: inline-block;line-height: 1.2em;}#sk-container-id-1 div.sk-label-container {text-align: center;}#sk-container-id-1 div.sk-container {/* jupyter's `normalize.less` sets `[hidden] { display: none; }` but bootstrap.min.css set `[hidden] { display: none !important; }` so we also need the `!important` here to be able to override the default hidden behavior on the sphinx rendered scikit-learn.org. See: https://github.com/scikit-learn/scikit-learn/issues/21755 */display: inline-block !important;position: relative;}#sk-container-id-1 div.sk-text-repr-fallback {display: none;}</style><div id=\"sk-container-id-1\" class=\"sk-top-container\"><div class=\"sk-text-repr-fallback\"><pre>MultinomialNB()</pre><b>In a Jupyter environment, please rerun this cell to show the HTML representation or trust the notebook. <br />On GitHub, the HTML representation is unable to render, please try loading this page with nbviewer.org.</b></div><div class=\"sk-container\" hidden><div class=\"sk-item\"><div class=\"sk-estimator sk-toggleable\"><input class=\"sk-toggleable__control sk-hidden--visually\" id=\"sk-estimator-id-1\" type=\"checkbox\" checked><label for=\"sk-estimator-id-1\" class=\"sk-toggleable__label sk-toggleable__label-arrow\">MultinomialNB</label><div class=\"sk-toggleable__content\"><pre>MultinomialNB()</pre></div></div></div></div></div>"
            ]
          },
          "metadata": {},
          "execution_count": 36
        }
      ],
      "source": [
        "NB_model = MultinomialNB()\n",
        "NB_model.fit(train_NB_X, train_NB_gold)"
      ]
    },
    {
      "cell_type": "markdown",
      "metadata": {
        "id": "RJmcR0KRt896"
      },
      "source": [
        "Predict!"
      ]
    },
    {
      "cell_type": "code",
      "execution_count": null,
      "metadata": {
        "id": "uK2NGKtYBAle"
      },
      "outputs": [],
      "source": [
        "train_NB_pred = NB_model.predict(train_NB_X)"
      ]
    },
    {
      "cell_type": "code",
      "execution_count": null,
      "metadata": {
        "id": "1KRpt646BQt4",
        "colab": {
          "base_uri": "https://localhost:8080/",
          "height": 489
        },
        "outputId": "3af36484-58d9-4188-e4e4-2b49b63f2afc"
      },
      "outputs": [
        {
          "output_type": "display_data",
          "data": {
            "text/plain": [
              "<Figure size 640x480 with 2 Axes>"
            ],
            "image/png": "[encoded data removed]"
          },
          "metadata": {}
        },
        {
          "output_type": "stream",
          "name": "stdout",
          "text": [
            "The accuracy is 0.9698852097130243\n"
          ]
        }
      ],
      "source": [
        "mat = confusion_matrix(train_NB_gold, train_NB_pred)\n",
        "sns.heatmap(mat.T, square = True, annot=True, fmt = \"d\", xticklabels=[ lang_class[0], lang_class[1], lang_class[2]],yticklabels=[lang_class[0], lang_class[1], lang_class[2]])\n",
        "plt.xlabel(\"true labels\")\n",
        "plt.ylabel(\"predicted label\")\n",
        "plt.title(\"Training Poems Performance\")\n",
        "plt.show()\n",
        "print(\"The accuracy is {}\".format(accuracy_score(train_NB_gold, train_NB_pred)))"
      ]
    },
    {
      "cell_type": "code",
      "execution_count": null,
      "metadata": {
        "id": "3PfKaSFyUz4J"
      },
      "outputs": [],
      "source": [
        "def test_model_and_graph(model, classes, sentences, gold, graph_title):\n",
        "  \"\"\"\n",
        "  model: the NB model to test on \n",
        "  lang_class: a dictonary of the string representations of the classes to their numerical class representation (and vice versa)\n",
        "  sentences: a list of strings to classify \n",
        "  gold: a list of numercal class value representatiosn that correspond to the sentences\n",
        "  graph_title : string of what to name the graph\n",
        "  \"\"\"\n",
        "  X = NB_vectorizer.transform(sentences)\n",
        "  pred = model.predict(X)\n",
        "  print(\"The accuracy is {}\".format(accuracy_score(gold, pred)))\n",
        "  mat = confusion_matrix(gold, pred)\n",
        "  sns.heatmap(mat.T, square = True, annot=True, fmt = \"d\", xticklabels=[classes[0], classes[1], classes[2]],yticklabels=[classes[0], classes[1], classes[2]])\n",
        "  plt.title(graph_title)\n",
        "  plt.xlabel(\"true labels\")\n",
        "  plt.ylabel(\"predicted label\")\n",
        "  plt.show()"
      ]
    },
    {
      "cell_type": "code",
      "execution_count": null,
      "metadata": {
        "id": "z4O3BUNvCmIt",
        "colab": {
          "base_uri": "https://localhost:8080/",
          "height": 489
        },
        "outputId": "8fe99a9d-010b-476b-a654-65c078d5e035"
      },
      "outputs": [
        {
          "output_type": "stream",
          "name": "stdout",
          "text": [
            "The accuracy is 0.9451169977924945\n"
          ]
        },
        {
          "output_type": "display_data",
          "data": {
            "text/plain": [
              "<Figure size 640x480 with 2 Axes>"
            ],
            "image/png": "[encoded data removed]"
          },
          "metadata": {}
        }
      ],
      "source": [
        "test_model_and_graph(NB_model, lang_class, test_NB_corpus, test_NB_gold, \"Test Poems Performance\")"
      ]
    },
    {
      "cell_type": "markdown",
      "metadata": {
        "id": "0S-i-Aw0UfxP"
      },
      "source": [
        "## manual testing"
      ]
    },
    {
      "cell_type": "code",
      "execution_count": null,
      "metadata": {
        "id": "gRJi8sFk4TP6",
        "colab": {
          "base_uri": "https://localhost:8080/"
        },
        "outputId": "352623b9-6a45-48c4-dbfe-21f9a7624fb8"
      },
      "outputs": [
        {
          "output_type": "stream",
          "name": "stdout",
          "text": [
            "Nicole is english\n",
            "Sierra is spanish\n",
            "Buckley is portuguese\n",
            "Rodriguez is english\n",
            "hello is english\n",
            "hola is portuguese\n",
            "olá is portuguese\n",
            "good morning is english\n",
            "buenos días is spanish\n",
            "bom dia is portuguese\n"
          ]
        }
      ],
      "source": [
        "def NBmodel_smol_tests(model, classes, sentences):\n",
        "  X = NB_vectorizer.transform(sentences)\n",
        "  pred = model.predict(X)\n",
        "  [print(sentences[i], \"is\", classes[pred[i]]) for i in range(len(sentences))]\n",
        "\n",
        "NBmodel_smol_tests(NB_model, lang_class, [\"Nicole\", \"Sierra\", \"Buckley\", \"Rodriguez\"])\n",
        "NBmodel_smol_tests(NB_model, lang_class, [\"hello\", \"hola\", \"olá\"])\n",
        "NBmodel_smol_tests(NB_model, lang_class, [\"good morning\", \"buenos días\", \"bom dia\"])"
      ]
    },
    {
      "cell_type": "markdown",
      "metadata": {
        "id": "KleFO_OF72P_"
      },
      "source": [
        "## Stop words testing"
      ]
    },
    {
      "cell_type": "markdown",
      "metadata": {
        "id": "yB2YEJlG8ZM2"
      },
      "source": [
        "Out of curiosity, see how naive bayes would allocate words that are very common to the respective languages "
      ]
    },
    {
      "cell_type": "code",
      "execution_count": null,
      "metadata": {
        "id": "96jK0l8UUheb",
        "colab": {
          "base_uri": "https://localhost:8080/"
        },
        "outputId": "e47742a7-6507-4d4e-ae6e-518a2947ea78"
      },
      "outputs": [
        {
          "output_type": "stream",
          "name": "stdout",
          "text": [
            "Downloading stop-words-in-28-languages.zip to /content\n",
            "\r  0% 0.00/34.4k [00:00<?, ?B/s]\n",
            "\r100% 34.4k/34.4k [00:00<00:00, 1.76MB/s]\n",
            "Archive:  stop-words-in-28-languages.zip\n",
            "  inflating: arabic.txt              \n",
            "  inflating: bulgarian.txt           \n",
            "  inflating: catalan.txt             \n",
            "  inflating: czech.txt               \n",
            "  inflating: danish.txt              \n",
            "  inflating: dutch.txt               \n",
            "  inflating: english.txt             \n",
            "  inflating: finnish.txt             \n",
            "  inflating: french.txt              \n",
            "  inflating: german.txt              \n",
            "  inflating: gujarati.txt            \n",
            "  inflating: hebrew.txt              \n",
            "  inflating: hindi.txt               \n",
            "  inflating: hungarian.txt           \n",
            "  inflating: indonesian.txt          \n",
            "  inflating: italian.txt             \n",
            "  inflating: malaysian.txt           \n",
            "  inflating: norwegian.txt           \n",
            "  inflating: polish.txt              \n",
            "  inflating: portuguese.txt          \n",
            "  inflating: romanian.txt            \n",
            "  inflating: russian.txt             \n",
            "  inflating: slovak.txt              \n",
            "  inflating: spanish.txt             \n",
            "  inflating: swedish.txt             \n",
            "  inflating: turkish.txt             \n",
            "  inflating: ukrainian.txt           \n",
            "  inflating: vietnamese.txt          \n"
          ]
        }
      ],
      "source": [
        "! kaggle datasets download -d heeraldedhia/stop-words-in-28-languages\n",
        "! unzip stop-words-in-28-languages.zip "
      ]
    },
    {
      "cell_type": "code",
      "execution_count": null,
      "metadata": {
        "id": "IujxyL3lVZo0",
        "colab": {
          "base_uri": "https://localhost:8080/",
          "height": 489
        },
        "outputId": "90b5fc6f-ea03-4520-fe8c-29ed37268e71"
      },
      "outputs": [
        {
          "output_type": "stream",
          "name": "stdout",
          "text": [
            "The accuracy is 0.788961038961039\n"
          ]
        },
        {
          "output_type": "display_data",
          "data": {
            "text/plain": [
              "<Figure size 640x480 with 2 Axes>"
            ],
            "image/png": "[encoded data removed]"
          },
          "metadata": {}
        }
      ],
      "source": [
        "f = open(\"spanish.txt\")\n",
        "stop_words_spanish = f.readlines()\n",
        "f.close()\n",
        "stop_words_spanish = [x.strip() for x in stop_words_spanish]\n",
        "\n",
        "test_model_and_graph(NB_model, lang_class, stop_words_spanish, [lang_class['spanish'] for x in range(len(stop_words_spanish))], \n",
        "                  \"Predictions for Spanish Stop Words\")"
      ]
    },
    {
      "cell_type": "code",
      "execution_count": null,
      "metadata": {
        "id": "yPcrAk2nYGYp",
        "colab": {
          "base_uri": "https://localhost:8080/",
          "height": 489
        },
        "outputId": "892d3971-ee75-405a-9d14-1bcc8f52fa7f"
      },
      "outputs": [
        {
          "output_type": "stream",
          "name": "stdout",
          "text": [
            "The accuracy is 0.9211822660098522\n"
          ]
        },
        {
          "output_type": "display_data",
          "data": {
            "text/plain": [
              "<Figure size 640x480 with 2 Axes>"
            ],
            "image/png": "[encoded data removed]"
          },
          "metadata": {}
        }
      ],
      "source": [
        "f = open(\"portuguese.txt\")\n",
        "stop_words_portuguese = f.readlines()\n",
        "f.close()\n",
        "stop_words_portuguese = [x.strip() for x in stop_words_portuguese]\n",
        "\n",
        "test_model_and_graph(NB_model, lang_class, stop_words_portuguese, [lang_class['portuguese'] for x in range(len(stop_words_portuguese))], \n",
        "                  \"Predictions for Portuguese Stop Words\")"
      ]
    },
    {
      "cell_type": "code",
      "execution_count": null,
      "metadata": {
        "id": "jV4xM-sqZXNK",
        "colab": {
          "base_uri": "https://localhost:8080/",
          "height": 489
        },
        "outputId": "38e2ad77-b9ff-4aad-bb84-146b6144af6b"
      },
      "outputs": [
        {
          "output_type": "stream",
          "name": "stdout",
          "text": [
            "The accuracy is 0.7388289676425269\n"
          ]
        },
        {
          "output_type": "display_data",
          "data": {
            "text/plain": [
              "<Figure size 640x480 with 2 Axes>"
            ],
            "image/png": "[encoded data removed]"
          },
          "metadata": {}
        }
      ],
      "source": [
        "f = open(\"english.txt\")\n",
        "stop_words_english = f.readlines()\n",
        "f.close()\n",
        "stop_words_english = [x.strip() for x in stop_words_english]\n",
        "\n",
        "test_model_and_graph(NB_model, lang_class, stop_words_english, [lang_class['english'] for x in range(len(stop_words_english))], \n",
        "                  \"Predictions for English Stop Words\")"
      ]
    },
    {
      "cell_type": "code",
      "execution_count": null,
      "metadata": {
        "id": "OQZp9pet6vvX",
        "colab": {
          "base_uri": "https://localhost:8080/"
        },
        "outputId": "c61a7537-5cf2-41bd-8602-57c9913d9592"
      },
      "outputs": [
        {
          "output_type": "stream",
          "name": "stdout",
          "text": [
            "The actual overlap of Spanish and Portuguese words 28\n",
            "The actual overlap of Spanish and English words 19\n",
            "The actual overlap of English and Portuguese words 16\n",
            "The actual overlap of English, Spanish, and Portuguese words 9\n"
          ]
        }
      ],
      "source": [
        "sp_pt_overlap = set(stop_words_spanish).intersection(set(stop_words_portuguese))\n",
        "sp_en_overlap = set(stop_words_spanish).intersection(set(stop_words_english))\n",
        "en_pt_overlap = set(stop_words_english).intersection(set(stop_words_portuguese))\n",
        "en_sp_pt_overlap = sp_pt_overlap.intersection(en_pt_overlap)\n",
        "\n",
        "print(\"The actual overlap of Spanish and Portuguese words\", len(sp_pt_overlap))\n",
        "print(\"The actual overlap of Spanish and English words\", len(sp_en_overlap))\n",
        "print(\"The actual overlap of English and Portuguese words\", len(en_pt_overlap))\n",
        "print(\"The actual overlap of English, Spanish, and Portuguese words\", len(en_sp_pt_overlap))"
      ]
    },
    {
      "cell_type": "markdown",
      "metadata": {
        "id": "8u6WxMcwZkvi"
      },
      "source": [
        "Most likley the reason that the model determines most of the time in favor of Portuguese is because the model does not \"know\" the words that it's being show and when it hasnt seen a word it is assigned the lowest probability 0 which is where poruguese was assigned its discreted value. \n",
        "\n",
        "We can investigate this later by changing the language classes from lang_class to lang_class_other and running the same test and seeing if the lanaguage more accuratley (or rather more often) predicts (in the case of lang_class_other) English. \n",
        "\n",
        "I did this intentionally because I noticed that a lot of times if GoogleTranslate isnt certain what language you're talking in, it defaults to English. While neither of these behaviours is ideal, the former reinforces that English is the default language. "
      ]
    },
    {
      "cell_type": "code",
      "execution_count": null,
      "metadata": {
        "id": "WbyOTQJ77zhA",
        "colab": {
          "base_uri": "https://localhost:8080/"
        },
        "outputId": "591a5791-15f4-4bb6-92c7-7948f7161220"
      },
      "outputs": [
        {
          "output_type": "stream",
          "name": "stdout",
          "text": [
            "226500\n"
          ]
        }
      ],
      "source": [
        "train_NB_gold_other = [lang_class_other['portuguese'] for i in range(round(SCALE_LINES/2))]\n",
        "train_NB_gold_other += [lang_class_other['spanish'] for i in range(round(SCALE_LINES/2))]\n",
        "train_NB_gold_other += [lang_class_other['english'] for i in range(round(SCALE_LINES/2))]\n",
        "print(len(train_NB_gold_other))"
      ]
    },
    {
      "cell_type": "code",
      "execution_count": null,
      "metadata": {
        "id": "OsuETt3G74ZD",
        "colab": {
          "base_uri": "https://localhost:8080/",
          "height": 74
        },
        "outputId": "8f52e316-23cb-4fbf-e070-83a4b489970a"
      },
      "outputs": [
        {
          "output_type": "execute_result",
          "data": {
            "text/plain": [
              "MultinomialNB()"
            ],
            "text/html": [
              "<style>#sk-container-id-2 {color: black;background-color: white;}#sk-container-id-2 pre{padding: 0;}#sk-container-id-2 div.sk-toggleable {background-color: white;}#sk-container-id-2 label.sk-toggleable__label {cursor: pointer;display: block;width: 100%;margin-bottom: 0;padding: 0.3em;box-sizing: border-box;text-align: center;}#sk-container-id-2 label.sk-toggleable__label-arrow:before {content: \"▸\";float: left;margin-right: 0.25em;color: #696969;}#sk-container-id-2 label.sk-toggleable__label-arrow:hover:before {color: black;}#sk-container-id-2 div.sk-estimator:hover label.sk-toggleable__label-arrow:before {color: black;}#sk-container-id-2 div.sk-toggleable__content {max-height: 0;max-width: 0;overflow: hidden;text-align: left;background-color: #f0f8ff;}#sk-container-id-2 div.sk-toggleable__content pre {margin: 0.2em;color: black;border-radius: 0.25em;background-color: #f0f8ff;}#sk-container-id-2 input.sk-toggleable__control:checked~div.sk-toggleable__content {max-height: 200px;max-width: 100%;overflow: auto;}#sk-container-id-2 input.sk-toggleable__control:checked~label.sk-toggleable__label-arrow:before {content: \"▾\";}#sk-container-id-2 div.sk-estimator input.sk-toggleable__control:checked~label.sk-toggleable__label {background-color: #d4ebff;}#sk-container-id-2 div.sk-label input.sk-toggleable__control:checked~label.sk-toggleable__label {background-color: #d4ebff;}#sk-container-id-2 input.sk-hidden--visually {border: 0;clip: rect(1px 1px 1px 1px);clip: rect(1px, 1px, 1px, 1px);height: 1px;margin: -1px;overflow: hidden;padding: 0;position: absolute;width: 1px;}#sk-container-id-2 div.sk-estimator {font-family: monospace;background-color: #f0f8ff;border: 1px dotted black;border-radius: 0.25em;box-sizing: border-box;margin-bottom: 0.5em;}#sk-container-id-2 div.sk-estimator:hover {background-color: #d4ebff;}#sk-container-id-2 div.sk-parallel-item::after {content: \"\";width: 100%;border-bottom: 1px solid gray;flex-grow: 1;}#sk-container-id-2 div.sk-label:hover label.sk-toggleable__label {background-color: #d4ebff;}#sk-container-id-2 div.sk-serial::before {content: \"\";position: absolute;border-left: 1px solid gray;box-sizing: border-box;top: 0;bottom: 0;left: 50%;z-index: 0;}#sk-container-id-2 div.sk-serial {display: flex;flex-direction: column;align-items: center;background-color: white;padding-right: 0.2em;padding-left: 0.2em;position: relative;}#sk-container-id-2 div.sk-item {position: relative;z-index: 1;}#sk-container-id-2 div.sk-parallel {display: flex;align-items: stretch;justify-content: center;background-color: white;position: relative;}#sk-container-id-2 div.sk-item::before, #sk-container-id-2 div.sk-parallel-item::before {content: \"\";position: absolute;border-left: 1px solid gray;box-sizing: border-box;top: 0;bottom: 0;left: 50%;z-index: -1;}#sk-container-id-2 div.sk-parallel-item {display: flex;flex-direction: column;z-index: 1;position: relative;background-color: white;}#sk-container-id-2 div.sk-parallel-item:first-child::after {align-self: flex-end;width: 50%;}#sk-container-id-2 div.sk-parallel-item:last-child::after {align-self: flex-start;width: 50%;}#sk-container-id-2 div.sk-parallel-item:only-child::after {width: 0;}#sk-container-id-2 div.sk-dashed-wrapped {border: 1px dashed gray;margin: 0 0.4em 0.5em 0.4em;box-sizing: border-box;padding-bottom: 0.4em;background-color: white;}#sk-container-id-2 div.sk-label label {font-family: monospace;font-weight: bold;display: inline-block;line-height: 1.2em;}#sk-container-id-2 div.sk-label-container {text-align: center;}#sk-container-id-2 div.sk-container {/* jupyter's `normalize.less` sets `[hidden] { display: none; }` but bootstrap.min.css set `[hidden] { display: none !important; }` so we also need the `!important` here to be able to override the default hidden behavior on the sphinx rendered scikit-learn.org. See: https://github.com/scikit-learn/scikit-learn/issues/21755 */display: inline-block !important;position: relative;}#sk-container-id-2 div.sk-text-repr-fallback {display: none;}</style><div id=\"sk-container-id-2\" class=\"sk-top-container\"><div class=\"sk-text-repr-fallback\"><pre>MultinomialNB()</pre><b>In a Jupyter environment, please rerun this cell to show the HTML representation or trust the notebook. <br />On GitHub, the HTML representation is unable to render, please try loading this page with nbviewer.org.</b></div><div class=\"sk-container\" hidden><div class=\"sk-item\"><div class=\"sk-estimator sk-toggleable\"><input class=\"sk-toggleable__control sk-hidden--visually\" id=\"sk-estimator-id-2\" type=\"checkbox\" checked><label for=\"sk-estimator-id-2\" class=\"sk-toggleable__label sk-toggleable__label-arrow\">MultinomialNB</label><div class=\"sk-toggleable__content\"><pre>MultinomialNB()</pre></div></div></div></div></div>"
            ]
          },
          "metadata": {},
          "execution_count": 48
        }
      ],
      "source": [
        "NB_model_other = MultinomialNB()\n",
        "NB_model_other.fit(train_NB_X, train_NB_gold_other)"
      ]
    },
    {
      "cell_type": "code",
      "execution_count": null,
      "metadata": {
        "id": "lDMQ_2MF8gJm",
        "colab": {
          "base_uri": "https://localhost:8080/",
          "height": 489
        },
        "outputId": "e0c56b9d-14aa-40fd-f33b-541f4c98d33f"
      },
      "outputs": [
        {
          "output_type": "stream",
          "name": "stdout",
          "text": [
            "The accuracy is 0.9721324503311258\n"
          ]
        },
        {
          "output_type": "display_data",
          "data": {
            "text/plain": [
              "<Figure size 640x480 with 2 Axes>"
            ],
            "image/png": "[encoded data removed]"
          },
          "metadata": {}
        }
      ],
      "source": [
        "train_NB_pred_other = NB_model_other.predict(train_NB_X)\n",
        "print(\"The accuracy is {}\".format(accuracy_score(train_NB_gold_other, train_NB_pred_other)))\n",
        "mat = confusion_matrix(train_NB_gold_other, train_NB_pred_other)\n",
        "sns.heatmap(mat.T, square = True, annot=True, fmt = \"d\", xticklabels=[lang_class_other[0], lang_class_other[1], lang_class_other[2]],yticklabels=[lang_class_other[0], lang_class_other[1], lang_class_other[2]])\n",
        "plt.title(\"Training Prediction Results for Language Classes where English is 0\")\n",
        "plt.xlabel(\"true labels\")\n",
        "plt.ylabel(\"predicted label\")\n",
        "plt.show()"
      ]
    },
    {
      "cell_type": "markdown",
      "metadata": {
        "id": "m4qih7M8CWrl"
      },
      "source": [
        "Interestingly accuracy is now higher even thought all that was changed was the classes. From 96.9% to 97.2%. Its not that BIG of a difference, but a difference nonetheless"
      ]
    },
    {
      "cell_type": "code",
      "execution_count": null,
      "metadata": {
        "id": "SzBz8-sJFscr",
        "colab": {
          "base_uri": "https://localhost:8080/"
        },
        "outputId": "dddd3e85-7ac3-41b5-a1c5-0c29e094db1e"
      },
      "outputs": [
        {
          "output_type": "stream",
          "name": "stdout",
          "text": [
            "Nicole is english\n",
            "Buckley is english\n",
            "Sierra is spanish\n",
            "Rodriguez is english\n",
            "hello is english\n",
            "hola is english\n",
            "olá is portuguese\n",
            "good morning is english\n",
            "buenos días is spanish\n",
            "bom dia is portuguese\n"
          ]
        }
      ],
      "source": [
        "NBmodel_smol_tests(NB_model_other, lang_class_other, [\"Nicole\", \"Buckley\", \"Sierra\", \"Rodriguez\"])\n",
        "NBmodel_smol_tests(NB_model_other, lang_class_other, [\"hello\", \"hola\", \"olá\"])\n",
        "NBmodel_smol_tests(NB_model_other, lang_class_other,  [\"good morning\", \"buenos días\", \"bom dia\"])"
      ]
    },
    {
      "cell_type": "code",
      "execution_count": null,
      "metadata": {
        "id": "Xnwsix-fCchy",
        "colab": {
          "base_uri": "https://localhost:8080/",
          "height": 489
        },
        "outputId": "74f0b876-f146-4d7f-fb6e-7b26b51a21ec"
      },
      "outputs": [
        {
          "output_type": "stream",
          "name": "stdout",
          "text": [
            "The accuracy is 0.9391371340523883\n"
          ]
        },
        {
          "output_type": "display_data",
          "data": {
            "text/plain": [
              "<Figure size 640x480 with 2 Axes>"
            ],
            "image/png": "[encoded data removed]"
          },
          "metadata": {}
        }
      ],
      "source": [
        "test_model_and_graph(NB_model_other, lang_class_other, stop_words_english, [lang_class_other['english'] for x in range(len(stop_words_english))], \n",
        "                  \"Predictions for English Stop Words for Other Lang Class\")"
      ]
    },
    {
      "cell_type": "markdown",
      "metadata": {
        "id": "PSEMEZPeKOk2"
      },
      "source": [
        "Wow and thats what you call underresourced languages haha.... "
      ]
    },
    {
      "cell_type": "code",
      "execution_count": null,
      "metadata": {
        "id": "ig89eHPNKVXR",
        "colab": {
          "base_uri": "https://localhost:8080/",
          "height": 489
        },
        "outputId": "de17f89e-8dc4-4a18-848c-169f7e779516"
      },
      "outputs": [
        {
          "output_type": "stream",
          "name": "stdout",
          "text": [
            "The accuracy is 0.788961038961039\n"
          ]
        },
        {
          "output_type": "display_data",
          "data": {
            "text/plain": [
              "<Figure size 640x480 with 2 Axes>"
            ],
            "image/png": "[encoded data removed]"
          },
          "metadata": {}
        }
      ],
      "source": [
        "test_model_and_graph(NB_model_other, lang_class_other, stop_words_spanish, [lang_class_other['spanish'] for x in range(len(stop_words_spanish))], \n",
        "                  \"Predictions for Spanish Stop Words for Other Lang Class\")"
      ]
    },
    {
      "cell_type": "code",
      "execution_count": null,
      "metadata": {
        "id": "V4SzlSIgKf1V",
        "colab": {
          "base_uri": "https://localhost:8080/",
          "height": 489
        },
        "outputId": "73b03303-ebc7-446a-f70d-14f0d235d381"
      },
      "outputs": [
        {
          "output_type": "stream",
          "name": "stdout",
          "text": [
            "The accuracy is 0.8078817733990148\n"
          ]
        },
        {
          "output_type": "display_data",
          "data": {
            "text/plain": [
              "<Figure size 640x480 with 2 Axes>"
            ],
            "image/png": "[encoded data removed]"
          },
          "metadata": {}
        }
      ],
      "source": [
        "test_model_and_graph(NB_model_other, lang_class_other, stop_words_portuguese, [lang_class_other['portuguese'] for x in range(len(stop_words_portuguese))], \n",
        "                  \"Predictions for Portuguese Stop Words for Other Lang Class\")"
      ]
    },
    {
      "cell_type": "markdown",
      "metadata": {
        "id": "X45xfPOhCcOJ"
      },
      "source": []
    },
    {
      "cell_type": "markdown",
      "metadata": {
        "id": "N3gIVpr4clxt"
      },
      "source": [
        "# FFNN"
      ]
    },
    {
      "cell_type": "code",
      "execution_count": null,
      "metadata": {
        "id": "RGvm4FNXclFc"
      },
      "outputs": [],
      "source": [
        "train_FN_portuguese = tokenized_portuguese[0:round(SCALE_LINES/2)]\n",
        "train_FN_spanish = tokenized_spanish[0:round(SCALE_LINES/2)]\n",
        "train_FN_english = tokenized_english[0:round(SCALE_LINES/2)]\n",
        "train_FN_corpus = train_FN_portuguese + train_FN_spanish + train_FN_english\n",
        "print(len(train_FN_corpus))\n",
        "print(len(train_FN_portuguese))\n",
        "print(len(train_FN_spanish))\n",
        "print(len(train_FN_english))"
      ]
    },
    {
      "cell_type": "code",
      "execution_count": null,
      "metadata": {
        "id": "yXelta9kXOys"
      },
      "outputs": [],
      "source": [
        "labels = []\n",
        "\n",
        "pt1 = 75500\n",
        "pt2 = 75500*2\n",
        "pt3 = 75500*3\n",
        "\n",
        "for i in range(pt3):\n",
        "  if i < pt1:\n",
        "    labels.append(np.array([1,0,0]))\n",
        "  elif i < pt2:\n",
        "    labels.append(np.array([0,1,0]))\n",
        "  elif i < pt3:\n",
        "    labels.append(np.array([0,0,1]))\n",
        "\n",
        "labels = np."
      ]
    },
    {
      "cell_type": "code",
      "execution_count": null,
      "metadata": {
        "id": "6NjTlUhRU6CU"
      },
      "outputs": [],
      "source": [
        "from gensim.models.doc2vec import Doc2Vec, TaggedDocument\n",
        "documents = [TaggedDocument(doc, [i]) for doc, i in zip(train_FN_corpus, labels)]"
      ]
    },
    {
      "cell_type": "code",
      "execution_count": null,
      "metadata": {
        "id": "7HxktZ2yU3hb"
      },
      "outputs": [],
      "source": [
        "from gensim.models.doc2vec import Doc2Vec\n",
        "doc2vec_ffnn = Doc2Vec(documents, vector_size=100, window=5, min_count=1, workers=4)\n",
        "doc2vec_ffnn.save(\"doc2vec_ffnn.model\")"
      ]
    },
    {
      "cell_type": "code",
      "execution_count": null,
      "metadata": {
        "id": "I6_wB6kEZdxs"
      },
      "outputs": [],
      "source": [
        "vec=np.array([doc2vec_ffnn.infer_vector(item) for item in train_FN_corpus])"
      ]
    },
    {
      "cell_type": "code",
      "execution_count": null,
      "metadata": {
        "id": "bozUmp6Ha7fW"
      },
      "outputs": [],
      "source": [
        "vec.shape"
      ]
    },
    {
      "cell_type": "code",
      "execution_count": null,
      "metadata": {
        "id": "uzrMRklmmaPo"
      },
      "outputs": [],
      "source": [
        "nested_labels = []\n",
        "pt2 = 75500*2\n",
        "pt3 = 75500*3\n",
        "for i in range(226500):\n",
        "  if i < 75500:\n",
        "    nested_labels.append(np.array([1, 0, 0]))\n",
        "  elif i < pt2:\n",
        "    nested_labels.append(np.array([0, 1, 0]))\n",
        "  elif i < pt3:\n",
        "    nested_labels.append(np.array([0, 0, 1]))\n",
        "    \n",
        "labels = np.array(labels)\n",
        "\n",
        "nested_labels = np.array(nested_labels)"
      ]
    },
    {
      "cell_type": "code",
      "execution_count": null,
      "metadata": {
        "id": "tYnptSUMjEue"
      },
      "outputs": [],
      "source": [
        "# The code here is a combination of the compile and fit parameters we came up \n",
        "# with ourselves, along with code adapted from the following medium article:\n",
        "# (We just changed the input layer numbers and the output so it could classify)\n",
        "# https://medium.com/@canerkilinc/hands-on-tensorflow-2-0-multi-label-classifications-with-mlp-88fc97d6a7e6\n",
        "ffn_model = tf.keras.models.Sequential([tf.keras.layers.Flatten(), \n",
        "                                    tf.keras.layers.Dense(200, activation='relu'), \n",
        "                                    tf.keras.layers.Dense(64, activation='relu'), \n",
        "                                    tf.keras.layers.Dense(32, activation='relu'), \n",
        "                                    tf.keras.layers.Dense(3, activation='softmax')])\n",
        "\n",
        "# compile model, \n",
        "ffn_model.compile(optimizer=tf.keras.optimizers.Adam(learning_rate=1e-3),\n",
        "                 loss=tf.keras.losses.CategoricalCrossentropy(),\n",
        "                 metrics=['accuracy'])\n",
        "\n",
        "ffn_history = ffn_model.fit(vec, nested_labels, batch_size=128, epochs=100, verbose=1)"
      ]
    },
    {
      "cell_type": "code",
      "execution_count": null,
      "metadata": {
        "id": "nF-GDdiXpdn-"
      },
      "outputs": [],
      "source": [
        "import plotly.express as px\n",
        "\n",
        "px.line(ffn_history.history['accuracy'], labels= {'value' : 'accuracy',\n",
        "                                                  'index' : 'epoch'},\n",
        "        title = 'Accuracy at 128 batch size')"
      ]
    },
    {
      "cell_type": "code",
      "execution_count": null,
      "metadata": {
        "id": "hMz1F84eRuig"
      },
      "outputs": [],
      "source": [
        "px.line(ffn_history.history['loss'], labels= {'value' : 'loss',\n",
        "                                                  'index' : 'epoch'},\n",
        "        title = 'Loss at 128 batch size')"
      ]
    },
    {
      "cell_type": "markdown",
      "metadata": {
        "id": "fovocqjhO-8Q"
      },
      "source": [
        "<h1> RNN </h1>"
      ]
    },
    {
      "cell_type": "code",
      "execution_count": null,
      "metadata": {
        "id": "bwjUhAA8PBbA"
      },
      "outputs": [],
      "source": []
    },
    {
      "cell_type": "markdown",
      "metadata": {
        "id": "rnIpiJWd-ZpS"
      },
      "source": [
        "# RNN"
      ]
    },
    {
      "cell_type": "markdown",
      "metadata": {
        "id": "NeNM-018PZR4"
      },
      "source": [
        "Some references: \n",
        "https://www.tensorflow.org/text/tutorials/text_classification_rnn\n",
        "\n",
        "https://www.tensorflow.org/text/tutorials/text_generation\n",
        "\n",
        "https://www.tensorflow.org/guide/keras/rnn\n",
        "\n",
        "https://www.google.com/search?client=safari&rls=en&q=how+to+make+a+tfds+dataset&ie=UTF-8&oe=UTF-8\n"
      ]
    },
    {
      "cell_type": "code",
      "execution_count": null,
      "metadata": {
        "id": "ZkGIBh-3L_bF"
      },
      "outputs": [],
      "source": [
        "import tensorflow as tf\n",
        "import unicodedata\n",
        "import string\n",
        "import keras\n",
        "\n",
        "from keras.callbacks import Callback\n",
        "! pip install scikit-plot\n",
        "from scikitplot.metrics import plot_confusion_matrix, plot_roc\n",
        "import os\n"
      ]
    },
    {
      "cell_type": "code",
      "execution_count": null,
      "metadata": {
        "id": "f9LMIGeRMFzM"
      },
      "outputs": [],
      "source": [
        "def plot_graphs(history, metric):\n",
        "  plt.plot(history.history[metric])\n",
        "  plt.plot(history.history['val_'+metric], '')\n",
        "  plt.xlabel(\"Epochs\")\n",
        "  plt.ylabel(metric)\n",
        "  plt.legend([metric, 'val_'+metric])"
      ]
    },
    {
      "cell_type": "code",
      "execution_count": null,
      "metadata": {
        "id": "LkqKVBE_NE9G"
      },
      "outputs": [],
      "source": [
        "BUFFER_SIZE = 10000\n",
        "BATCH_SIZE = 64\n",
        "\n",
        "EPOCHS = 5"
      ]
    },
    {
      "cell_type": "markdown",
      "metadata": {
        "id": "E_eGzBL9ak2u"
      },
      "source": [
        "## training the encoder and decoder"
      ]
    },
    {
      "cell_type": "code",
      "execution_count": null,
      "metadata": {
        "id": "0sR535KRUXWW"
      },
      "outputs": [],
      "source": [
        "RNN_corpus = \" \".join(cleaned_portuguese[0:round(SCALE_LINES/2)]) + \" \".join(cleaned_spanish[0:round(SCALE_LINES/2)]) + \" \".join(cleaned_english[0:round(SCALE_LINES/2)])\n",
        "RNN_vocab = list(set(RNN_corpus))\n",
        "print(len(RNN_vocab))\n",
        "# print(RNN_corpus[0:250])\n",
        "print(RNN_vocab[0:100])\n",
        "# print(RNN_vocab[100:200])\n",
        "# print(RNN_vocab[200:300])\n",
        "# print(RNN_vocab[300:342])"
      ]
    },
    {
      "cell_type": "code",
      "execution_count": null,
      "metadata": {
        "id": "ciMkbJsvXdrJ"
      },
      "outputs": [],
      "source": [
        "char_to_enc = tf.keras.layers.StringLookup(\n",
        "    vocabulary=RNN_vocab)"
      ]
    },
    {
      "cell_type": "code",
      "execution_count": null,
      "metadata": {
        "id": "528LnIRZVSN-"
      },
      "outputs": [],
      "source": [
        "enc_to_char = tf.keras.layers.StringLookup(vocabulary=char_to_enc.get_vocabulary(), invert=True)"
      ]
    },
    {
      "cell_type": "code",
      "execution_count": null,
      "metadata": {
        "id": "lledGf-5KZGJ"
      },
      "outputs": [],
      "source": [
        "def encs_to_utf_text(encs):\n",
        "  \"\"\"\n",
        "  encs: list of encodings to turn into full text\n",
        "  \"\"\"\n",
        "  tensor =  tf.strings.reduce_join(enc_to_char(encs), axis=-1)\n",
        "  sentences = tensor.numpy()\n",
        "  sentences = [s.decode(\"UTF-8\") for s in sentences]\n",
        "  return sentences"
      ]
    },
    {
      "cell_type": "markdown",
      "metadata": {
        "id": "D837JdugahoU"
      },
      "source": [
        "## data set up"
      ]
    },
    {
      "cell_type": "code",
      "execution_count": null,
      "metadata": {
        "id": "ClsoZ7eCNKlo"
      },
      "outputs": [],
      "source": [
        "train_RNN_sentences = cleaned_portuguese[0:round(SCALE_LINES/2)] + cleaned_spanish[0:round(SCALE_LINES/2)] + cleaned_english[0:round(SCALE_LINES/2)]\n",
        "test_RNN_sentences = cleaned_english[-(round(SCALE_LINES/2)):] + cleaned_spanish[-(round(SCALE_LINES/2)):] + cleaned_portuguese[-(round(SCALE_LINES/2)):]\n",
        "\n",
        "onehot_lang = {'portuguese': [1, 0, 0], 'spanish': [0, 1, 0], \"english\": [0, 0, 1]}\n",
        "\n",
        "train_RNN_labelss = [onehot_lang['portuguese']] * round(SCALE_LINES/2) + [onehot_lang['spanish']] * round(SCALE_LINES/2)  + [onehot_lang['english']] * round(SCALE_LINES/2)\n",
        "test_RNN_labelss = [onehot_lang['english']] * round(SCALE_LINES/2) + [onehot_lang['spanish']] * round(SCALE_LINES/2)  + [onehot_lang['portuguese']] * round(SCALE_LINES/2)\n",
        "\n",
        "train_RNN_words_pt = [] \n",
        "train_RNN_words_sp = []\n",
        "train_RNN_words_en = []\n",
        "\n",
        "#notes that the words in test_sentences and test_words are NOT the same\n",
        "test_RNN_words_pt = [] \n",
        "test_RNN_words_sp = [] \n",
        "test_RNN_words_en =  [] \n",
        "\n",
        "for i in range(round(SCALE_LINES/2)):\n",
        "  train_RNN_words_pt += cleaned_portuguese[i].split(\" \")\n",
        "  train_RNN_words_sp += cleaned_spanish[i].split(\" \")\n",
        "  train_RNN_words_en += cleaned_english[i].split(\" \")\n",
        "  test_RNN_words_pt += cleaned_portuguese[i+round(SCALE_LINES/2)].split(\" \")\n",
        "  test_RNN_words_sp += cleaned_spanish[i+round(SCALE_LINES/2)].split(\" \")\n",
        "  test_RNN_words_en += cleaned_english[i+round(SCALE_LINES/2)].split(\" \")\n",
        "\n",
        "train_RNN_words = train_RNN_words_pt + train_RNN_words_sp + train_RNN_words_en\n",
        "test_RNN_words = test_RNN_words_pt + test_RNN_words_sp + test_RNN_words_en\n",
        "\n",
        "print(\"words in each language\")\n",
        "print(\"pt\", len(test_RNN_words_pt))\n",
        "print(\"sp\", len(test_RNN_words_sp))\n",
        "print(\"en\", len(test_RNN_words_en))\n",
        "print(\"total: \" + str(len(test_RNN_words_pt) + len(test_RNN_words_sp) + len(test_RNN_words_en)))\n",
        "\n",
        "train_RNN_labelsw = [onehot_lang['portuguese']] * len(train_RNN_words_pt) + [onehot_lang['spanish']] * len(train_RNN_words_sp)  + [onehot_lang['english']] * len(train_RNN_words_en)\n",
        "test_RNN_labelsw = [onehot_lang['portuguese']] * len(test_RNN_words_pt) + [onehot_lang['spanish']] * len(test_RNN_words_sp)  + [onehot_lang['english']] * len(test_RNN_words_en)\n",
        "\n",
        "\n",
        "#stplit all the sentences on each character and make into tensors\n",
        "train_RNN_sentences_dec = tf.strings.unicode_split(\n",
        "    train_RNN_sentences,\n",
        "    input_encoding='UTF-8',\n",
        "    name=\"training input\"\n",
        ")\n",
        "\n",
        "train_RNN_words_dec = tf.strings.unicode_split(\n",
        "    train_RNN_words,\n",
        "    input_encoding='UTF-8',\n",
        "    name=\"training input\"\n",
        ")\n",
        "\n",
        "test_RNN_sentences_dec = tf.strings.unicode_split(\n",
        "    test_RNN_sentences,\n",
        "    input_encoding='UTF-8',\n",
        "    name=\"training input\"\n",
        ")\n",
        "\n",
        "test_RNN_words_dec = tf.strings.unicode_split(\n",
        "    test_RNN_words,\n",
        "    input_encoding='UTF-8',\n",
        "    name=\"training input\"\n",
        ")\n",
        "\n",
        "RNN_corpus_unicode = tf.strings.unicode_split(\n",
        "    RNN_corpus,\n",
        "    input_encoding='UTF-8',\n",
        "    name=\"training corpus\"\n",
        ")\n",
        "\n",
        "#encode all of the training/testing data \n",
        "train_RNN_sentences = char_to_enc(train_RNN_sentences_dec)\n",
        "train_RNN_words = char_to_enc(train_RNN_words_dec)\n",
        "test_RNN_sentences = char_to_enc(test_RNN_sentences_dec)\n",
        "test_RNN_words = char_to_enc(test_RNN_words_dec)"
      ]
    },
    {
      "cell_type": "code",
      "execution_count": null,
      "metadata": {
        "id": "L1Cgk8FKFP7x"
      },
      "outputs": [],
      "source": [
        "# test the enc and decoder \n",
        "\n",
        "print(\"decoded sentences\")\n",
        "print(train_RNN_sentences_dec[0:3])\n",
        "enc_test = char_to_enc(train_RNN_sentences_dec[0:3])\n",
        "\n",
        "print(\"encoded sentences\")\n",
        "print(enc_test)\n",
        "dec_test = enc_to_char(enc_test)\n",
        "\n",
        "print(\"decoded sentences\")\n",
        "print(dec_test)\n",
        "\n",
        "print(\"completley decoded sentences\")\n",
        "print(encs_to_utf_text(enc_test))"
      ]
    },
    {
      "cell_type": "code",
      "execution_count": null,
      "metadata": {
        "id": "2uDQ2wAg8b6T"
      },
      "outputs": [],
      "source": [
        "a = tf.data.Dataset.from_tensor_slices(train_RNN_labelss)\n",
        "b = tf.data.Dataset.from_tensor_slices(train_RNN_sentences)\n",
        "train_RNN_datasets =  tf.data.Dataset.zip((b, a))\n",
        "\n",
        "for example, label in train_RNN_datasets.take(2):\n",
        "  print(example)\n",
        "  print(label)\n",
        "\n",
        "a = tf.data.Dataset.from_tensor_slices(test_RNN_labelss)\n",
        "b = tf.data.Dataset.from_tensor_slices(test_RNN_sentences)\n",
        "test_RNN_datasets =  tf.data.Dataset.zip((b, a))\n",
        "\n",
        "for example, label in test_RNN_datasets.take(2):\n",
        "  print(example)\n",
        "  print(label)\n",
        "\n",
        "a = tf.data.Dataset.from_tensor_slices(train_RNN_labelsw)\n",
        "b = tf.data.Dataset.from_tensor_slices(train_RNN_words)\n",
        "train_RNN_datasetw =  tf.data.Dataset.zip((b, a))\n",
        "\n",
        "a = tf.data.Dataset.from_tensor_slices(test_RNN_labelsw)\n",
        "b = tf.data.Dataset.from_tensor_slices(test_RNN_words)\n",
        "test_RNN_datasetw =  tf.data.Dataset.zip((b, a))\n",
        "\n",
        "\n"
      ]
    },
    {
      "cell_type": "code",
      "execution_count": null,
      "metadata": {
        "id": "w6DUETtE0Hkz"
      },
      "outputs": [],
      "source": []
    },
    {
      "cell_type": "code",
      "execution_count": null,
      "metadata": {
        "id": "PMESuVB7zucz"
      },
      "outputs": [],
      "source": [
        "#batch them\n",
        "train_RNN_datasets = train_RNN_datasets.shuffle(4000)\n",
        "\n",
        "for sample, label in test_RNN_datasets.take(1):\n",
        "  print(sample)\n",
        "  print(encs_to_utf_text([sample]))\n",
        "  print(label)\n",
        "\n",
        "train_RNN_datasets = train_RNN_datasets.batch(BATCH_SIZE).prefetch(tf.data.AUTOTUNE)\n",
        "test_RNN_datasets = test_RNN_datasets.batch(BATCH_SIZE).prefetch(tf.data.AUTOTUNE)\n",
        "\n",
        "train_RNN_datasetw = train_RNN_datasets.shuffle(BUFFER_SIZE).batch(BATCH_SIZE).prefetch(tf.data.AUTOTUNE)\n",
        "test_RNN_datasetw = test_RNN_datasets.batch(BATCH_SIZE).prefetch(tf.data.AUTOTUNE)"
      ]
    },
    {
      "cell_type": "markdown",
      "metadata": {
        "id": "bA4iavSOa2gx"
      },
      "source": [
        "## models set up"
      ]
    },
    {
      "cell_type": "code",
      "execution_count": null,
      "metadata": {
        "id": "h1rWX8uYbDne"
      },
      "outputs": [],
      "source": [
        "#@title Simple RNN Model\n",
        "RNN_model_simple = tf.keras.Sequential([\n",
        "    # char_to_enc, # for some reaon when i try to add the encoder to the model, it doesnt like it for the sumamry\n",
        "    tf.keras.layers.Embedding(\n",
        "        input_dim=len(char_to_enc.get_vocabulary()),\n",
        "        output_dim=BATCH_SIZE),\n",
        "    tf.keras.layers.SimpleRNN(BATCH_SIZE),\n",
        "    tf.keras.layers.Dropout(.3),\n",
        "    tf.keras.layers.Dense(BATCH_SIZE, activation='relu'), \n",
        "    tf.keras.layers.Dropout(.3),\n",
        "    tf.keras.layers.Dense(3, activation='softmax')]) #have 3 outputs that are the probability matrix over the 3 langauge classes\n",
        "\n",
        "RNN_model_simple.summary()"
      ]
    },
    {
      "cell_type": "code",
      "execution_count": null,
      "metadata": {
        "id": "a1G-Qhl9itU2"
      },
      "outputs": [],
      "source": [
        "#@title Bidirectional RNN Model\n",
        "RNN_model_bi = tf.keras.Sequential([\n",
        "    # char_to_enc, # for some reaon when i try to add the encoder to the model, it doesnt like it for the sumamry\n",
        "    tf.keras.layers.Embedding(\n",
        "        input_dim=len(char_to_enc.get_vocabulary()),\n",
        "        output_dim=BATCH_SIZE),\n",
        "    tf.keras.layers.Bidirectional(tf.keras.layers.LSTM(64)),\n",
        "    tf.keras.layers.Dense(BATCH_SIZE, activation='relu'),\n",
        "    tf.keras.layers.Dense(3, activation='softmax')]) #have 3 outputs that are the probability matrix over the 3 langauge classes\n",
        "\n",
        "RNN_model_simple.summary()"
      ]
    },
    {
      "cell_type": "markdown",
      "metadata": {
        "id": "Uc3X6vhwjFX4"
      },
      "source": [
        "## train simple rnn"
      ]
    },
    {
      "cell_type": "code",
      "execution_count": null,
      "metadata": {
        "id": "k_lJmmxRF-WM"
      },
      "outputs": [],
      "source": [
        "RNN_model_simple.compile(loss=tf.keras.losses.CategoricalCrossentropy(),\n",
        "              optimizer=tf.keras.optimizers.Adam(1e-4),\n",
        "              metrics=['accuracy',\n",
        "                       tf.keras.metrics.CategoricalAccuracy(),\n",
        "                       tf.keras.metrics.Recall(),\n",
        "                       tf.keras.metrics.Precision(),])"
      ]
    },
    {
      "cell_type": "code",
      "execution_count": null,
      "metadata": {
        "id": "Rg3NU1C4r7Do"
      },
      "outputs": [],
      "source": [
        "print(EPOCHS)"
      ]
    },
    {
      "cell_type": "code",
      "execution_count": null,
      "metadata": {
        "id": "TOUuCVKRPF0w"
      },
      "outputs": [],
      "source": [
        "RNN_history_simples = RNN_model_simple.fit(train_RNN_datasets, epochs=EPOCHS,\n",
        "                    validation_data=test_RNN_datasets,\n",
        "                    validation_steps=30,)"
      ]
    },
    {
      "cell_type": "code",
      "execution_count": null,
      "metadata": {
        "id": "Rc2vU_wBCpqI"
      },
      "outputs": [],
      "source": [
        "plt.plot(RNN_history_simples.history['accuracy'])\n",
        "plt.plot(RNN_history_simples.history['recall'])\n",
        "plt.plot(RNN_history_simples.history['val_accuracy'])\n",
        "plt.title('Model accuracy')\n",
        "plt.ylabel('Accuracy')\n",
        "plt.xlabel('Epoch')\n",
        "plt.legend(['Train', 'Recall', 'Test'], loc='upper left')\n",
        "plt.show()"
      ]
    },
    {
      "cell_type": "markdown",
      "metadata": {
        "id": "7CjipbUsN_Lj"
      },
      "source": [
        "### test some examples"
      ]
    },
    {
      "cell_type": "code",
      "execution_count": null,
      "metadata": {
        "id": "-G66_5bUVCzR"
      },
      "outputs": [],
      "source": [
        "def output_to_lang(prob_matrix):\n",
        "  \"\"\"\n",
        "  prob_matrix: a matrix with liklihood extimates for each language sape = (1, 3)\n",
        "\n",
        "  returns string of the class representaaion of the highest probbiality index\n",
        "  \"\"\"\n",
        "  p = list(prob_matrix)\n",
        "  m = max(p)\n",
        "  index = p.index(m)\n",
        "  return \"(\" + str(m) + \") \" + lang_class[index]\n",
        "\n",
        "def RNNmodel_smol_tests(model, sentences):\n",
        "  s = tf.strings.unicode_split(\n",
        "    sentences,\n",
        "    input_encoding='UTF-8')\n",
        "  X = char_to_enc(s)\n",
        "  pred = model.predict(X)\n",
        "  [print(sentences[i], \"is\", output_to_lang(pred[i])) for i in range(len(sentences))]\n",
        "\n",
        "RNNmodel_smol_tests(RNN_model_simple, [\"Nicole\", \"Sierra\", \"Buckley\", \"Rodriguez\"])\n",
        "RNNmodel_smol_tests(RNN_model_simple, [\"hello\", \"hola\", \"olá\"])\n",
        "RNNmodel_smol_tests(RNN_model_simple, [\"good morning\", \"buenos días\", \"bom dia\"])\n",
        "\n",
        "RNNmodel_smol_tests(RNN_model_simple, [\"Su novio está cumpliendo una larga condena.\", \n",
        "                                       \"Si me ayudas con el almuerzo, te haré un rico postre.\", \n",
        "                                       \"Si me ganara la lotería, me compraría una casa en Mallorca. \", \n",
        "                                       \"Por favor, me avise quando devo descer\", \n",
        "                                       \"Eu gosto muito de viajar para lugares diferentes e experimentar comidas novas.\", \n",
        "                                       \"Ontem assisti a um filme muito emocionante que me fez chorar no final.\", \n",
        "                                       \"I really enjoy traveling to different places and trying new foods.\", \n",
        "                                       \"Today is a very hot day, so I'm going to the beach to enjoy the sun.\",\n",
        "                                       \"Yesterday I watched a very emotional movie that made me cry at the end.\"])\n"
      ]
    },
    {
      "cell_type": "markdown",
      "metadata": {
        "id": "NH0bbzlxO09G"
      },
      "source": [
        "## train bidirectional rnn"
      ]
    },
    {
      "cell_type": "code",
      "execution_count": null,
      "metadata": {
        "id": "lKEthYPdPG_z"
      },
      "outputs": [],
      "source": [
        "RNN_model_bi.compile(loss=tf.keras.losses.CategoricalCrossentropy(),\n",
        "              optimizer=tf.keras.optimizers.Adam(1e-4),\n",
        "              metrics=['accuracy',\n",
        "                       tf.keras.metrics.CategoricalAccuracy(),\n",
        "                       tf.keras.metrics.Recall(),\n",
        "                       tf.keras.metrics.Precision(),])"
      ]
    },
    {
      "cell_type": "code",
      "execution_count": null,
      "metadata": {
        "id": "FydhtBA0O0HT"
      },
      "outputs": [],
      "source": [
        "RNN_history_bis = RNN_model_bi.fit(train_RNN_datasets, epochs=EPOCHS,\n",
        "                    validation_data=test_RNN_datasets,\n",
        "                    validation_steps=30,)"
      ]
    },
    {
      "cell_type": "code",
      "execution_count": null,
      "metadata": {
        "id": "QVPVHvU1O0HW"
      },
      "outputs": [],
      "source": [
        "plt.plot(RNN_history_bis.history['accuracy'])\n",
        "plt.plot(RNN_history_bis.history['recall'])\n",
        "plt.plot(RNN_history_bis.history['val_accuracy'])\n",
        "plt.title('Model accuracy')\n",
        "plt.ylabel('Accuracy')\n",
        "plt.xlabel('Epoch')\n",
        "plt.legend(['Train', 'Recall', 'Test'], loc='upper left')\n",
        "plt.show()"
      ]
    },
    {
      "cell_type": "markdown",
      "metadata": {
        "id": "g_bCO_VcPPBc"
      },
      "source": [
        "### test some examples"
      ]
    },
    {
      "cell_type": "code",
      "execution_count": null,
      "metadata": {
        "id": "KIuXC3E5PPBf"
      },
      "outputs": [],
      "source": [
        "RNNmodel_smol_tests(RNN_model_bi, [\"Nicole\", \"Sierra\", \"Buckley\", \"Rodriguez\"])\n",
        "RNNmodel_smol_tests(RNN_model_bi, [\"hello\", \"hola\", \"olá\"])\n",
        "RNNmodel_smol_tests(RNN_model_bi, [\"good morning\", \"buenos días\", \"bom dia\"])\n",
        "\n",
        "RNNmodel_smol_tests(RNN_model_bi, [\"Su novio está cumpliendo una larga condena.\", \n",
        "                                       \"Si me ayudas con el almuerzo, te haré un rico postre.\", \n",
        "                                       \"Si me ganara la lotería, me compraría una casa en Mallorca. \", \n",
        "                                       \"Por favor, me avise quando devo descer\", \n",
        "                                       \"Eu gosto muito de viajar para lugares diferentes e experimentar comidas novas.\", \n",
        "                                       \"Ontem assisti a um filme muito emocionante que me fez chorar no final.\", \n",
        "                                       \"I really enjoy traveling to different places and trying new foods.\", \n",
        "                                       \"Today is a very hot day, so I'm going to the beach to enjoy the sun.\",\n",
        "                                       \"Yesterday I watched a very emotional movie that made me cry at the end.\"])\n"
      ]
    }
  ],
  "metadata": {
    "colab": {
      "provenance": []
    },
    "kernelspec": {
      "display_name": "Python 3",
      "name": "python3"
    },
    "language_info": {
      "name": "python"
    }
  },
  "nbformat": 4,
  "nbformat_minor": 0
}